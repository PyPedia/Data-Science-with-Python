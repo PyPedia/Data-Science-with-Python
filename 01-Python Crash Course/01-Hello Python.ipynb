{
 "cells": [
  {
   "cell_type": "markdown",
   "id": "1f3292e2-ab02-4cf0-8bfa-aaa529bccf8b",
   "metadata": {},
   "source": [
    "This course covers the key Python skills you’ll need so you can start using Python for data science. The course is ideal for someone with some previous coding experience who wants to add Python to their repertoire.\n",
    "\n",
    "We'll start with a brief overview of Python syntax, variable assignment, and arithmetic operators."
   ]
  },
  {
   "cell_type": "markdown",
   "id": "6910f205-3931-43cf-a421-9f529ef8b982",
   "metadata": {},
   "source": [
    "**Hello, Python!**\n",
    "\n",
    "Python was named for the British comedy troupe Monty Python, so we'll make our first Python program a homage to their skit about Spam.\n",
    "\n",
    "Just for fun, try reading over the code below and predicting what it's going to do when run. (If you have no idea, that's fine!)"
   ]
  },
  {
   "cell_type": "code",
   "execution_count": 1,
   "id": "8e7f3a47-7243-4849-a66a-925afe450cd3",
   "metadata": {},
   "outputs": [
    {
     "name": "stdout",
     "output_type": "stream",
     "text": [
      "0\n",
      "But I don't want ANY spam!\n",
      "Spam Spam Spam Spam \n"
     ]
    }
   ],
   "source": [
    "spam_amount = 0\n",
    "print(spam_amount)\n",
    "\n",
    "# Ordering Spam, egg, Spam, Spam, bacon and Spam (4 more servings of Spam)\n",
    "spam_amount = spam_amount + 4\n",
    "\n",
    "if spam_amount > 0:\n",
    "    print(\"But I don't want ANY spam!\")\n",
    "\n",
    "viking_song = \"Spam \" * spam_amount\n",
    "print(viking_song)"
   ]
  },
  {
   "cell_type": "markdown",
   "id": "94b64c74-0005-46b2-9237-768e94459651",
   "metadata": {},
   "source": [
    "There's a lot to unpack here! This silly program demonstrates many important aspects of what Python code looks like and how it works. Let's review the code from top to bottom."
   ]
  },
  {
   "cell_type": "code",
   "execution_count": 2,
   "id": "7e658879-fda3-470d-85d1-8269152a4a76",
   "metadata": {},
   "outputs": [],
   "source": [
    "spam_amount = 0"
   ]
  },
  {
   "cell_type": "markdown",
   "id": "656a8479-4b95-4a12-a94f-a866058459ba",
   "metadata": {},
   "source": [
    "**Variable assignment:**\n",
    "\n",
    "Here we create a variable called *spam_amount* and assign it the value of 0 using =, which is called the assignment operator.\n",
    "\n",
    "**Note:** \n",
    "\n",
    "If you've programmed in certain other languages (like Java or C++), you might be noticing some things Python doesn't require us to do here:\n",
    "* we don't need to \"declare\" spam_amount before assigning to it\n",
    "* we don't need to tell Python what type of value spam_amount is going to refer to. In fact, we can even go on to reassign spam_amount to refer to a different sort of thing like a string or a boolean."
   ]
  },
  {
   "cell_type": "code",
   "execution_count": 3,
   "id": "2861adc3-22ee-4c51-8cb1-34df76c2d2fd",
   "metadata": {},
   "outputs": [
    {
     "name": "stdout",
     "output_type": "stream",
     "text": [
      "0\n"
     ]
    }
   ],
   "source": [
    "print(spam_amount)"
   ]
  },
  {
   "cell_type": "markdown",
   "id": "8163edce-891d-4369-a7a6-4a8d01cbfcca",
   "metadata": {},
   "source": [
    "**Function calls:**\n",
    "\n",
    "print is a Python function that displays the value passed to it on the screen. We call functions by putting parentheses after their name, and putting the inputs (or arguments) to the function in those parentheses."
   ]
  },
  {
   "cell_type": "code",
   "execution_count": 4,
   "id": "61a9c7c4-a286-4959-97e6-456ca0d07c04",
   "metadata": {},
   "outputs": [],
   "source": [
    "# Ordering Spam, egg, Spam, Spam, bacon and Spam (4 more servings of Spam)\n",
    "spam_amount = spam_amount + 4"
   ]
  },
  {
   "cell_type": "markdown",
   "id": "6f6583cc-f531-456e-8742-d2fe82843b08",
   "metadata": {},
   "source": [
    "The first line above is a *comment*. In Python, comments begin with the # symbol.\n",
    "\n",
    "Next we see an example of reassignment. Reassigning the value of an existing variable looks just the same as creating a variable - it still uses the = assignment operator.\n",
    "\n",
    "In this case, the value we're assigning to spam_amount involves some simple arithmetic on its previous value. When it encounters this line, Python evaluates the expression on the right-hand-side of the = (0 + 4 = 4), and then assigns that value to the variable on the left-hand-side."
   ]
  },
  {
   "cell_type": "code",
   "execution_count": 5,
   "id": "e65dd0f3-3b2e-4e3b-a0a8-a95dddf6b59a",
   "metadata": {},
   "outputs": [
    {
     "name": "stdout",
     "output_type": "stream",
     "text": [
      "But I don't want ANY spam!\n",
      "Spam Spam Spam\n"
     ]
    }
   ],
   "source": [
    "if spam_amount > 0:\n",
    "    print(\"But I don't want ANY spam!\")\n",
    "\n",
    "viking_song = \"Spam Spam Spam\"\n",
    "print(viking_song)"
   ]
  },
  {
   "cell_type": "markdown",
   "id": "a8617541-6e68-408e-90c0-69a512a5ed0d",
   "metadata": {},
   "source": [
    "We won't talk much about \"conditionals\" until later, but, even if you've never coded before, you can probably guess what this does. Python is prized for its *readability* and the *simplicity*.\n",
    "\n",
    "Note how we indicated which code belongs to the if. \"But I don't want ANY spam!\" is only supposed to be printed if spam_amount is positive. But the later code (like print(viking_song)) should be executed no matter what. How do we (and Python) know that?\n",
    "\n",
    "The colon (:) at the end of the if line indicates that a new code block is starting. Subsequent lines which are indented are part of that code block.\n",
    "\n",
    "**Note:**\n",
    "\n",
    "If you've coded before, you might know that some other languages use {curly braces} to mark the beginning and end of code blocks. Python's use of meaningful whitespace can be surprising to programmers who are accustomed to other languages, but in practice it can lead to more consistent and readable code than languages that do not enforce indentation of code blocks.\n",
    "\n",
    "The later lines dealing with viking_song are not indented with an extra 4 spaces, so they're not a part of the if's code block. We'll see more examples of indented code blocks later when we define functions and using loops.\r\n",
    "\r\n",
    "This code snippet is also our first sighting of a string in Python:"
   ]
  },
  {
   "cell_type": "code",
   "execution_count": null,
   "id": "6d5de0d7-2d67-4a74-bdbf-9243dc5b96b0",
   "metadata": {},
   "outputs": [],
   "source": [
    "\"But I don't want ANY spam!\""
   ]
  },
  {
   "cell_type": "markdown",
   "id": "9e889da8-d876-4cc2-9ad5-02b25d0880b4",
   "metadata": {},
   "source": [
    "Strings can be marked either by *double or single quotation marks*. (But because this particular string contains a single-quote character, we might confuse Python by trying to surround it with single-quotes, unless we're careful.)"
   ]
  },
  {
   "cell_type": "code",
   "execution_count": 6,
   "id": "be0b38c3-f491-4d93-9aa4-e27a7351d6fc",
   "metadata": {},
   "outputs": [
    {
     "name": "stdout",
     "output_type": "stream",
     "text": [
      "Spam Spam Spam Spam \n"
     ]
    }
   ],
   "source": [
    "viking_song = \"Spam \" * spam_amount\n",
    "print(viking_song)"
   ]
  },
  {
   "cell_type": "markdown",
   "id": "91ba72b8-2aee-4509-9072-fda6adc32181",
   "metadata": {},
   "source": [
    "The * operator can be used to multiply two numbers (3 * 3 evaluates to 9), but we can also multiply a string by a number, to get a version that's been repeated that many times. Python offers a number of cheeky little time-saving tricks like this where operators like * and + have a different meaning depending on what kind of thing they're applied to."
   ]
  },
  {
   "cell_type": "markdown",
   "id": "b99b242e-5879-4575-b33d-4a17579d7a0f",
   "metadata": {},
   "source": [
    "**Numbers and arithmetic in Python**\n",
    "\r\n",
    "We've already seen an example of a variable containing a number above:"
   ]
  },
  {
   "cell_type": "code",
   "execution_count": 7,
   "id": "96e0502c-e8cc-4c62-8b4d-666d62d80574",
   "metadata": {},
   "outputs": [],
   "source": [
    "spam_amount = 0"
   ]
  },
  {
   "cell_type": "markdown",
   "id": "d24e15c3-af0b-494f-acea-96f7af57caaa",
   "metadata": {},
   "source": [
    "\"Number\" is a fine informal name for the kind of thing, but if we wanted to be more technical, we could ask Python how it would describe the type of thing that spam_amount is:"
   ]
  },
  {
   "cell_type": "code",
   "execution_count": 8,
   "id": "0288005e-e852-4439-92cd-12aa85a61493",
   "metadata": {},
   "outputs": [
    {
     "data": {
      "text/plain": [
       "int"
      ]
     },
     "execution_count": 8,
     "metadata": {},
     "output_type": "execute_result"
    }
   ],
   "source": [
    "type(spam_amount)"
   ]
  },
  {
   "cell_type": "markdown",
   "id": "e6f1d312-f79b-4066-b349-49717cedd36d",
   "metadata": {},
   "source": [
    "It's an int - short for integer. There's another sort of number we commonly encounter in Python:"
   ]
  },
  {
   "cell_type": "code",
   "execution_count": 9,
   "id": "b423cd4e-210f-4363-9af2-5d4c35aafc06",
   "metadata": {},
   "outputs": [
    {
     "data": {
      "text/plain": [
       "float"
      ]
     },
     "execution_count": 9,
     "metadata": {},
     "output_type": "execute_result"
    }
   ],
   "source": [
    "type(19.95)"
   ]
  },
  {
   "cell_type": "markdown",
   "id": "81960dbb-b8b9-4fa8-b7fb-9bb4244b3994",
   "metadata": {},
   "source": [
    "A float is a number with a decimal place - very useful for representing things like weights or proportions.\n",
    "\n",
    "*type()* is the second built-in function we've seen (after *print()*), and it's another good one to remember. It's very useful to be able to ask Python \"what kind of thing is this?\".\n",
    "\n",
    "A natural thing to want to do with numbers is perform arithmetic. We've seen the + operator for addition, and the * operator for multiplication. Python also has us covered for the rest of the basic buttons on your calculator:\n",
    "\n",
    "| Operator | Name | Description |\r\n",
    "| --- | --- | --- \n",
    "| a + b | Addition | Sum of a and b |\n",
    "| a - b | Subtraction | Difference of a and b |\n",
    "| a * b | Multiplication | Product of a and b |\n",
    "| a / b | True division\t | Quotient of a and b |\n",
    "| a // b | Floor division | Quotient of a and b, removing fractional parts |\n",
    "| a % b | Modulus | Integer remainder after division of a by b |\n",
    "| a ** b | Exponentiation | a raised to the power of b |\n",
    "| -a | Negation | The negative of a ||"
   ]
  },
  {
   "cell_type": "markdown",
   "id": "d5a39d1e-e83d-47b6-985a-f35f74905b48",
   "metadata": {},
   "source": [
    "One interesting observation here is that, whereas your calculator probably just has one button for division, Python can do two kinds. \"True division\" is basically what your calculator does:"
   ]
  },
  {
   "cell_type": "code",
   "execution_count": 10,
   "id": "93ba3eec-d0a1-4341-b586-5a657637c56e",
   "metadata": {},
   "outputs": [
    {
     "name": "stdout",
     "output_type": "stream",
     "text": [
      "2.5\n",
      "3.0\n"
     ]
    }
   ],
   "source": [
    "print(5 / 2)\n",
    "print(6 / 2)"
   ]
  },
  {
   "cell_type": "markdown",
   "id": "84242208-4204-4dcc-ac35-b46a523e2caa",
   "metadata": {},
   "source": [
    "It always gives us a float.\n",
    "\n",
    "The // operator gives us a result that's rounded down to the next integer."
   ]
  },
  {
   "cell_type": "code",
   "execution_count": 11,
   "id": "f509dca7-e983-4862-b247-1138dac830aa",
   "metadata": {},
   "outputs": [
    {
     "name": "stdout",
     "output_type": "stream",
     "text": [
      "2\n",
      "3\n"
     ]
    }
   ],
   "source": [
    "print(5 // 2)\n",
    "print(6 // 2)"
   ]
  },
  {
   "cell_type": "markdown",
   "id": "9d3b4c3a-ca75-408b-b342-544eeb560367",
   "metadata": {},
   "source": [
    "**Order of operations**\n",
    "\r\n",
    "The arithmetic we learned in primary school has conventions about the order in which operations are evaluated. Some remember these by a mnemonic such as PEMDAS - Parentheses, Exponents, Multiplication/Division, Addition/Subtraction.\r\n",
    "\r\n",
    "Python follows similar rules about which calculations to perform first. They're mostly pretty intuitive."
   ]
  },
  {
   "cell_type": "code",
   "execution_count": 12,
   "id": "7b88806d-53e0-43a2-b653-97aee483d0ca",
   "metadata": {},
   "outputs": [
    {
     "data": {
      "text/plain": [
       "7"
      ]
     },
     "execution_count": 12,
     "metadata": {},
     "output_type": "execute_result"
    }
   ],
   "source": [
    "8 - 3 + 2"
   ]
  },
  {
   "cell_type": "code",
   "execution_count": 13,
   "id": "b621cfd6-0df1-4ee4-9dd9-10fc11b52a24",
   "metadata": {},
   "outputs": [
    {
     "data": {
      "text/plain": [
       "5"
      ]
     },
     "execution_count": 13,
     "metadata": {},
     "output_type": "execute_result"
    }
   ],
   "source": [
    "-3 + 4 * 2"
   ]
  },
  {
   "cell_type": "markdown",
   "id": "696150cf-5b71-4a85-b5f2-4655be44a65d",
   "metadata": {},
   "source": [
    "Sometimes the default order of operations isn't what we want:"
   ]
  },
  {
   "cell_type": "code",
   "execution_count": 14,
   "id": "20a1fa67-d8cc-4de2-983c-2ba6d966680a",
   "metadata": {},
   "outputs": [
    {
     "name": "stdout",
     "output_type": "stream",
     "text": [
      "Height in meters = 26.9 ?\n"
     ]
    }
   ],
   "source": [
    "hat_height_cm = 25\n",
    "my_height_cm = 190\n",
    "# How tall am I, in meters, when wearing my hat?\n",
    "total_height_meters = hat_height_cm + my_height_cm / 100\n",
    "print(\"Height in meters =\", total_height_meters, \"?\")"
   ]
  },
  {
   "cell_type": "markdown",
   "id": "6c5c16b7-5bff-40ba-91df-f93e3a6bb091",
   "metadata": {},
   "source": [
    "Parentheses are useful here. You can add them to force Python to evaluate sub-expressions in whatever order you want."
   ]
  },
  {
   "cell_type": "code",
   "execution_count": 15,
   "id": "94a2a77a-f0b3-48a6-b343-17faca8c06e9",
   "metadata": {},
   "outputs": [
    {
     "name": "stdout",
     "output_type": "stream",
     "text": [
      "Height in meters = 2.15\n"
     ]
    }
   ],
   "source": [
    "total_height_meters = (hat_height_cm + my_height_cm) / 100\n",
    "print(\"Height in meters =\", total_height_meters)"
   ]
  },
  {
   "cell_type": "markdown",
   "id": "f16cd9d9-a4bc-4073-b4c2-840662a11206",
   "metadata": {},
   "source": [
    "**Builtin functions for working with numbers**\n",
    "\n",
    "*min* and *max* return the minimum and maximum of their arguments, respectively..."
   ]
  },
  {
   "cell_type": "code",
   "execution_count": 16,
   "id": "897595d8-20b1-49ab-aef3-ffe94a09f50e",
   "metadata": {},
   "outputs": [
    {
     "name": "stdout",
     "output_type": "stream",
     "text": [
      "1\n",
      "3\n"
     ]
    }
   ],
   "source": [
    "print(min(1, 2, 3))\n",
    "print(max(1, 2, 3))"
   ]
  },
  {
   "cell_type": "markdown",
   "id": "0d9de772-424f-45bb-8683-a746eb250a9a",
   "metadata": {},
   "source": [
    "*abs* returns the absolute value of an argument:"
   ]
  },
  {
   "cell_type": "code",
   "execution_count": 17,
   "id": "20be0863-f6fd-447d-a242-73a92b1eedb9",
   "metadata": {},
   "outputs": [
    {
     "name": "stdout",
     "output_type": "stream",
     "text": [
      "32\n",
      "32\n"
     ]
    }
   ],
   "source": [
    "print(abs(32))\n",
    "print(abs(-32))"
   ]
  },
  {
   "cell_type": "markdown",
   "id": "8e25e55f-b7a2-4989-b3a5-3014e84e1124",
   "metadata": {},
   "source": [
    "In addition to being the names of Python's two main numerical types, int and float can also be called as functions which convert their arguments to the corresponding type:"
   ]
  },
  {
   "cell_type": "code",
   "execution_count": 18,
   "id": "30f1b281-8871-4003-88ce-2a1dd44db7d8",
   "metadata": {},
   "outputs": [
    {
     "name": "stdout",
     "output_type": "stream",
     "text": [
      "10.0\n",
      "3\n",
      "808\n"
     ]
    }
   ],
   "source": [
    "print(float(10))\n",
    "print(int(3.33))\n",
    "# They can even be called on strings!\n",
    "print(int('807') + 1)"
   ]
  }
 ],
 "metadata": {
  "kernelspec": {
   "display_name": "Python 3 (ipykernel)",
   "language": "python",
   "name": "python3"
  },
  "language_info": {
   "codemirror_mode": {
    "name": "ipython",
    "version": 3
   },
   "file_extension": ".py",
   "mimetype": "text/x-python",
   "name": "python",
   "nbconvert_exporter": "python",
   "pygments_lexer": "ipython3",
   "version": "3.12.2"
  }
 },
 "nbformat": 4,
 "nbformat_minor": 5
}
