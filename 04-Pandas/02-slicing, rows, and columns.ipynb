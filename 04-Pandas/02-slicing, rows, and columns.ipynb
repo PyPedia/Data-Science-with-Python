{
 "cells": [
  {
   "cell_type": "markdown",
   "id": "0d5c88e2-e19c-4113-a072-737d4c4b7db2",
   "metadata": {},
   "source": [
    "## Goal\n",
    "Master slicing, row selection, and column selection in pandas—core skills for cleaning and preparing data for Machine Learning."
   ]
  },
  {
   "cell_type": "markdown",
   "id": "312c2a18-aec8-4536-b880-532b1084f537",
   "metadata": {},
   "source": [
    "## Step 0: Import Pandas and Create a Sample DataFrame"
   ]
  },
  {
   "cell_type": "code",
   "execution_count": 1,
   "id": "fe526a52-c22f-42ab-8b46-d7ff4c32b032",
   "metadata": {},
   "outputs": [
    {
     "name": "stdout",
     "output_type": "stream",
     "text": [
      "      Name  Age  Score  Passed\n",
      "0    Alice   25   85.5    True\n",
      "1      Bob   30   90.3    True\n",
      "2  Charlie   35   78.4   False\n",
      "3    David   40   92.1    True\n",
      "4      Eva   45   88.0    True\n"
     ]
    }
   ],
   "source": [
    "import pandas as pd\n",
    "\n",
    "data = {\n",
    "    'Name': ['Alice', 'Bob', 'Charlie', 'David', 'Eva'],\n",
    "    'Age': [25, 30, 35, 40, 45],\n",
    "    'Score': [85.5, 90.3, 78.4, 92.1, 88.0],\n",
    "    'Passed': [True, True, False, True, True]\n",
    "}\n",
    "\n",
    "df = pd.DataFrame(data)\n",
    "print(df)"
   ]
  },
  {
   "cell_type": "markdown",
   "id": "20189584-7172-47c6-b50d-6b0c201a6acc",
   "metadata": {},
   "source": [
    "## Step 1: Selecting Columns\n",
    "\n",
    "**Select one column (returns a Series)**"
   ]
  },
  {
   "cell_type": "code",
   "execution_count": 2,
   "id": "658a5fc2-9f13-40f0-9ba9-acd8dc3cfd47",
   "metadata": {},
   "outputs": [
    {
     "data": {
      "text/plain": [
       "0      Alice\n",
       "1        Bob\n",
       "2    Charlie\n",
       "3      David\n",
       "4        Eva\n",
       "Name: Name, dtype: object"
      ]
     },
     "execution_count": 2,
     "metadata": {},
     "output_type": "execute_result"
    }
   ],
   "source": [
    "df['Name']"
   ]
  },
  {
   "cell_type": "markdown",
   "id": "f4f81b6d-c1aa-4af0-805a-3bd4209a7159",
   "metadata": {},
   "source": [
    "**Select multiple columns (returns a DataFrame)**"
   ]
  },
  {
   "cell_type": "code",
   "execution_count": 3,
   "id": "11c27efb-d3c5-4ef5-b4e5-84fd0773321b",
   "metadata": {},
   "outputs": [
    {
     "data": {
      "text/html": [
       "<div>\n",
       "<style scoped>\n",
       "    .dataframe tbody tr th:only-of-type {\n",
       "        vertical-align: middle;\n",
       "    }\n",
       "\n",
       "    .dataframe tbody tr th {\n",
       "        vertical-align: top;\n",
       "    }\n",
       "\n",
       "    .dataframe thead th {\n",
       "        text-align: right;\n",
       "    }\n",
       "</style>\n",
       "<table border=\"1\" class=\"dataframe\">\n",
       "  <thead>\n",
       "    <tr style=\"text-align: right;\">\n",
       "      <th></th>\n",
       "      <th>Name</th>\n",
       "      <th>Score</th>\n",
       "    </tr>\n",
       "  </thead>\n",
       "  <tbody>\n",
       "    <tr>\n",
       "      <th>0</th>\n",
       "      <td>Alice</td>\n",
       "      <td>85.5</td>\n",
       "    </tr>\n",
       "    <tr>\n",
       "      <th>1</th>\n",
       "      <td>Bob</td>\n",
       "      <td>90.3</td>\n",
       "    </tr>\n",
       "    <tr>\n",
       "      <th>2</th>\n",
       "      <td>Charlie</td>\n",
       "      <td>78.4</td>\n",
       "    </tr>\n",
       "    <tr>\n",
       "      <th>3</th>\n",
       "      <td>David</td>\n",
       "      <td>92.1</td>\n",
       "    </tr>\n",
       "    <tr>\n",
       "      <th>4</th>\n",
       "      <td>Eva</td>\n",
       "      <td>88.0</td>\n",
       "    </tr>\n",
       "  </tbody>\n",
       "</table>\n",
       "</div>"
      ],
      "text/plain": [
       "      Name  Score\n",
       "0    Alice   85.5\n",
       "1      Bob   90.3\n",
       "2  Charlie   78.4\n",
       "3    David   92.1\n",
       "4      Eva   88.0"
      ]
     },
     "execution_count": 3,
     "metadata": {},
     "output_type": "execute_result"
    }
   ],
   "source": [
    "df[['Name', 'Score']]"
   ]
  },
  {
   "cell_type": "markdown",
   "id": "b0b011cc-2620-4614-a69b-3011202860f0",
   "metadata": {},
   "source": [
    "**Practical Tip:**\n",
    "\n",
    "Use column selection before feeding data to a model, for example:"
   ]
  },
  {
   "cell_type": "code",
   "execution_count": 6,
   "id": "6c698c38-1633-4204-95ed-dc3f31cda413",
   "metadata": {},
   "outputs": [
    {
     "name": "stdout",
     "output_type": "stream",
     "text": [
      "   Age  Score\n",
      "0   25   85.5\n",
      "1   30   90.3\n",
      "2   35   78.4\n",
      "3   40   92.1\n",
      "4   45   88.0\n"
     ]
    }
   ],
   "source": [
    "X = df[['Age', 'Score']]   # Features\n",
    "print(X)"
   ]
  },
  {
   "cell_type": "code",
   "execution_count": 7,
   "id": "6ef931f5-a205-4331-a6f0-d92300e466ca",
   "metadata": {},
   "outputs": [
    {
     "name": "stdout",
     "output_type": "stream",
     "text": [
      "0     True\n",
      "1     True\n",
      "2    False\n",
      "3     True\n",
      "4     True\n",
      "Name: Passed, dtype: bool\n"
     ]
    }
   ],
   "source": [
    "Y = df['Passed']           # Target\n",
    "print(Y)"
   ]
  },
  {
   "cell_type": "markdown",
   "id": "4a139287-7e3e-4d24-96ed-ce3c3bc54480",
   "metadata": {},
   "source": [
    "## Step 2: Slicing Rows by Index\n",
    "\n",
    "**Syntax: df[start:end]**"
   ]
  },
  {
   "cell_type": "code",
   "execution_count": 8,
   "id": "a73a9d8e-d4a6-4491-bf00-f0946c3f3a43",
   "metadata": {},
   "outputs": [
    {
     "data": {
      "text/html": [
       "<div>\n",
       "<style scoped>\n",
       "    .dataframe tbody tr th:only-of-type {\n",
       "        vertical-align: middle;\n",
       "    }\n",
       "\n",
       "    .dataframe tbody tr th {\n",
       "        vertical-align: top;\n",
       "    }\n",
       "\n",
       "    .dataframe thead th {\n",
       "        text-align: right;\n",
       "    }\n",
       "</style>\n",
       "<table border=\"1\" class=\"dataframe\">\n",
       "  <thead>\n",
       "    <tr style=\"text-align: right;\">\n",
       "      <th></th>\n",
       "      <th>Name</th>\n",
       "      <th>Age</th>\n",
       "      <th>Score</th>\n",
       "      <th>Passed</th>\n",
       "    </tr>\n",
       "  </thead>\n",
       "  <tbody>\n",
       "    <tr>\n",
       "      <th>1</th>\n",
       "      <td>Bob</td>\n",
       "      <td>30</td>\n",
       "      <td>90.3</td>\n",
       "      <td>True</td>\n",
       "    </tr>\n",
       "    <tr>\n",
       "      <th>2</th>\n",
       "      <td>Charlie</td>\n",
       "      <td>35</td>\n",
       "      <td>78.4</td>\n",
       "      <td>False</td>\n",
       "    </tr>\n",
       "    <tr>\n",
       "      <th>3</th>\n",
       "      <td>David</td>\n",
       "      <td>40</td>\n",
       "      <td>92.1</td>\n",
       "      <td>True</td>\n",
       "    </tr>\n",
       "  </tbody>\n",
       "</table>\n",
       "</div>"
      ],
      "text/plain": [
       "      Name  Age  Score  Passed\n",
       "1      Bob   30   90.3    True\n",
       "2  Charlie   35   78.4   False\n",
       "3    David   40   92.1    True"
      ]
     },
     "execution_count": 8,
     "metadata": {},
     "output_type": "execute_result"
    }
   ],
   "source": [
    "df[1:4]   # rows with index 1, 2, 3"
   ]
  },
  {
   "cell_type": "markdown",
   "id": "827943ce-afdf-4dd8-9832-e4013af946a8",
   "metadata": {},
   "source": [
    "**NOTE:**\n",
    "  \n",
    "* start is inclusive\n",
    "* end is exclusive\n",
    "* This uses the default integer index, not the row labels."
   ]
  },
  {
   "cell_type": "markdown",
   "id": "03ab1c3e-9c85-4a32-a548-10577ea3cf44",
   "metadata": {},
   "source": [
    "## Step 3: Row Selection with .loc[] and .iloc[]\n",
    "\n",
    "**df.loc[row_label, column_label]**"
   ]
  },
  {
   "cell_type": "code",
   "execution_count": 10,
   "id": "a1e190ed-6eea-47c9-b509-cf19a7f2c3e0",
   "metadata": {},
   "outputs": [
    {
     "data": {
      "text/plain": [
       "Name      Charlie\n",
       "Age            35\n",
       "Score        78.4\n",
       "Passed      False\n",
       "Name: 2, dtype: object"
      ]
     },
     "execution_count": 10,
     "metadata": {},
     "output_type": "execute_result"
    }
   ],
   "source": [
    "df.loc[2]         # Row with label 2 (i.e., Charlie's data)"
   ]
  },
  {
   "cell_type": "code",
   "execution_count": 11,
   "id": "47d25d27-baf8-4af5-85c1-dcb1bb64864e",
   "metadata": {},
   "outputs": [
    {
     "data": {
      "text/plain": [
       "78.4"
      ]
     },
     "execution_count": 11,
     "metadata": {},
     "output_type": "execute_result"
    }
   ],
   "source": [
    "df.loc[2, 'Score']  # Only Charlie's score"
   ]
  },
  {
   "cell_type": "markdown",
   "id": "61ee964f-b3f1-4c03-9590-fe95f00a0337",
   "metadata": {},
   "source": [
    "**df.iloc[row_index, column_index]**\n",
    "\n",
    "Used for position-based indexing."
   ]
  },
  {
   "cell_type": "code",
   "execution_count": 12,
   "id": "3598a087-f72b-48c4-9e0e-7c255bcc204c",
   "metadata": {},
   "outputs": [
    {
     "data": {
      "text/plain": [
       "Name      Charlie\n",
       "Age            35\n",
       "Score        78.4\n",
       "Passed      False\n",
       "Name: 2, dtype: object"
      ]
     },
     "execution_count": 12,
     "metadata": {},
     "output_type": "execute_result"
    }
   ],
   "source": [
    "df.iloc[2]         # Same as above"
   ]
  },
  {
   "cell_type": "code",
   "execution_count": 13,
   "id": "38692f67-29fd-48c4-8efc-8fdf7e8d9b1c",
   "metadata": {},
   "outputs": [
    {
     "data": {
      "text/plain": [
       "78.4"
      ]
     },
     "execution_count": 13,
     "metadata": {},
     "output_type": "execute_result"
    }
   ],
   "source": [
    "df.iloc[2, 2]      # Row 2, Column 2 (Score)"
   ]
  },
  {
   "cell_type": "markdown",
   "id": "66901581-60d7-4704-a6a9-1abcc7591a79",
   "metadata": {},
   "source": [
    "## Step 4: Slicing Rows and Columns Together"
   ]
  },
  {
   "cell_type": "markdown",
   "id": "db99a6f9-b7d5-49a7-95a4-8a4fc2397426",
   "metadata": {},
   "source": [
    "**Use .loc[] for labels:**"
   ]
  },
  {
   "cell_type": "code",
   "execution_count": 15,
   "id": "113beb87-bb9f-4477-b358-feed556326d9",
   "metadata": {},
   "outputs": [
    {
     "data": {
      "text/html": [
       "<div>\n",
       "<style scoped>\n",
       "    .dataframe tbody tr th:only-of-type {\n",
       "        vertical-align: middle;\n",
       "    }\n",
       "\n",
       "    .dataframe tbody tr th {\n",
       "        vertical-align: top;\n",
       "    }\n",
       "\n",
       "    .dataframe thead th {\n",
       "        text-align: right;\n",
       "    }\n",
       "</style>\n",
       "<table border=\"1\" class=\"dataframe\">\n",
       "  <thead>\n",
       "    <tr style=\"text-align: right;\">\n",
       "      <th></th>\n",
       "      <th>Name</th>\n",
       "      <th>Score</th>\n",
       "    </tr>\n",
       "  </thead>\n",
       "  <tbody>\n",
       "    <tr>\n",
       "      <th>1</th>\n",
       "      <td>Bob</td>\n",
       "      <td>90.3</td>\n",
       "    </tr>\n",
       "    <tr>\n",
       "      <th>2</th>\n",
       "      <td>Charlie</td>\n",
       "      <td>78.4</td>\n",
       "    </tr>\n",
       "    <tr>\n",
       "      <th>3</th>\n",
       "      <td>David</td>\n",
       "      <td>92.1</td>\n",
       "    </tr>\n",
       "  </tbody>\n",
       "</table>\n",
       "</div>"
      ],
      "text/plain": [
       "      Name  Score\n",
       "1      Bob   90.3\n",
       "2  Charlie   78.4\n",
       "3    David   92.1"
      ]
     },
     "execution_count": 15,
     "metadata": {},
     "output_type": "execute_result"
    }
   ],
   "source": [
    "df.loc[1:3, ['Name', 'Score']]  # rows 1 to 3, only Name and Score columns"
   ]
  },
  {
   "cell_type": "markdown",
   "id": "38c0cb53-ca08-4f93-9f6e-72c16a53ce72",
   "metadata": {},
   "source": [
    "**Use .iloc[] for positions:**"
   ]
  },
  {
   "cell_type": "code",
   "execution_count": 16,
   "id": "0f826a1f-2d3d-4637-a0d7-19f46f88c685",
   "metadata": {},
   "outputs": [
    {
     "data": {
      "text/html": [
       "<div>\n",
       "<style scoped>\n",
       "    .dataframe tbody tr th:only-of-type {\n",
       "        vertical-align: middle;\n",
       "    }\n",
       "\n",
       "    .dataframe tbody tr th {\n",
       "        vertical-align: top;\n",
       "    }\n",
       "\n",
       "    .dataframe thead th {\n",
       "        text-align: right;\n",
       "    }\n",
       "</style>\n",
       "<table border=\"1\" class=\"dataframe\">\n",
       "  <thead>\n",
       "    <tr style=\"text-align: right;\">\n",
       "      <th></th>\n",
       "      <th>Name</th>\n",
       "      <th>Age</th>\n",
       "    </tr>\n",
       "  </thead>\n",
       "  <tbody>\n",
       "    <tr>\n",
       "      <th>1</th>\n",
       "      <td>Bob</td>\n",
       "      <td>30</td>\n",
       "    </tr>\n",
       "    <tr>\n",
       "      <th>2</th>\n",
       "      <td>Charlie</td>\n",
       "      <td>35</td>\n",
       "    </tr>\n",
       "    <tr>\n",
       "      <th>3</th>\n",
       "      <td>David</td>\n",
       "      <td>40</td>\n",
       "    </tr>\n",
       "  </tbody>\n",
       "</table>\n",
       "</div>"
      ],
      "text/plain": [
       "      Name  Age\n",
       "1      Bob   30\n",
       "2  Charlie   35\n",
       "3    David   40"
      ]
     },
     "execution_count": 16,
     "metadata": {},
     "output_type": "execute_result"
    }
   ],
   "source": [
    "df.iloc[1:4, 0:2]   # rows 1 to 3, columns 0 and 1"
   ]
  },
  {
   "cell_type": "markdown",
   "id": "6547e864-5c68-455d-a8ec-b11d21db3aff",
   "metadata": {},
   "source": [
    "## Step 5: Filtering Rows Based on Conditions (ML Preprocessing!)\n",
    "\n",
    "**Get students who passed**"
   ]
  },
  {
   "cell_type": "code",
   "execution_count": 17,
   "id": "b2fd6106-f7e4-4667-8611-39f6184975f7",
   "metadata": {},
   "outputs": [
    {
     "data": {
      "text/html": [
       "<div>\n",
       "<style scoped>\n",
       "    .dataframe tbody tr th:only-of-type {\n",
       "        vertical-align: middle;\n",
       "    }\n",
       "\n",
       "    .dataframe tbody tr th {\n",
       "        vertical-align: top;\n",
       "    }\n",
       "\n",
       "    .dataframe thead th {\n",
       "        text-align: right;\n",
       "    }\n",
       "</style>\n",
       "<table border=\"1\" class=\"dataframe\">\n",
       "  <thead>\n",
       "    <tr style=\"text-align: right;\">\n",
       "      <th></th>\n",
       "      <th>Name</th>\n",
       "      <th>Age</th>\n",
       "      <th>Score</th>\n",
       "      <th>Passed</th>\n",
       "    </tr>\n",
       "  </thead>\n",
       "  <tbody>\n",
       "    <tr>\n",
       "      <th>0</th>\n",
       "      <td>Alice</td>\n",
       "      <td>25</td>\n",
       "      <td>85.5</td>\n",
       "      <td>True</td>\n",
       "    </tr>\n",
       "    <tr>\n",
       "      <th>1</th>\n",
       "      <td>Bob</td>\n",
       "      <td>30</td>\n",
       "      <td>90.3</td>\n",
       "      <td>True</td>\n",
       "    </tr>\n",
       "    <tr>\n",
       "      <th>3</th>\n",
       "      <td>David</td>\n",
       "      <td>40</td>\n",
       "      <td>92.1</td>\n",
       "      <td>True</td>\n",
       "    </tr>\n",
       "    <tr>\n",
       "      <th>4</th>\n",
       "      <td>Eva</td>\n",
       "      <td>45</td>\n",
       "      <td>88.0</td>\n",
       "      <td>True</td>\n",
       "    </tr>\n",
       "  </tbody>\n",
       "</table>\n",
       "</div>"
      ],
      "text/plain": [
       "    Name  Age  Score  Passed\n",
       "0  Alice   25   85.5    True\n",
       "1    Bob   30   90.3    True\n",
       "3  David   40   92.1    True\n",
       "4    Eva   45   88.0    True"
      ]
     },
     "execution_count": 17,
     "metadata": {},
     "output_type": "execute_result"
    }
   ],
   "source": [
    "df[df['Passed'] == True]"
   ]
  },
  {
   "cell_type": "markdown",
   "id": "ca0d56f4-c0fb-4aa4-abdf-88ef39295e74",
   "metadata": {},
   "source": [
    "**Get students with score > 85**"
   ]
  },
  {
   "cell_type": "code",
   "execution_count": 18,
   "id": "76b256b2-cf66-495b-abb0-893c4516f5cd",
   "metadata": {},
   "outputs": [
    {
     "data": {
      "text/html": [
       "<div>\n",
       "<style scoped>\n",
       "    .dataframe tbody tr th:only-of-type {\n",
       "        vertical-align: middle;\n",
       "    }\n",
       "\n",
       "    .dataframe tbody tr th {\n",
       "        vertical-align: top;\n",
       "    }\n",
       "\n",
       "    .dataframe thead th {\n",
       "        text-align: right;\n",
       "    }\n",
       "</style>\n",
       "<table border=\"1\" class=\"dataframe\">\n",
       "  <thead>\n",
       "    <tr style=\"text-align: right;\">\n",
       "      <th></th>\n",
       "      <th>Name</th>\n",
       "      <th>Age</th>\n",
       "      <th>Score</th>\n",
       "      <th>Passed</th>\n",
       "    </tr>\n",
       "  </thead>\n",
       "  <tbody>\n",
       "    <tr>\n",
       "      <th>0</th>\n",
       "      <td>Alice</td>\n",
       "      <td>25</td>\n",
       "      <td>85.5</td>\n",
       "      <td>True</td>\n",
       "    </tr>\n",
       "    <tr>\n",
       "      <th>1</th>\n",
       "      <td>Bob</td>\n",
       "      <td>30</td>\n",
       "      <td>90.3</td>\n",
       "      <td>True</td>\n",
       "    </tr>\n",
       "    <tr>\n",
       "      <th>3</th>\n",
       "      <td>David</td>\n",
       "      <td>40</td>\n",
       "      <td>92.1</td>\n",
       "      <td>True</td>\n",
       "    </tr>\n",
       "    <tr>\n",
       "      <th>4</th>\n",
       "      <td>Eva</td>\n",
       "      <td>45</td>\n",
       "      <td>88.0</td>\n",
       "      <td>True</td>\n",
       "    </tr>\n",
       "  </tbody>\n",
       "</table>\n",
       "</div>"
      ],
      "text/plain": [
       "    Name  Age  Score  Passed\n",
       "0  Alice   25   85.5    True\n",
       "1    Bob   30   90.3    True\n",
       "3  David   40   92.1    True\n",
       "4    Eva   45   88.0    True"
      ]
     },
     "execution_count": 18,
     "metadata": {},
     "output_type": "execute_result"
    }
   ],
   "source": [
    "df[df['Score'] > 85]"
   ]
  },
  {
   "cell_type": "markdown",
   "id": "1cab2bd9-9293-4c6d-9703-8c5144fb1bab",
   "metadata": {},
   "source": [
    "**Practical Tip:**\n",
    "\n",
    "This is how you clean or split data before training:"
   ]
  },
  {
   "cell_type": "code",
   "execution_count": 21,
   "id": "c48d32b3-e3c4-401f-8c36-aaf364758de4",
   "metadata": {},
   "outputs": [],
   "source": [
    "high_scores = df[df['Score'] > 85]\n",
    "X = high_scores[['Age', 'Score']]\n",
    "Y = high_scores['Passed']"
   ]
  },
  {
   "cell_type": "markdown",
   "id": "d7f80028-2a89-4e94-8123-beeed372fe34",
   "metadata": {},
   "source": [
    "## Step 6: Boolean Indexing with Multiple Conditions"
   ]
  },
  {
   "cell_type": "code",
   "execution_count": 22,
   "id": "b96c1a88-50cd-4f1b-853b-1a9180c789a7",
   "metadata": {},
   "outputs": [
    {
     "data": {
      "text/html": [
       "<div>\n",
       "<style scoped>\n",
       "    .dataframe tbody tr th:only-of-type {\n",
       "        vertical-align: middle;\n",
       "    }\n",
       "\n",
       "    .dataframe tbody tr th {\n",
       "        vertical-align: top;\n",
       "    }\n",
       "\n",
       "    .dataframe thead th {\n",
       "        text-align: right;\n",
       "    }\n",
       "</style>\n",
       "<table border=\"1\" class=\"dataframe\">\n",
       "  <thead>\n",
       "    <tr style=\"text-align: right;\">\n",
       "      <th></th>\n",
       "      <th>Name</th>\n",
       "      <th>Age</th>\n",
       "      <th>Score</th>\n",
       "      <th>Passed</th>\n",
       "    </tr>\n",
       "  </thead>\n",
       "  <tbody>\n",
       "    <tr>\n",
       "      <th>0</th>\n",
       "      <td>Alice</td>\n",
       "      <td>25</td>\n",
       "      <td>85.5</td>\n",
       "      <td>True</td>\n",
       "    </tr>\n",
       "    <tr>\n",
       "      <th>1</th>\n",
       "      <td>Bob</td>\n",
       "      <td>30</td>\n",
       "      <td>90.3</td>\n",
       "      <td>True</td>\n",
       "    </tr>\n",
       "  </tbody>\n",
       "</table>\n",
       "</div>"
      ],
      "text/plain": [
       "    Name  Age  Score  Passed\n",
       "0  Alice   25   85.5    True\n",
       "1    Bob   30   90.3    True"
      ]
     },
     "execution_count": 22,
     "metadata": {},
     "output_type": "execute_result"
    }
   ],
   "source": [
    "df[(df['Score'] > 85) & (df['Age'] < 40)]"
   ]
  },
  {
   "cell_type": "markdown",
   "id": "1458d8b5-ad0a-4334-8040-b2ae45ec2c4e",
   "metadata": {},
   "source": [
    "Use parentheses () to group conditions!"
   ]
  },
  {
   "cell_type": "markdown",
   "id": "b4e73731-fb45-43d9-a06b-c913ee644905",
   "metadata": {},
   "source": [
    "## Step 7: Resetting or Setting Index"
   ]
  },
  {
   "cell_type": "code",
   "execution_count": 23,
   "id": "d9c8aa71-c4c3-4bd6-a981-a85e64002b7f",
   "metadata": {},
   "outputs": [
    {
     "data": {
      "text/plain": [
       "Age         25\n",
       "Score     85.5\n",
       "Passed    True\n",
       "Name: Alice, dtype: object"
      ]
     },
     "execution_count": 23,
     "metadata": {},
     "output_type": "execute_result"
    }
   ],
   "source": [
    "df.set_index('Name', inplace=True)\n",
    "df.loc['Alice']   # Now you can access rows by names!"
   ]
  },
  {
   "cell_type": "markdown",
   "id": "b5617a22-a894-4d1a-b4c8-f757caf348f0",
   "metadata": {},
   "source": [
    "To undo:"
   ]
  },
  {
   "cell_type": "code",
   "execution_count": 24,
   "id": "6b657679-69bb-40ad-b5b3-a91a171fc0d0",
   "metadata": {},
   "outputs": [],
   "source": [
    "df.reset_index(inplace=True)"
   ]
  },
  {
   "cell_type": "markdown",
   "id": "7f0722f2-2fa3-4d94-86c9-5c5e95c927a4",
   "metadata": {},
   "source": [
    "## Real ML Use Case — Select Features & Target\n",
    "\n",
    "Suppose you're preparing data for a classifier:"
   ]
  },
  {
   "cell_type": "code",
   "execution_count": 26,
   "id": "62cc4dbb-aa1b-4579-9eed-f179e7db6540",
   "metadata": {},
   "outputs": [],
   "source": [
    "# Select input features and target\n",
    "X = df[['Age', 'Score']]    # feature matrix\n",
    "Y = df['Passed']            # target\n",
    "\n",
    "# Splitting into train/test sets\n",
    "from sklearn.model_selection import train_test_split\n",
    "X_train, X_test, Y_train, Y_test = train_test_split(X, Y, test_size=0.2, random_state=42)"
   ]
  }
 ],
 "metadata": {
  "kernelspec": {
   "display_name": "Python 3 (ipykernel)",
   "language": "python",
   "name": "python3"
  },
  "language_info": {
   "codemirror_mode": {
    "name": "ipython",
    "version": 3
   },
   "file_extension": ".py",
   "mimetype": "text/x-python",
   "name": "python",
   "nbconvert_exporter": "python",
   "pygments_lexer": "ipython3",
   "version": "3.12.2"
  }
 },
 "nbformat": 4,
 "nbformat_minor": 5
}
