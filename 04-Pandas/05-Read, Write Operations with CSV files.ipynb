{
 "cells": [
  {
   "cell_type": "markdown",
   "id": "8e5fc3db-ac47-4a6c-bad9-ecbe096738f2",
   "metadata": {},
   "source": [
    "## Step 1: Importing Pandas"
   ]
  },
  {
   "cell_type": "code",
   "execution_count": 1,
   "id": "c8889882-2344-4a6c-ad67-b97aec180c8c",
   "metadata": {},
   "outputs": [],
   "source": [
    "import pandas as pd"
   ]
  },
  {
   "cell_type": "markdown",
   "id": "fb2838ea-8255-4dd2-85d0-0a50adf9f96b",
   "metadata": {},
   "source": [
    "Always import pandas as pd — this is the standard in the Python community."
   ]
  },
  {
   "cell_type": "markdown",
   "id": "e627f359-cab7-4b4f-b6bf-856fadc189dd",
   "metadata": {},
   "source": [
    "## Step 2: Reading CSV Files\n",
    "\n",
    "**Syntax**"
   ]
  },
  {
   "cell_type": "code",
   "execution_count": 30,
   "id": "480cfd17-6c37-4628-b543-807d332ad350",
   "metadata": {},
   "outputs": [
    {
     "name": "stdout",
     "output_type": "stream",
     "text": [
      "     Name  Age  Gender  Score\n",
      "0   Alice   23  Female   88.0\n",
      "1     Bob   25    Male   76.0\n",
      "2   Clara   22  Female    NaN\n",
      "3  farzad   22    Male   79.0\n",
      "4    Sara   24  Female   65.0\n",
      "5   Sahar   26  Female   83.0\n"
     ]
    }
   ],
   "source": [
    "df = pd.read_csv('Dataset/data.csv')\n",
    "print(df)"
   ]
  },
  {
   "cell_type": "markdown",
   "id": "002bd4ff-e5ab-4b49-8115-147e3ff5660a",
   "metadata": {},
   "source": [
    "## Step 3: Exploring the Data"
   ]
  },
  {
   "cell_type": "code",
   "execution_count": 18,
   "id": "73fe2dad-4948-4502-b319-90179833ef10",
   "metadata": {},
   "outputs": [
    {
     "name": "stdout",
     "output_type": "stream",
     "text": [
      "     Name  Age  Gender  Score\n",
      "0   Alice   23  Female   88.0\n",
      "1     Bob   25    Male   76.0\n",
      "2   Clara   22  Female    NaN\n",
      "3  farzad   22    Male   79.0\n",
      "4    Sara   24  Female   65.0\n"
     ]
    }
   ],
   "source": [
    "print(df.head())      # Show first 5 rows"
   ]
  },
  {
   "cell_type": "code",
   "execution_count": 19,
   "id": "da2aea50-8017-4597-a7cb-1211934f7242",
   "metadata": {},
   "outputs": [
    {
     "name": "stdout",
     "output_type": "stream",
     "text": [
      "     Name  Age  Gender  Score\n",
      "1     Bob   25    Male   76.0\n",
      "2   Clara   22  Female    NaN\n",
      "3  farzad   22    Male   79.0\n",
      "4    Sara   24  Female   65.0\n",
      "5   Sahar   26  Female   83.0\n"
     ]
    }
   ],
   "source": [
    "print(df.tail())      # Show last 5 rows"
   ]
  },
  {
   "cell_type": "code",
   "execution_count": 20,
   "id": "a28d94bf-34cf-40a8-aae5-d1aa3f7e4806",
   "metadata": {},
   "outputs": [
    {
     "name": "stdout",
     "output_type": "stream",
     "text": [
      "(6, 4)\n"
     ]
    }
   ],
   "source": [
    "print(df.shape)       # (rows, columns)"
   ]
  },
  {
   "cell_type": "code",
   "execution_count": 21,
   "id": "0af43e28-9aa1-47c0-b2cc-9f695125b740",
   "metadata": {},
   "outputs": [
    {
     "name": "stdout",
     "output_type": "stream",
     "text": [
      "Index(['Name', 'Age', 'Gender', 'Score'], dtype='object')\n"
     ]
    }
   ],
   "source": [
    "print(df.columns)     # Column names"
   ]
  },
  {
   "cell_type": "code",
   "execution_count": 22,
   "id": "491c8efb-43a9-46ed-b750-09f0b046a45e",
   "metadata": {},
   "outputs": [
    {
     "name": "stdout",
     "output_type": "stream",
     "text": [
      "<class 'pandas.core.frame.DataFrame'>\n",
      "RangeIndex: 6 entries, 0 to 5\n",
      "Data columns (total 4 columns):\n",
      " #   Column  Non-Null Count  Dtype  \n",
      "---  ------  --------------  -----  \n",
      " 0   Name    6 non-null      object \n",
      " 1   Age     6 non-null      int64  \n",
      " 2   Gender  6 non-null      object \n",
      " 3   Score   5 non-null      float64\n",
      "dtypes: float64(1), int64(1), object(2)\n",
      "memory usage: 324.0+ bytes\n",
      "None\n"
     ]
    }
   ],
   "source": [
    "print(df.info())      # Summary of data types"
   ]
  },
  {
   "cell_type": "code",
   "execution_count": 11,
   "id": "58617d3e-6752-45a2-b007-f08eb96cdff5",
   "metadata": {},
   "outputs": [
    {
     "name": "stdout",
     "output_type": "stream",
     "text": [
      "             Age      Score\n",
      "count   6.000000   6.000000\n",
      "mean   23.666667  80.666667\n",
      "std     1.632993   9.811558\n",
      "min    22.000000  65.000000\n",
      "25%    22.250000  76.750000\n",
      "50%    23.500000  81.000000\n",
      "75%    24.750000  86.750000\n",
      "max    26.000000  93.000000\n"
     ]
    }
   ],
   "source": [
    "print(df.describe())  # Statistical summary"
   ]
  },
  {
   "cell_type": "markdown",
   "id": "91f416fc-fa81-4c49-a4d7-203ea7aabc99",
   "metadata": {},
   "source": [
    "**Practical Note:**\n",
    "\n",
    "Use .head() and .info() frequently to explore datasets in machine learning for detecting issues like:\n",
    "* Missing values\n",
    "* Wrong data types\n",
    "* Unexpected column names"
   ]
  },
  {
   "cell_type": "markdown",
   "id": "d62119a3-ce13-49c4-9500-85229ed76c4d",
   "metadata": {},
   "source": [
    "## Step 4: Cleaning/Preprocessing While Reading\n",
    "\n",
    "**1. Skip rows**"
   ]
  },
  {
   "cell_type": "code",
   "execution_count": 23,
   "id": "b67c4073-8142-40ba-a172-1ab206f7ae44",
   "metadata": {},
   "outputs": [
    {
     "name": "stdout",
     "output_type": "stream",
     "text": [
      "    Alice  23  Female    88\n",
      "0     Bob  25    Male  76.0\n",
      "1   Clara  22  Female   NaN\n",
      "2  farzad  22    Male  79.0\n",
      "3    Sara  24  Female  65.0\n",
      "4   Sahar  26  Female  83.0\n"
     ]
    }
   ],
   "source": [
    "df = pd.read_csv('Dataset/data.csv', skiprows=1)\n",
    "print(df)"
   ]
  },
  {
   "cell_type": "markdown",
   "id": "7763ec4b-75b9-4a14-8e40-81c3a87eb24c",
   "metadata": {},
   "source": [
    "**2. Set a column as index**"
   ]
  },
  {
   "cell_type": "code",
   "execution_count": 24,
   "id": "838a17a6-6b71-4720-b3e6-d1bdb59c3d93",
   "metadata": {},
   "outputs": [
    {
     "name": "stdout",
     "output_type": "stream",
     "text": [
      "        Age  Gender  Score\n",
      "Name                      \n",
      "Alice    23  Female   88.0\n",
      "Bob      25    Male   76.0\n",
      "Clara    22  Female    NaN\n",
      "farzad   22    Male   79.0\n",
      "Sara     24  Female   65.0\n",
      "Sahar    26  Female   83.0\n"
     ]
    }
   ],
   "source": [
    "df = pd.read_csv('Dataset/data.csv', index_col='Name')\n",
    "print(df)"
   ]
  },
  {
   "cell_type": "markdown",
   "id": "8da4773d-ca9f-4d91-8069-eb665b5e336a",
   "metadata": {},
   "source": [
    "## 3. Handle missing values"
   ]
  },
  {
   "cell_type": "code",
   "execution_count": 25,
   "id": "b7930e32-5982-4252-84a1-9dfc701bef55",
   "metadata": {},
   "outputs": [
    {
     "name": "stdout",
     "output_type": "stream",
     "text": [
      "    Name    Age  Gender  Score\n",
      "0  False  False   False  False\n",
      "1  False  False   False  False\n",
      "2  False  False   False   True\n",
      "3  False  False   False  False\n",
      "4  False  False   False  False\n",
      "5  False  False   False  False\n"
     ]
    }
   ],
   "source": [
    "df = pd.read_csv('Dataset/data.csv', na_values=[''])\n",
    "print(df.isnull())"
   ]
  },
  {
   "cell_type": "markdown",
   "id": "d8c6cc2c-f122-4f20-a636-cc626e7e83cd",
   "metadata": {},
   "source": [
    "## Step 5: Writing to a CSV File"
   ]
  },
  {
   "cell_type": "code",
   "execution_count": 33,
   "id": "096feca0-527a-414c-a9b5-baeab584b7aa",
   "metadata": {},
   "outputs": [],
   "source": [
    "df = pd.DataFrame({\n",
    "    'City': ['Tehran', 'Shiraz', 'Tabriz'],\n",
    "    'Population': [8500000, 1800000, 1550000]\n",
    "})\n",
    "\n",
    "df.to_csv('Dataset/cities.csv', index=False)"
   ]
  },
  {
   "cell_type": "markdown",
   "id": "de1bafc1-3fbc-40ff-ad51-21668a87c4c9",
   "metadata": {},
   "source": [
    "**Practical Notes:**\n",
    "\n",
    "* Always use index=False to prevent pandas from writing row numbers.\n",
    "* Use encoding='utf-8-sig' when writing Persian/Unicode characters."
   ]
  },
  {
   "cell_type": "markdown",
   "id": "b982678a-0799-40c0-8cd8-e07759d5fe54",
   "metadata": {},
   "source": [
    "## Step 6: Using CSV in Machine Learning Projects\n",
    "\n",
    "**Typical ML Workflow:**"
   ]
  },
  {
   "cell_type": "code",
   "execution_count": null,
   "id": "3de9e75b-8e1d-414a-a53d-9501289ec1d6",
   "metadata": {},
   "outputs": [],
   "source": [
    "# Step 1: Load the dataset\n",
    "df = pd.read_csv('ml_data.csv')\n",
    "\n",
    "# Step 2: Check for missing values\n",
    "print(df.isnull().sum())\n",
    "\n",
    "# Step 3: Clean data (drop rows with missing values)\n",
    "df = df.dropna()\n",
    "\n",
    "# Step 4: Feature and target split\n",
    "X = df[['feature1', 'feature2', 'feature3']]  # input features\n",
    "y = df['label']  # output label\n",
    "\n",
    "# Step 5: Train-test split\n",
    "from sklearn.model_selection import train_test_split\n",
    "X_train, X_test, y_train, y_test = train_test_split(X, y, test_size=0.2, random_state=42)"
   ]
  }
 ],
 "metadata": {
  "kernelspec": {
   "display_name": "Python 3 (ipykernel)",
   "language": "python",
   "name": "python3"
  },
  "language_info": {
   "codemirror_mode": {
    "name": "ipython",
    "version": 3
   },
   "file_extension": ".py",
   "mimetype": "text/x-python",
   "name": "python",
   "nbconvert_exporter": "python",
   "pygments_lexer": "ipython3",
   "version": "3.12.2"
  }
 },
 "nbformat": 4,
 "nbformat_minor": 5
}
