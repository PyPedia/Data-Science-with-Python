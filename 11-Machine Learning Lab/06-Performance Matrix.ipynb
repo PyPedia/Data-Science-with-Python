{
 "cells": [
  {
   "cell_type": "code",
   "execution_count": 3,
   "id": "3ddf47d3-6feb-4479-add2-68ed1d49770a",
   "metadata": {},
   "outputs": [],
   "source": [
    "# Confusion Matrix\n",
    "\n",
    "# 1. False Negative (FN)\n",
    "# 2. True Negative (TN)\n",
    "# 3. True Positive (TP)\n",
    "# 4. True Negative (TN)"
   ]
  },
  {
   "cell_type": "code",
   "execution_count": 5,
   "id": "818d79ea-93aa-4bff-ba58-b2797ef4aa83",
   "metadata": {},
   "outputs": [],
   "source": [
    "# Performance Matrix\n",
    "\n",
    "# Accuracy = (TP + TN)/(TN+TN+TP+TN)\n",
    "# Recal = TP/(TP + FN) -> Medical Use\n",
    "# Precision = TP/(TP + FP) -> Email Spam Detector"
   ]
  },
  {
   "cell_type": "code",
   "execution_count": 6,
   "id": "2ef04d6b-8bf9-4f1b-a303-b0ba2341941a",
   "metadata": {},
   "outputs": [],
   "source": [
    "y_true = [1, 1, 0, 0, 1, 0, 0, 0, 1, 1]\n",
    "y_pred = [1, 1, 0, 0, 1, 0, 0, 0, 1, 1]"
   ]
  },
  {
   "cell_type": "code",
   "execution_count": 9,
   "id": "33fdde52-7f91-4900-9e6c-d5a6412d9116",
   "metadata": {},
   "outputs": [
    {
     "data": {
      "text/plain": [
       "100.0"
      ]
     },
     "execution_count": 9,
     "metadata": {},
     "output_type": "execute_result"
    }
   ],
   "source": [
    "from sklearn.metrics import accuracy_score\n",
    "\n",
    "acc = accuracy_score(y_true, y_pred)\n",
    "acc*100 # show in percent"
   ]
  },
  {
   "cell_type": "code",
   "execution_count": 10,
   "id": "92cac634-cbfd-4754-8042-c73ee2121ec9",
   "metadata": {},
   "outputs": [
    {
     "data": {
      "text/plain": [
       "100.0"
      ]
     },
     "execution_count": 10,
     "metadata": {},
     "output_type": "execute_result"
    }
   ],
   "source": [
    "from sklearn.metrics import precision_score\n",
    "\n",
    "pr = precision_score(y_true, y_pred)\n",
    "pr*100"
   ]
  },
  {
   "cell_type": "code",
   "execution_count": 11,
   "id": "91fe666c-5d22-4391-85a0-55a779ea4b08",
   "metadata": {},
   "outputs": [
    {
     "data": {
      "text/plain": [
       "100.0"
      ]
     },
     "execution_count": 11,
     "metadata": {},
     "output_type": "execute_result"
    }
   ],
   "source": [
    "from sklearn.metrics import recall_score\n",
    "\n",
    "r = recall_score(y_true, y_pred)\n",
    "r*100"
   ]
  },
  {
   "cell_type": "code",
   "execution_count": 14,
   "id": "76e6875d-8bda-4be8-8f34-aad2688920a8",
   "metadata": {},
   "outputs": [
    {
     "name": "stdout",
     "output_type": "stream",
     "text": [
      "Accuracy:  90.0\n",
      "Precision:  100.0\n",
      "Recall:  80.0\n"
     ]
    },
    {
     "data": {
      "text/plain": [
       "80.0"
      ]
     },
     "execution_count": 14,
     "metadata": {},
     "output_type": "execute_result"
    }
   ],
   "source": [
    "y_true = [1, 1, 0, 0, 1, 0, 0, 0, 1, 1]\n",
    "y_pred = [0, 1, 0, 0, 1, 0, 0, 0, 1, 1]\n",
    "\n",
    "acc = accuracy_score(y_true, y_pred)\n",
    "print(\"Accuracy: \", acc*100)\n",
    "\n",
    "pr = precision_score(y_true, y_pred)\n",
    "print(\"Precision: \", pr*100)\n",
    "\n",
    "\n",
    "r = recall_score(y_true, y_pred)\n",
    "print(\"Recall: \", r*100)\n",
    "r*100"
   ]
  }
 ],
 "metadata": {
  "kernelspec": {
   "display_name": "Python 3 (ipykernel)",
   "language": "python",
   "name": "python3"
  },
  "language_info": {
   "codemirror_mode": {
    "name": "ipython",
    "version": 3
   },
   "file_extension": ".py",
   "mimetype": "text/x-python",
   "name": "python",
   "nbconvert_exporter": "python",
   "pygments_lexer": "ipython3",
   "version": "3.12.2"
  }
 },
 "nbformat": 4,
 "nbformat_minor": 5
}
