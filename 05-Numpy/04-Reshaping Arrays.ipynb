{
 "cells": [
  {
   "cell_type": "markdown",
   "id": "76efe1da-a6b0-4889-bf93-fb41fe245b40",
   "metadata": {},
   "source": [
    "## What is \"Reshaping Arrays\" in NumPy?\n",
    "\n",
    "Reshaping means changing the shape of an array without changing its data. This is super useful when you're preparing data for machine learning models — especially for training, validation, reshaping inputs, and handling features and labels."
   ]
  },
  {
   "cell_type": "markdown",
   "id": "9cb5f7c2-44b5-415a-a633-9546e82c264b",
   "metadata": {},
   "source": [
    "## Step 1: Import NumPy"
   ]
  },
  {
   "cell_type": "code",
   "execution_count": 1,
   "id": "b8788de2-4641-4a3e-9e27-555fe5a5ab6d",
   "metadata": {},
   "outputs": [],
   "source": [
    "import numpy as np"
   ]
  },
  {
   "cell_type": "markdown",
   "id": "fc2dbd15-3f04-485b-ac1c-b72dd1ba9daa",
   "metadata": {},
   "source": [
    "Always begin by importing NumPy."
   ]
  },
  {
   "cell_type": "markdown",
   "id": "d014161d-3252-4bdb-b5c5-0056e6f3730d",
   "metadata": {},
   "source": [
    "## Step 2: Check Shape of an Array"
   ]
  },
  {
   "cell_type": "code",
   "execution_count": 4,
   "id": "c4e1ccff-6ae2-47fd-bf3d-bf8516b10746",
   "metadata": {},
   "outputs": [
    {
     "name": "stdout",
     "output_type": "stream",
     "text": [
      "(6,)\n"
     ]
    }
   ],
   "source": [
    "a = np.array([1, 2, 3, 4, 5, 6])\n",
    "print(a.shape)"
   ]
  },
  {
   "cell_type": "markdown",
   "id": "23f93604-9a54-4ab9-9f95-8b38db941a50",
   "metadata": {},
   "source": [
    "This is a 1D array with 6 elements."
   ]
  },
  {
   "cell_type": "markdown",
   "id": "16aad7b7-f162-40eb-b0ee-0f15e5ebebbf",
   "metadata": {},
   "source": [
    "## Step 3: Reshape to 2D Array\n",
    "\n",
    "Suppose we want to reshape it into 2 rows and 3 columns."
   ]
  },
  {
   "cell_type": "code",
   "execution_count": 6,
   "id": "897defe0-b8c8-4c62-b010-005773aebf24",
   "metadata": {},
   "outputs": [],
   "source": [
    "a2 = a.reshape(2, 3)"
   ]
  },
  {
   "cell_type": "code",
   "execution_count": 7,
   "id": "cba5d92e-7bc0-4663-895d-a5fdcc53d7c2",
   "metadata": {},
   "outputs": [
    {
     "name": "stdout",
     "output_type": "stream",
     "text": [
      "[[1 2 3]\n",
      " [4 5 6]]\n"
     ]
    }
   ],
   "source": [
    "print(a2)"
   ]
  },
  {
   "cell_type": "code",
   "execution_count": 8,
   "id": "4e6b09fe-427b-4fe2-b900-e479f659014b",
   "metadata": {},
   "outputs": [
    {
     "name": "stdout",
     "output_type": "stream",
     "text": [
      "(2, 3)\n"
     ]
    }
   ],
   "source": [
    "print(a2.shape)"
   ]
  },
  {
   "cell_type": "markdown",
   "id": "657ac5e2-dec5-40be-9101-5052e181645e",
   "metadata": {},
   "source": [
    "**Practical Note:** In ML, 2D arrays are common for features. For example, 2 samples (rows) with 3 features (columns) each."
   ]
  },
  {
   "cell_type": "markdown",
   "id": "f7119de8-6273-4acd-af39-57ec73a6b923",
   "metadata": {},
   "source": [
    "## Step 4: Reshape to 3D Array\n",
    "\n",
    "Let’s reshape into a 3D array — useful for sequences like time steps."
   ]
  },
  {
   "cell_type": "code",
   "execution_count": 9,
   "id": "8c325020-2e72-4a7d-b1f9-3243f398665a",
   "metadata": {},
   "outputs": [],
   "source": [
    "a3 = a.reshape(1, 2, 3)"
   ]
  },
  {
   "cell_type": "code",
   "execution_count": 10,
   "id": "df444848-22c2-46dd-9306-6431320d4572",
   "metadata": {},
   "outputs": [
    {
     "name": "stdout",
     "output_type": "stream",
     "text": [
      "[[[1 2 3]\n",
      "  [4 5 6]]]\n"
     ]
    }
   ],
   "source": [
    "print(a3)"
   ]
  },
  {
   "cell_type": "code",
   "execution_count": 11,
   "id": "5edd48a4-63c4-400e-bfda-f6ebb17769d0",
   "metadata": {},
   "outputs": [
    {
     "name": "stdout",
     "output_type": "stream",
     "text": [
      "(1, 2, 3)\n"
     ]
    }
   ],
   "source": [
    "print(a3.shape)"
   ]
  },
  {
   "cell_type": "markdown",
   "id": "e47a2734-cd60-43a9-8f4e-c5b699fcc116",
   "metadata": {},
   "source": [
    "**Practical Note:** This can represent 1 sample, 2 timesteps, and 3 features — common in RNNs or LSTM inputs."
   ]
  },
  {
   "cell_type": "markdown",
   "id": "3f8fc5d0-558f-4027-ae9a-3d37aa51046e",
   "metadata": {},
   "source": [
    "## Step 5: Use -1 to Auto Infer Shape\n",
    "\n",
    "You don’t always need to manually calculate dimensions."
   ]
  },
  {
   "cell_type": "code",
   "execution_count": 12,
   "id": "89bae143-43db-4354-be4f-0377c54e6c1b",
   "metadata": {},
   "outputs": [
    {
     "name": "stdout",
     "output_type": "stream",
     "text": [
      "[[1 2]\n",
      " [3 4]\n",
      " [5 6]]\n"
     ]
    }
   ],
   "source": [
    "a = np.array([1, 2, 3, 4, 5, 6])\n",
    "a_reshaped = a.reshape(-1, 2)\n",
    "print(a_reshaped)"
   ]
  },
  {
   "cell_type": "markdown",
   "id": "856310dc-db68-40bf-8f90-5c604167d72d",
   "metadata": {},
   "source": [
    "* -1 tells NumPy: \"You figure it out for me.\"\n",
    "* Practical Use: -1 is extremely handy in ML pipelines when you're not sure of the dimension count."
   ]
  },
  {
   "cell_type": "markdown",
   "id": "a6ab523e-32f5-4490-a28d-f42e89108532",
   "metadata": {},
   "source": [
    "## Step 6: Flattening the Array (ravel vs flatten)\n",
    "\n",
    "Sometimes we want to convert any shape back to 1D."
   ]
  },
  {
   "cell_type": "code",
   "execution_count": 13,
   "id": "43fddbba-9056-42e2-a8cf-16f38f13cc97",
   "metadata": {},
   "outputs": [
    {
     "name": "stdout",
     "output_type": "stream",
     "text": [
      "[[1 2]\n",
      " [3 4]\n",
      " [5 6]]\n"
     ]
    }
   ],
   "source": [
    "print(a_reshaped)"
   ]
  },
  {
   "cell_type": "code",
   "execution_count": 15,
   "id": "a41c7c6f-51e3-4863-ae0a-0cc4c81e9a91",
   "metadata": {},
   "outputs": [
    {
     "name": "stdout",
     "output_type": "stream",
     "text": [
      "[1 2 3 4 5 6]\n"
     ]
    }
   ],
   "source": [
    "b = a_reshaped.flatten()  # Returns a copy\n",
    "print(b)"
   ]
  },
  {
   "cell_type": "code",
   "execution_count": 16,
   "id": "e8592ca3-e0e4-41a5-9693-694ce9a3cdbd",
   "metadata": {},
   "outputs": [
    {
     "name": "stdout",
     "output_type": "stream",
     "text": [
      "[1 2 3 4 5 6]\n"
     ]
    }
   ],
   "source": [
    "c = a_reshaped.ravel()    # Returns a view\n",
    "print(c)"
   ]
  },
  {
   "cell_type": "markdown",
   "id": "0d59bbee-062c-4269-bf73-a68ccd759c8b",
   "metadata": {},
   "source": [
    "## Step 7: Reshape in ML Use Case (X, y)"
   ]
  },
  {
   "cell_type": "code",
   "execution_count": 17,
   "id": "59dfe702-a96f-4bf6-b22e-0f4c58bf8fd8",
   "metadata": {},
   "outputs": [
    {
     "name": "stdout",
     "output_type": "stream",
     "text": [
      "[[1]\n",
      " [2]\n",
      " [3]\n",
      " [4]\n",
      " [5]\n",
      " [6]]\n"
     ]
    }
   ],
   "source": [
    "# Suppose we have 6 samples, 1 feature each:\n",
    "X = np.array([1, 2, 3, 4, 5, 6])\n",
    "\n",
    "# Reshape to 2D column vector (6 rows, 1 column)\n",
    "X = X.reshape(-1, 1)\n",
    "print(X)"
   ]
  },
  {
   "cell_type": "markdown",
   "id": "a578b5d9-8e48-4106-bff4-da35f8cd0cb5",
   "metadata": {},
   "source": [
    "Machine Learning models (like Scikit-learn) expect features in shape (n_samples, n_features)"
   ]
  },
  {
   "cell_type": "markdown",
   "id": "f8ebbcad-5aa7-45d3-b21c-740efcd4fc73",
   "metadata": {},
   "source": [
    "## Step 8: Reshape Images for Deep Learning (e.g. CNNs)\n",
    "\n",
    "Let’s say you have a grayscale image of size 28x28 pixels."
   ]
  },
  {
   "cell_type": "code",
   "execution_count": 21,
   "id": "5e367920-75e7-45a3-a925-a4972ac44500",
   "metadata": {},
   "outputs": [
    {
     "name": "stdout",
     "output_type": "stream",
     "text": [
      "(1, 28, 28, 1)\n"
     ]
    }
   ],
   "source": [
    "image = np.random.rand(28, 28)\n",
    "\n",
    "# Reshape to include \"batch size\" and \"channel\"\n",
    "image = image.reshape(1, 28, 28, 1)  # (batch_size, height, width, channels)\n",
    "print(image.shape)\n"
   ]
  },
  {
   "cell_type": "markdown",
   "id": "a29c8d05-9501-4ca2-9599-8e5c59cd43de",
   "metadata": {},
   "source": [
    "Required shape format for many deep learning frameworks like TensorFlow/Keras."
   ]
  },
  {
   "cell_type": "markdown",
   "id": "d225c215-a116-4b6e-bb4e-5d0c0ebb0bb8",
   "metadata": {},
   "source": [
    "## Recap – Common Reshape Use Cases"
   ]
  },
  {
   "cell_type": "markdown",
   "id": "97914770-d91c-491c-964d-8f30d665ae6d",
   "metadata": {},
   "source": [
    "| Goal | Shape Example | Use Case |\n",
    "| --- | --- | --- |\n",
    "| Flatten array | (n,) | Feature extraction, ML models |\n",
    "| 2D Features | (n_samples, n_features) | Scikit-learn |\n",
    "| 3D Sequences | (samples, time_steps, features) | RNN/LSTM |\n",
    "| 4D Images | (batch, height, width, channels) | CNNs |"
   ]
  },
  {
   "cell_type": "markdown",
   "id": "ae5f470c-7060-4230-b73a-eb13d5c909a8",
   "metadata": {},
   "source": [
    "## Reshape Before Training a Model"
   ]
  },
  {
   "cell_type": "code",
   "execution_count": null,
   "id": "77bf7689-f9a9-4e1f-9b76-1eed9ad98142",
   "metadata": {},
   "outputs": [],
   "source": [
    "from sklearn.linear_model import LinearRegression\n",
    "\n",
    "X = np.array([1, 2, 3, 4, 5])\n",
    "y = np.array([2, 4, 6, 8, 10])\n",
    "\n",
    "# Reshape X to (n_samples, n_features)\n",
    "X = X.reshape(-1, 1)\n",
    "\n",
    "model = LinearRegression()\n",
    "model.fit(X, y)"
   ]
  }
 ],
 "metadata": {
  "kernelspec": {
   "display_name": "Python 3 (ipykernel)",
   "language": "python",
   "name": "python3"
  },
  "language_info": {
   "codemirror_mode": {
    "name": "ipython",
    "version": 3
   },
   "file_extension": ".py",
   "mimetype": "text/x-python",
   "name": "python",
   "nbconvert_exporter": "python",
   "pygments_lexer": "ipython3",
   "version": "3.12.2"
  }
 },
 "nbformat": 4,
 "nbformat_minor": 5
}
