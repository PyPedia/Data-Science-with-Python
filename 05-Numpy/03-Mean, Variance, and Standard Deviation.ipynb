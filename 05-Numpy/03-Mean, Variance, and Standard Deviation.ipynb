{
 "cells": [
  {
   "cell_type": "markdown",
   "id": "26b215ba-982e-4d33-875a-5473e6573a27",
   "metadata": {},
   "source": [
    "## 1. What Are Mean, Variance, and Standard Deviation?"
   ]
  },
  {
   "cell_type": "markdown",
   "id": "e8711768-cb1f-4885-b271-98120e74e3c0",
   "metadata": {},
   "source": [
    "| Concept | Description | NumPy Code Example |\n",
    "| --- | --- | --- |\n",
    "| Mean | The average of the numbers. | np.mean(data) |\n",
    "| Variance | How much the data is spread out from the mean. | np.var(data) |\n",
    "| Standard Deviation | Square root of variance — tells how much the data varies from the mean. | np.std(data) |"
   ]
  },
  {
   "cell_type": "markdown",
   "id": "544375b8-7ddf-4fb0-b899-04d503cdbdeb",
   "metadata": {},
   "source": [
    "## 2. Why Are They Important in Machine Learning?\n",
    "\n",
    "* Mean helps center or normalize data.\n",
    "* Variance/Standard Deviation help understand how spread out your data is.\n",
    "* Helps with feature scaling, outlier detection, and data normalization.\n",
    "* Used in algorithms like PCA (Principal Component Analysis) and Gaussian Naive Bayes."
   ]
  },
  {
   "cell_type": "markdown",
   "id": "082b05c8-4b47-4433-97b1-385a5dd7c369",
   "metadata": {},
   "source": [
    "## 3. First, Import NumPy"
   ]
  },
  {
   "cell_type": "code",
   "execution_count": 1,
   "id": "54267ec4-0613-4f22-aa7e-b6acfe009b93",
   "metadata": {},
   "outputs": [],
   "source": [
    "import numpy as np"
   ]
  },
  {
   "cell_type": "markdown",
   "id": "a279b124-2a09-42c8-a461-6c877a4beb74",
   "metadata": {},
   "source": [
    "## 4. Mean (Average)\n",
    "\n",
    "**Formula:**\n",
    "\n",
    "$$ Mean=\\frac{1}{n}\\sum_{i=1}^{n}x_{i} $$"
   ]
  },
  {
   "cell_type": "code",
   "execution_count": 2,
   "id": "2263cefb-7165-48c3-b47b-b0f29ce06a3e",
   "metadata": {},
   "outputs": [
    {
     "name": "stdout",
     "output_type": "stream",
     "text": [
      "Mean: 30.0\n"
     ]
    }
   ],
   "source": [
    "data = np.array([10, 20, 30, 40, 50])\n",
    "mean_value = np.mean(data)\n",
    "print(\"Mean:\", mean_value)"
   ]
  },
  {
   "cell_type": "markdown",
   "id": "a1cfbb43-caf1-4b18-94d2-30e66eb7099f",
   "metadata": {},
   "source": [
    "**Note:**\n",
    "  \n",
    "* In ML, you often subtract the mean from your features to normalize data.\n",
    "* This is called **mean normalization**."
   ]
  },
  {
   "cell_type": "markdown",
   "id": "63e9264b-164a-4214-89dc-1fe43df47dba",
   "metadata": {},
   "source": [
    "## 5. Variance\n",
    "\n",
    "**Formula:**\n",
    "\n",
    "$$ Variance=\\frac{1}{n}\\sum_{i=1}^{n}\\left( x_{i}-Mean \\right)^{2} $$"
   ]
  },
  {
   "cell_type": "markdown",
   "id": "995739df-6a6c-41cf-a9eb-23d5d2ad9317",
   "metadata": {},
   "source": [
    "**Example:**"
   ]
  },
  {
   "cell_type": "code",
   "execution_count": 4,
   "id": "a38398a0-ed0e-487e-96a2-28afbd10a1a7",
   "metadata": {},
   "outputs": [
    {
     "name": "stdout",
     "output_type": "stream",
     "text": [
      "Variance: 200.0\n"
     ]
    }
   ],
   "source": [
    "data = np.array([10, 20, 30, 40, 50])\n",
    "variance = np.var(data)\n",
    "print(\"Variance:\", variance)"
   ]
  },
  {
   "cell_type": "markdown",
   "id": "c3a83879-b3f3-4061-9ab0-4f7966e802d9",
   "metadata": {},
   "source": [
    "**Note:**\n",
    "  \n",
    "* High variance = data is spread out.\n",
    "* Low variance = data is concentrated around the mean.\n",
    "* Variance is used in feature selection and understanding feature importance."
   ]
  },
  {
   "cell_type": "markdown",
   "id": "bfcbe72c-6f79-47e9-b7de-4671e2b102ce",
   "metadata": {},
   "source": [
    "## 6. Standard Deviation\n",
    "\n",
    "**Formula:**\n",
    "\n",
    "$$ Std \\: \\: Dev=\\sqrt{Variance} $$"
   ]
  },
  {
   "cell_type": "code",
   "execution_count": 5,
   "id": "cd38a5d3-139f-419a-875c-afaa8ac71838",
   "metadata": {},
   "outputs": [
    {
     "name": "stdout",
     "output_type": "stream",
     "text": [
      "Standard Deviation: 14.142135623730951\n"
     ]
    }
   ],
   "source": [
    "data = np.array([10, 20, 30, 40, 50])\n",
    "std_deviation = np.std(data)\n",
    "print(\"Standard Deviation:\", std_deviation)"
   ]
  },
  {
   "cell_type": "markdown",
   "id": "e0521188-1b83-4faa-8fbc-6da3b206012f",
   "metadata": {},
   "source": [
    "**Note:**\n",
    "  \n",
    "* Std Dev is easier to interpret because it’s in the same unit as the data.\n",
    "* Useful in data normalization and Z-score calculations."
   ]
  },
  {
   "cell_type": "markdown",
   "id": "0c49b199-ee0d-47f6-a6ec-e0efb6b94aaf",
   "metadata": {},
   "source": [
    "## 7. Practical Use Case in Machine Learning\n",
    "\n",
    "**Example:** Normalizing Features (Zero Mean, Unit Variance)"
   ]
  },
  {
   "cell_type": "code",
   "execution_count": 7,
   "id": "85bdabf9-3bf8-4b74-a460-cb036c421d7f",
   "metadata": {},
   "outputs": [
    {
     "name": "stdout",
     "output_type": "stream",
     "text": [
      "Normalized Data: [-1.41421356 -0.70710678  0.          0.70710678  1.41421356]\n"
     ]
    }
   ],
   "source": [
    "data = np.array([10, 20, 30, 40, 50])\n",
    "\n",
    "mean = np.mean(data)\n",
    "std = np.std(data)\n",
    "\n",
    "normalized_data = (data - mean) / std\n",
    "print(\"Normalized Data:\", normalized_data)"
   ]
  },
  {
   "cell_type": "markdown",
   "id": "5568e4c4-6671-4e45-9e09-2d65bb68bfb1",
   "metadata": {},
   "source": [
    "**Why Important:**\n",
    "\n",
    "* Many ML algorithms perform better when data is scaled.\n",
    "* Neural Networks and SVMs are sensitive to feature scales."
   ]
  },
  {
   "cell_type": "markdown",
   "id": "4e08ed51-450d-4df5-b16c-92972264dad9",
   "metadata": {},
   "source": [
    "## 8. Multidimensional Data"
   ]
  },
  {
   "cell_type": "code",
   "execution_count": 8,
   "id": "560c5e16-4419-48bc-bb2b-12456d7eb1fe",
   "metadata": {},
   "outputs": [
    {
     "name": "stdout",
     "output_type": "stream",
     "text": [
      "Mean (axis=0): [4. 5. 6.]\n",
      "Mean (axis=1): [2. 5. 8.]\n"
     ]
    }
   ],
   "source": [
    "data_2d = np.array([[1, 2, 3],\n",
    "                    [4, 5, 6],\n",
    "                    [7, 8, 9]])\n",
    "\n",
    "# Mean along columns (axis=0)\n",
    "print(\"Mean (axis=0):\", np.mean(data_2d, axis=0))\n",
    "\n",
    "# Mean along rows (axis=1)\n",
    "print(\"Mean (axis=1):\", np.mean(data_2d, axis=1))"
   ]
  },
  {
   "cell_type": "markdown",
   "id": "929cae1d-d6f5-4bfb-ac97-145703d0a95c",
   "metadata": {},
   "source": [
    "**Note:**\n",
    "\n",
    "* axis=0 → column-wise (per feature)\n",
    "* axis=1 → row-wise (per sample)"
   ]
  }
 ],
 "metadata": {
  "kernelspec": {
   "display_name": "Python 3 (ipykernel)",
   "language": "python",
   "name": "python3"
  },
  "language_info": {
   "codemirror_mode": {
    "name": "ipython",
    "version": 3
   },
   "file_extension": ".py",
   "mimetype": "text/x-python",
   "name": "python",
   "nbconvert_exporter": "python",
   "pygments_lexer": "ipython3",
   "version": "3.12.2"
  }
 },
 "nbformat": 4,
 "nbformat_minor": 5
}
