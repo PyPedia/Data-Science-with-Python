{
 "cells": [
  {
   "cell_type": "markdown",
   "id": "7a3c063a-434d-4ff9-b00b-2fa20904c0e3",
   "metadata": {},
   "source": [
    "## What is a DataFrame?\n",
    "\n",
    "A DataFrame is a 2-dimensional tabular data structure (like a spreadsheet) in pandas, used for storing and manipulating data in rows and columns."
   ]
  },
  {
   "cell_type": "markdown",
   "id": "c03cc69a-0ae7-4b9f-a730-51de78e761ba",
   "metadata": {},
   "source": [
    "## 1. From a Python Dictionary (dict)\n",
    "This is the most common method when you're manually creating small datasets.\n",
    "\n",
    "**Example 1: Dictionary with Lists**"
   ]
  },
  {
   "cell_type": "code",
   "execution_count": 1,
   "id": "9b3cdf84-2d59-47f9-97d1-a0ba6bd716a1",
   "metadata": {},
   "outputs": [
    {
     "name": "stdout",
     "output_type": "stream",
     "text": [
      "      Name  Age  Score\n",
      "0    Alice   25   85.5\n",
      "1      Bob   30   90.0\n",
      "2  Charlie   35   95.0\n"
     ]
    }
   ],
   "source": [
    "import pandas as pd\n",
    "\n",
    "data = {\n",
    "    'Name': ['Alice', 'Bob', 'Charlie'],\n",
    "    'Age': [25, 30, 35],\n",
    "    'Score': [85.5, 90.0, 95.0]\n",
    "}\n",
    "\n",
    "df = pd.DataFrame(data)\n",
    "print(df)"
   ]
  },
  {
   "cell_type": "markdown",
   "id": "33dec5c0-7aab-4629-b723-d44388bdeaef",
   "metadata": {},
   "source": [
    "**Notes:**\n",
    "\n",
    "* Each key becomes a column.\n",
    "* Each value (list) becomes the column’s data.\n",
    "* Great for structured data when you already have it in a dictionary."
   ]
  },
  {
   "cell_type": "markdown",
   "id": "7555918a-a19c-4fc2-83b4-c38225fd05a6",
   "metadata": {},
   "source": [
    "## 2. From a List of Dictionaries\n",
    "\n",
    "Each dictionary is treated as a row (observation).\n",
    "\n",
    "**Example 2:**"
   ]
  },
  {
   "cell_type": "code",
   "execution_count": 2,
   "id": "2540add0-1cfe-4498-b39c-e516e693a49d",
   "metadata": {},
   "outputs": [
    {
     "name": "stdout",
     "output_type": "stream",
     "text": [
      "      Name  Age  Score\n",
      "0    Alice   25   85.5\n",
      "1      Bob   30   90.0\n",
      "2  Charlie   35   95.0\n"
     ]
    }
   ],
   "source": [
    "data = [\n",
    "    {'Name': 'Alice', 'Age': 25, 'Score': 85.5},\n",
    "    {'Name': 'Bob', 'Age': 30, 'Score': 90.0},\n",
    "    {'Name': 'Charlie', 'Age': 35, 'Score': 95.0}\n",
    "]\n",
    "\n",
    "df = pd.DataFrame(data)\n",
    "print(df)"
   ]
  },
  {
   "cell_type": "markdown",
   "id": "96dc0525-3ea1-4b56-81a2-0761852b72bc",
   "metadata": {},
   "source": [
    "**Notes:**\n",
    "  \n",
    "* More flexible when rows have similar structure.\n",
    "* Used often when collecting data from APIs (JSON format)."
   ]
  },
  {
   "cell_type": "markdown",
   "id": "b6a1fc8b-ba49-4828-9223-7be26a2495a7",
   "metadata": {},
   "source": [
    "## 3. From a List of Lists (or Tuples)\n",
    "\n",
    "Useful when you just have raw data but need to specify column names.\n",
    "\n",
    "**Example 3:**"
   ]
  },
  {
   "cell_type": "code",
   "execution_count": 3,
   "id": "97ee51f4-41b2-4d38-82e2-709b92406bac",
   "metadata": {},
   "outputs": [
    {
     "name": "stdout",
     "output_type": "stream",
     "text": [
      "      Name  Age  Score\n",
      "0    Alice   25   85.5\n",
      "1      Bob   30   90.0\n",
      "2  Charlie   35   95.0\n"
     ]
    }
   ],
   "source": [
    "data = [\n",
    "    ['Alice', 25, 85.5],\n",
    "    ['Bob', 30, 90.0],\n",
    "    ['Charlie', 35, 95.0]\n",
    "]\n",
    "\n",
    "columns = ['Name', 'Age', 'Score']\n",
    "\n",
    "df = pd.DataFrame(data, columns=columns)\n",
    "print(df)"
   ]
  },
  {
   "cell_type": "markdown",
   "id": "ef181d06-07cf-4989-bc2e-9348da94c1a2",
   "metadata": {},
   "source": [
    "**Notes:**\n",
    "  \n",
    "* Each list/tuple = one row.\n",
    "* You must pass column names."
   ]
  },
  {
   "cell_type": "markdown",
   "id": "106d341b-82ea-4299-b12d-19bd0b7572ab",
   "metadata": {},
   "source": [
    "## 4. From Numpy Arrays\n",
    "\n",
    "Perfect for ML and scientific computing since data is often numeric.\n",
    "\n",
    "**Example 4:**"
   ]
  },
  {
   "cell_type": "code",
   "execution_count": 4,
   "id": "c097b523-3ae0-4a0c-851e-2e3a728a3125",
   "metadata": {},
   "outputs": [
    {
     "name": "stdout",
     "output_type": "stream",
     "text": [
      "   Feature1  Feature2  Feature3\n",
      "0         1         2         3\n",
      "1         4         5         6\n"
     ]
    }
   ],
   "source": [
    "import numpy as np\n",
    "\n",
    "arr = np.array([[1, 2, 3], [4, 5, 6]])\n",
    "\n",
    "df = pd.DataFrame(arr, columns=['Feature1', 'Feature2', 'Feature3'])\n",
    "print(df)"
   ]
  },
  {
   "cell_type": "markdown",
   "id": "5c2cc2b2-0709-40f6-913b-1b6eeb002826",
   "metadata": {},
   "source": [
    "**Notes:**\n",
    "  \n",
    "* Useful for converting model output into a labeled format.\n",
    "* Can be used with .values from other DataFrames too."
   ]
  },
  {
   "cell_type": "markdown",
   "id": "411be5a8-d956-4414-b47d-755fb1efcef7",
   "metadata": {},
   "source": [
    "## 5. From Pandas Series\n",
    "\n",
    "A DataFrame is a group of Series objects.\n",
    "\n",
    "**Example 5:**"
   ]
  },
  {
   "cell_type": "code",
   "execution_count": 8,
   "id": "141555f6-b4e5-4904-974a-195105145436",
   "metadata": {},
   "outputs": [
    {
     "name": "stdout",
     "output_type": "stream",
     "text": [
      "    X   Y\n",
      "0  10  40\n",
      "1  20  50\n",
      "2  30  60\n"
     ]
    }
   ],
   "source": [
    "s1 = pd.Series([10, 20, 30], name='X')\n",
    "s2 = pd.Series([40, 50, 60], name='Y')\n",
    "\n",
    "df = pd.concat([s1, s2], axis=1)\n",
    "print(df)"
   ]
  },
  {
   "cell_type": "markdown",
   "id": "3bb3b92d-1c15-480f-9333-4f3575ef280b",
   "metadata": {},
   "source": [
    "**Notes:**\n",
    "\n",
    "* Very useful when transforming columns one at a time.\n",
    "* Series can come from computations or filtering."
   ]
  },
  {
   "cell_type": "markdown",
   "id": "5e937f91-5386-466a-aee7-4d2c7eb0816a",
   "metadata": {},
   "source": [
    "## 6. From a CSV or Excel File\n",
    "\n",
    "Very common in real-world ML workflows.\n",
    "\n",
    "**Example 6:**"
   ]
  },
  {
   "cell_type": "code",
   "execution_count": 10,
   "id": "8663573b-be87-43af-aeb4-67f625fb9d9b",
   "metadata": {},
   "outputs": [
    {
     "data": {
      "text/html": [
       "<div>\n",
       "<style scoped>\n",
       "    .dataframe tbody tr th:only-of-type {\n",
       "        vertical-align: middle;\n",
       "    }\n",
       "\n",
       "    .dataframe tbody tr th {\n",
       "        vertical-align: top;\n",
       "    }\n",
       "\n",
       "    .dataframe thead th {\n",
       "        text-align: right;\n",
       "    }\n",
       "</style>\n",
       "<table border=\"1\" class=\"dataframe\">\n",
       "  <thead>\n",
       "    <tr style=\"text-align: right;\">\n",
       "      <th></th>\n",
       "      <th>PassengerId</th>\n",
       "      <th>Survived</th>\n",
       "      <th>Pclass</th>\n",
       "      <th>Name</th>\n",
       "      <th>Sex</th>\n",
       "      <th>Age</th>\n",
       "      <th>SibSp</th>\n",
       "      <th>Parch</th>\n",
       "      <th>Ticket</th>\n",
       "      <th>Fare</th>\n",
       "      <th>Cabin</th>\n",
       "      <th>Embarked</th>\n",
       "    </tr>\n",
       "  </thead>\n",
       "  <tbody>\n",
       "    <tr>\n",
       "      <th>0</th>\n",
       "      <td>1</td>\n",
       "      <td>0</td>\n",
       "      <td>3</td>\n",
       "      <td>Braund, Mr. Owen Harris</td>\n",
       "      <td>male</td>\n",
       "      <td>22.0</td>\n",
       "      <td>1</td>\n",
       "      <td>0</td>\n",
       "      <td>A/5 21171</td>\n",
       "      <td>7.2500</td>\n",
       "      <td>NaN</td>\n",
       "      <td>S</td>\n",
       "    </tr>\n",
       "    <tr>\n",
       "      <th>1</th>\n",
       "      <td>2</td>\n",
       "      <td>1</td>\n",
       "      <td>1</td>\n",
       "      <td>Cumings, Mrs. John Bradley (Florence Briggs Th...</td>\n",
       "      <td>female</td>\n",
       "      <td>38.0</td>\n",
       "      <td>1</td>\n",
       "      <td>0</td>\n",
       "      <td>PC 17599</td>\n",
       "      <td>71.2833</td>\n",
       "      <td>C85</td>\n",
       "      <td>C</td>\n",
       "    </tr>\n",
       "    <tr>\n",
       "      <th>2</th>\n",
       "      <td>3</td>\n",
       "      <td>1</td>\n",
       "      <td>3</td>\n",
       "      <td>Heikkinen, Miss. Laina</td>\n",
       "      <td>female</td>\n",
       "      <td>26.0</td>\n",
       "      <td>0</td>\n",
       "      <td>0</td>\n",
       "      <td>STON/O2. 3101282</td>\n",
       "      <td>7.9250</td>\n",
       "      <td>NaN</td>\n",
       "      <td>S</td>\n",
       "    </tr>\n",
       "    <tr>\n",
       "      <th>3</th>\n",
       "      <td>4</td>\n",
       "      <td>1</td>\n",
       "      <td>1</td>\n",
       "      <td>Futrelle, Mrs. Jacques Heath (Lily May Peel)</td>\n",
       "      <td>female</td>\n",
       "      <td>35.0</td>\n",
       "      <td>1</td>\n",
       "      <td>0</td>\n",
       "      <td>113803</td>\n",
       "      <td>53.1000</td>\n",
       "      <td>C123</td>\n",
       "      <td>S</td>\n",
       "    </tr>\n",
       "    <tr>\n",
       "      <th>4</th>\n",
       "      <td>5</td>\n",
       "      <td>0</td>\n",
       "      <td>3</td>\n",
       "      <td>Allen, Mr. William Henry</td>\n",
       "      <td>male</td>\n",
       "      <td>35.0</td>\n",
       "      <td>0</td>\n",
       "      <td>0</td>\n",
       "      <td>373450</td>\n",
       "      <td>8.0500</td>\n",
       "      <td>NaN</td>\n",
       "      <td>S</td>\n",
       "    </tr>\n",
       "  </tbody>\n",
       "</table>\n",
       "</div>"
      ],
      "text/plain": [
       "   PassengerId  Survived  Pclass  \\\n",
       "0            1         0       3   \n",
       "1            2         1       1   \n",
       "2            3         1       3   \n",
       "3            4         1       1   \n",
       "4            5         0       3   \n",
       "\n",
       "                                                Name     Sex   Age  SibSp  \\\n",
       "0                            Braund, Mr. Owen Harris    male  22.0      1   \n",
       "1  Cumings, Mrs. John Bradley (Florence Briggs Th...  female  38.0      1   \n",
       "2                             Heikkinen, Miss. Laina  female  26.0      0   \n",
       "3       Futrelle, Mrs. Jacques Heath (Lily May Peel)  female  35.0      1   \n",
       "4                           Allen, Mr. William Henry    male  35.0      0   \n",
       "\n",
       "   Parch            Ticket     Fare Cabin Embarked  \n",
       "0      0         A/5 21171   7.2500   NaN        S  \n",
       "1      0          PC 17599  71.2833   C85        C  \n",
       "2      0  STON/O2. 3101282   7.9250   NaN        S  \n",
       "3      0            113803  53.1000  C123        S  \n",
       "4      0            373450   8.0500   NaN        S  "
      ]
     },
     "execution_count": 10,
     "metadata": {},
     "output_type": "execute_result"
    }
   ],
   "source": [
    "df = pd.read_csv(\"Dataset/titanic.csv\")  # Make sure the file exists\n",
    "df.head()"
   ]
  },
  {
   "cell_type": "markdown",
   "id": "f5fadbfc-1b8f-4995-8ccf-8c23f48abd4f",
   "metadata": {},
   "source": [
    "**Notes:**\n",
    "  \n",
    "* Use .read_csv() or .read_excel() for importing data.\n",
    "* You’ll often clean or preprocess this data before using it."
   ]
  },
  {
   "cell_type": "markdown",
   "id": "ffa41c36-506d-4a96-8c20-b04e78701f62",
   "metadata": {},
   "source": [
    "## 7. From a Dictionary of Series\n",
    "\n",
    "You can mix column types this way.\n",
    "\n",
    "***Example 7:**"
   ]
  },
  {
   "cell_type": "code",
   "execution_count": 12,
   "id": "8fa24f64-a97a-45ad-a03f-52e8c9655bfc",
   "metadata": {},
   "outputs": [
    {
     "name": "stdout",
     "output_type": "stream",
     "text": [
      "   col1 col2\n",
      "0     1    A\n",
      "1     2    B\n",
      "2     3    C\n"
     ]
    }
   ],
   "source": [
    "data = {\n",
    "    'col1': pd.Series([1, 2, 3]),\n",
    "    'col2': pd.Series(['A', 'B', 'C'])\n",
    "}\n",
    "\n",
    "df = pd.DataFrame(data)\n",
    "print(df)"
   ]
  },
  {
   "cell_type": "markdown",
   "id": "d9b182bb-63be-4384-9fa2-2cde6db02417",
   "metadata": {},
   "source": [
    "## 8. Using from_records()\n",
    "\n",
    "Handy when you want more control over structure.\n",
    "\n",
    "**Example 8:**"
   ]
  },
  {
   "cell_type": "code",
   "execution_count": 13,
   "id": "cf1f3af7-2d8f-476e-b8b2-18c3629b7843",
   "metadata": {},
   "outputs": [
    {
     "name": "stdout",
     "output_type": "stream",
     "text": [
      "   ID   Name  Score\n",
      "0   1  Alice   85.5\n",
      "1   2    Bob   90.0\n"
     ]
    }
   ],
   "source": [
    "data = [\n",
    "    (1, 'Alice', 85.5),\n",
    "    (2, 'Bob', 90.0)\n",
    "]\n",
    "\n",
    "df = pd.DataFrame.from_records(data, columns=['ID', 'Name', 'Score'])\n",
    "print(df)"
   ]
  },
  {
   "cell_type": "markdown",
   "id": "ee03be9b-c572-467a-8c98-176af958bcfb",
   "metadata": {},
   "source": [
    "## 9. Using from_dict() with orientation\n",
    "\n",
    "**Example 9:**"
   ]
  },
  {
   "cell_type": "code",
   "execution_count": 14,
   "id": "64e36fa8-3792-49b8-80ab-bb6e2999ffc1",
   "metadata": {},
   "outputs": [
    {
     "name": "stdout",
     "output_type": "stream",
     "text": [
      "      A  B\n",
      "row1  1  2\n",
      "row2  3  4\n"
     ]
    }
   ],
   "source": [
    "data = {\n",
    "    'row1': [1, 2],\n",
    "    'row2': [3, 4]\n",
    "}\n",
    "\n",
    "df = pd.DataFrame.from_dict(data, orient='index', columns=['A', 'B'])\n",
    "print(df)"
   ]
  },
  {
   "cell_type": "markdown",
   "id": "8be6e6a5-dd50-4f92-b22b-4f007064307e",
   "metadata": {},
   "source": [
    "**Notes:**\n",
    "  \n",
    "* orient='index' treats dictionary keys as row labels.\n",
    "* Useful in hierarchical data scenarios."
   ]
  },
  {
   "cell_type": "markdown",
   "id": "ac038d38-cb4e-458f-abaa-80c98d81f097",
   "metadata": {},
   "source": [
    "## 10. Empty DataFrame (and Filling Later)\n",
    "\n",
    "Good for initializing a structure to append to.\n",
    "\n",
    "**Example 10:**"
   ]
  },
  {
   "cell_type": "code",
   "execution_count": 15,
   "id": "92465abc-9c59-4421-b10d-c13b5e518596",
   "metadata": {},
   "outputs": [
    {
     "name": "stdout",
     "output_type": "stream",
     "text": [
      "   A  B  C\n",
      "0  1  2  3\n"
     ]
    }
   ],
   "source": [
    "df = pd.DataFrame(columns=['A', 'B', 'C'])\n",
    "df.loc[0] = [1, 2, 3]\n",
    "print(df)"
   ]
  },
  {
   "cell_type": "markdown",
   "id": "bff88412-2cd8-44b7-9bd3-f5f8f49b8196",
   "metadata": {},
   "source": [
    "## When to Use Which?\n",
    "\n",
    "| Use Case | Method |\n",
    "| --- | --- |\n",
    "| Manual entry / small data | dict or list of dicts |\n",
    "| Numeric arrays (ML input/output) | numpy |\n",
    "| Large files / external data | read_csv, read_excel |\n",
    "| Building up row by row | Empty + append / .loc[] |\n",
    "| From APIs / JSON | list of dicts or from_dict() |"
   ]
  }
 ],
 "metadata": {
  "kernelspec": {
   "display_name": "Python 3 (ipykernel)",
   "language": "python",
   "name": "python3"
  },
  "language_info": {
   "codemirror_mode": {
    "name": "ipython",
    "version": 3
   },
   "file_extension": ".py",
   "mimetype": "text/x-python",
   "name": "python",
   "nbconvert_exporter": "python",
   "pygments_lexer": "ipython3",
   "version": "3.12.2"
  }
 },
 "nbformat": 4,
 "nbformat_minor": 5
}
