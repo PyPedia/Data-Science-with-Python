{
 "cells": [
  {
   "cell_type": "markdown",
   "id": "5e4ba4a2-7f2e-481c-a227-48982e9013ff",
   "metadata": {},
   "source": [
    "## Why Vectors and Matrices Matter in Machine Learning\n",
    "\n",
    "* Vectors represent features, weights, biases, and gradients.\n",
    "* Matrices represent data batches, weights in neural networks, etc.\n",
    "* NumPy makes it easy to handle these structures efficiently."
   ]
  },
  {
   "cell_type": "markdown",
   "id": "f019ca41-3e6e-4521-be44-3cabe5299621",
   "metadata": {},
   "source": [
    "## Step 1: Import NumPy"
   ]
  },
  {
   "cell_type": "code",
   "execution_count": 1,
   "id": "fd0afb0e-8af6-41bc-b7eb-412cd84a2ebb",
   "metadata": {},
   "outputs": [],
   "source": [
    "import numpy as np"
   ]
  },
  {
   "cell_type": "markdown",
   "id": "10b20abd-8d2a-48c3-9d03-1d1243ef2d7a",
   "metadata": {},
   "source": [
    "**Note:** Always use np as an alias; it's the standard."
   ]
  },
  {
   "cell_type": "markdown",
   "id": "d07c2059-c2e7-4666-913f-936c72857140",
   "metadata": {},
   "source": [
    "## Step 2: Creating Vectors\n",
    "\n",
    "**1D Vector (Feature Vector)**"
   ]
  },
  {
   "cell_type": "code",
   "execution_count": 2,
   "id": "68e8a5e2-006b-485a-a6c4-e31ebbc8bd9b",
   "metadata": {},
   "outputs": [
    {
     "name": "stdout",
     "output_type": "stream",
     "text": [
      "Vector v: [1 2 3]\n"
     ]
    }
   ],
   "source": [
    "v = np.array([1, 2, 3])\n",
    "print(\"Vector v:\", v)"
   ]
  },
  {
   "cell_type": "markdown",
   "id": "591e7596-1226-4f43-8705-2500963a774a",
   "metadata": {},
   "source": [
    "**Practical Note:**\n",
    "\n",
    "In ML, a feature vector for a single data point might look like this:"
   ]
  },
  {
   "cell_type": "code",
   "execution_count": 3,
   "id": "298f9d1a-b3d8-4c0b-be8e-73d81073aac7",
   "metadata": {},
   "outputs": [],
   "source": [
    "x = np.array([0.5, 0.8, 0.2])  # 3 features"
   ]
  },
  {
   "cell_type": "markdown",
   "id": "38daf0ea-093b-4b2a-9e6d-8108fc3a4abc",
   "metadata": {},
   "source": [
    "## Step 3: Creating Matrices\n",
    "\n",
    "**2D Matrix**"
   ]
  },
  {
   "cell_type": "code",
   "execution_count": 5,
   "id": "3c5ab587-55cb-4c30-93ef-6ae9f5cc4648",
   "metadata": {},
   "outputs": [
    {
     "name": "stdout",
     "output_type": "stream",
     "text": [
      "Matrix M:\n",
      " [[1 2 3]\n",
      " [4 5 6]]\n"
     ]
    }
   ],
   "source": [
    "M = np.array([[1, 2, 3],\n",
    "              [4, 5, 6]])\n",
    "print(\"Matrix M:\\n\", M)"
   ]
  },
  {
   "cell_type": "markdown",
   "id": "9d1d69a7-c0b4-45c9-a565-0e7b2a6452f0",
   "metadata": {},
   "source": [
    "**Practical Note:**\n",
    "\n",
    "A matrix can represent multiple samples:"
   ]
  },
  {
   "cell_type": "code",
   "execution_count": 6,
   "id": "905e330c-2015-47e3-8a0b-bcaa02799c06",
   "metadata": {},
   "outputs": [],
   "source": [
    "X = np.array([[0.5, 0.8, 0.2], \n",
    "              [0.9, 0.3, 0.5]])  # 2 samples × 3 features"
   ]
  },
  {
   "cell_type": "markdown",
   "id": "b18b333f-3f25-4f0b-ada1-a12c7c6ab5fa",
   "metadata": {},
   "source": [
    "## Step 4: Shape, Size, Dimension"
   ]
  },
  {
   "cell_type": "code",
   "execution_count": 7,
   "id": "45cfe656-e1f0-42a6-84ba-3f87e0ab3bcd",
   "metadata": {},
   "outputs": [
    {
     "name": "stdout",
     "output_type": "stream",
     "text": [
      "Shape of X: (2, 3)\n"
     ]
    }
   ],
   "source": [
    "print(\"Shape of X:\", X.shape)       # (2, 3)"
   ]
  },
  {
   "cell_type": "code",
   "execution_count": 8,
   "id": "8b513415-d0b4-40f2-bed4-e1a8af952811",
   "metadata": {},
   "outputs": [
    {
     "name": "stdout",
     "output_type": "stream",
     "text": [
      "Size of X: 6\n"
     ]
    }
   ],
   "source": [
    "print(\"Size of X:\", X.size)         # 6 elements"
   ]
  },
  {
   "cell_type": "code",
   "execution_count": 9,
   "id": "8b8b1ca0-6464-4099-9e3f-8a5038a58db9",
   "metadata": {},
   "outputs": [
    {
     "name": "stdout",
     "output_type": "stream",
     "text": [
      "Dimension of X: 2\n"
     ]
    }
   ],
   "source": [
    "print(\"Dimension of X:\", X.ndim)    # 2"
   ]
  },
  {
   "cell_type": "markdown",
   "id": "933d8941-7cb0-41ea-9b89-79fbf37fcc12",
   "metadata": {},
   "source": [
    "## Step 5: Vector & Matrix Operations\n",
    "\n",
    "**Addition**"
   ]
  },
  {
   "cell_type": "code",
   "execution_count": 10,
   "id": "8706aeb2-af9d-48d0-9f64-2fb18e7faef5",
   "metadata": {},
   "outputs": [
    {
     "name": "stdout",
     "output_type": "stream",
     "text": [
      "a + b = [5 7 9]\n"
     ]
    }
   ],
   "source": [
    "a = np.array([1, 2, 3])\n",
    "b = np.array([4, 5, 6])\n",
    "print(\"a + b =\", a + b)"
   ]
  },
  {
   "cell_type": "markdown",
   "id": "08856b04-74d4-4d80-a445-c06a572cee4e",
   "metadata": {},
   "source": [
    "**Scalar Multiplication**"
   ]
  },
  {
   "cell_type": "code",
   "execution_count": 11,
   "id": "84677558-9c0a-48b9-ae81-6e352ea321cd",
   "metadata": {},
   "outputs": [
    {
     "name": "stdout",
     "output_type": "stream",
     "text": [
      "2 * a = [2 4 6]\n"
     ]
    }
   ],
   "source": [
    "print(\"2 * a =\", 2 * a)"
   ]
  },
  {
   "cell_type": "markdown",
   "id": "66fa9f65-1363-47e7-82d3-bb2f4017d3e2",
   "metadata": {},
   "source": [
    "**Matrix Addition (Same Shape)**"
   ]
  },
  {
   "cell_type": "code",
   "execution_count": 12,
   "id": "0f787404-c7b0-42c0-b834-4cddda173c15",
   "metadata": {},
   "outputs": [
    {
     "name": "stdout",
     "output_type": "stream",
     "text": [
      "A + B:\n",
      " [[ 6  8]\n",
      " [10 12]]\n"
     ]
    }
   ],
   "source": [
    "A = np.array([[1, 2], [3, 4]])\n",
    "B = np.array([[5, 6], [7, 8]])\n",
    "\n",
    "print(\"A + B:\\n\", A + B)"
   ]
  },
  {
   "cell_type": "markdown",
   "id": "139653e7-41bf-47c4-9945-89bf970108a3",
   "metadata": {},
   "source": [
    "## Step 6: Dot Product\n",
    "\n",
    "**Vector Dot Product**"
   ]
  },
  {
   "cell_type": "code",
   "execution_count": 13,
   "id": "7e6c77ee-bacd-4dcb-9726-33db56da60c3",
   "metadata": {},
   "outputs": [
    {
     "name": "stdout",
     "output_type": "stream",
     "text": [
      "Dot product: 32\n"
     ]
    }
   ],
   "source": [
    "a = np.array([1, 2, 3])\n",
    "b = np.array([4, 5, 6])\n",
    "dot = np.dot(a, b)\n",
    "print(\"Dot product:\", dot)  # 1*4 + 2*5 + 3*6 = 32"
   ]
  },
  {
   "cell_type": "markdown",
   "id": "8855ed4c-0193-4a43-9569-c5faccde6983",
   "metadata": {},
   "source": [
    "**Matrix Multiplication**"
   ]
  },
  {
   "cell_type": "code",
   "execution_count": 14,
   "id": "e51739b3-65d0-4070-82c3-36c2103d4ab8",
   "metadata": {},
   "outputs": [
    {
     "name": "stdout",
     "output_type": "stream",
     "text": [
      "Matrix product:\n",
      " [[19 22]\n",
      " [43 50]]\n"
     ]
    }
   ],
   "source": [
    "A = np.array([[1, 2], [3, 4]])\n",
    "B = np.array([[5, 6], [7, 8]])\n",
    "product = np.dot(A, B)\n",
    "print(\"Matrix product:\\n\", product)"
   ]
  },
  {
   "cell_type": "markdown",
   "id": "1b139f1e-3452-4164-9dbe-fd64995fe60d",
   "metadata": {},
   "source": [
    "**Note:** Matrix multiplication is crucial in forward and backward passes in neural networks."
   ]
  },
  {
   "cell_type": "markdown",
   "id": "58101c44-3a34-4235-b88c-8ab42697156e",
   "metadata": {},
   "source": [
    "## Step 7: Transpose"
   ]
  },
  {
   "cell_type": "code",
   "execution_count": 15,
   "id": "f1a2ecbd-0e09-4340-9401-6875359a3a96",
   "metadata": {},
   "outputs": [
    {
     "name": "stdout",
     "output_type": "stream",
     "text": [
      "X Transpose:\n",
      " [[1 3 5]\n",
      " [2 4 6]]\n"
     ]
    }
   ],
   "source": [
    "X = np.array([[1, 2], [3, 4], [5, 6]])\n",
    "print(\"X Transpose:\\n\", X.T)"
   ]
  },
  {
   "cell_type": "markdown",
   "id": "3c717c95-bef9-4417-9832-b04349b7ab3b",
   "metadata": {},
   "source": [
    "Transposing swaps rows and columns."
   ]
  },
  {
   "cell_type": "markdown",
   "id": "eae12aed-1cb1-4534-a2f9-34644b520f11",
   "metadata": {},
   "source": [
    "## Step 8: Reshape"
   ]
  },
  {
   "cell_type": "code",
   "execution_count": 16,
   "id": "7b8ccf81-23ca-469f-b455-d5a2eee8ccfc",
   "metadata": {},
   "outputs": [
    {
     "name": "stdout",
     "output_type": "stream",
     "text": [
      "Reshaped array:\n",
      " [[1 2 3]\n",
      " [4 5 6]]\n"
     ]
    }
   ],
   "source": [
    "a = np.array([1, 2, 3, 4, 5, 6])\n",
    "reshaped = a.reshape((2, 3))\n",
    "print(\"Reshaped array:\\n\", reshaped)"
   ]
  },
  {
   "cell_type": "markdown",
   "id": "3cd89c7d-a3c5-4a8b-8dd6-d306677ef65f",
   "metadata": {},
   "source": [
    "Used in ML when feeding data in batches (reshape features)."
   ]
  },
  {
   "cell_type": "markdown",
   "id": "4f0798c3-1160-46e7-8f83-05496b03526d",
   "metadata": {},
   "source": [
    "## Step 9: Broadcasting"
   ]
  },
  {
   "cell_type": "code",
   "execution_count": 17,
   "id": "f0a1758f-3762-4b90-be49-9dca302fd1af",
   "metadata": {},
   "outputs": [
    {
     "name": "stdout",
     "output_type": "stream",
     "text": [
      "Broadcasted result:\n",
      " [[10 20 30]\n",
      " [20 40 60]\n",
      " [30 60 90]]\n"
     ]
    }
   ],
   "source": [
    "a = np.array([[1], [2], [3]])  # Shape: (3,1)\n",
    "b = np.array([10, 20, 30])     # Shape: (1,3)\n",
    "result = a * b\n",
    "print(\"Broadcasted result:\\n\", result)"
   ]
  },
  {
   "cell_type": "markdown",
   "id": "6c8e5c40-89ea-4d31-aa18-3689898bb994",
   "metadata": {},
   "source": [
    "Broadcasting makes element-wise operations work across shapes."
   ]
  },
  {
   "cell_type": "markdown",
   "id": "dcd45a48-862f-4903-8078-556282a8c597",
   "metadata": {},
   "source": [
    "## Step 10: Identity & Zero Matrices"
   ]
  },
  {
   "cell_type": "code",
   "execution_count": 20,
   "id": "68177c18-62de-4725-bc9c-07d1d9f30734",
   "metadata": {},
   "outputs": [
    {
     "name": "stdout",
     "output_type": "stream",
     "text": [
      "Identity:\n",
      " [[1. 0. 0.]\n",
      " [0. 1. 0.]\n",
      " [0. 0. 1.]]\n"
     ]
    }
   ],
   "source": [
    "I = np.eye(3)\n",
    "print(\"Identity:\\n\", I)"
   ]
  },
  {
   "cell_type": "code",
   "execution_count": 19,
   "id": "08e757cd-2b48-4b97-96bc-368ee3724244",
   "metadata": {},
   "outputs": [
    {
     "name": "stdout",
     "output_type": "stream",
     "text": [
      "Zeros:\n",
      " [[0. 0. 0.]\n",
      " [0. 0. 0.]]\n"
     ]
    }
   ],
   "source": [
    "Z = np.zeros((2, 3))\n",
    "print(\"Zeros:\\n\", Z)"
   ]
  },
  {
   "cell_type": "markdown",
   "id": "0375c45a-0f36-42de-b6ef-a44ce245a7db",
   "metadata": {},
   "source": [
    "Use Case: Identity matrix is the \"do nothing\" matrix (like 1 for numbers)."
   ]
  },
  {
   "cell_type": "markdown",
   "id": "3ed0bbba-1edd-4670-9b51-b1c73bb40719",
   "metadata": {},
   "source": [
    "## Step 11: Useful Matrix Functions"
   ]
  },
  {
   "cell_type": "code",
   "execution_count": 24,
   "id": "cbd7f9a1-aa14-4722-a81b-b56e34020c7b",
   "metadata": {},
   "outputs": [],
   "source": [
    "A = np.array([[1, 2], [3, 4]])"
   ]
  },
  {
   "cell_type": "code",
   "execution_count": 23,
   "id": "7913c72c-867b-48ac-a025-dad362df8eab",
   "metadata": {},
   "outputs": [
    {
     "name": "stdout",
     "output_type": "stream",
     "text": [
      "Sum: 10\n"
     ]
    }
   ],
   "source": [
    "print(\"Sum:\", np.sum(A))"
   ]
  },
  {
   "cell_type": "code",
   "execution_count": 22,
   "id": "b6699d6e-02ad-46d7-9fbe-404c1411ad3e",
   "metadata": {},
   "outputs": [
    {
     "name": "stdout",
     "output_type": "stream",
     "text": [
      "Max: 4\n"
     ]
    }
   ],
   "source": [
    "print(\"Max:\", np.max(A))"
   ]
  },
  {
   "cell_type": "code",
   "execution_count": 25,
   "id": "4e47a208-8994-4674-8fb0-58bac7ae6028",
   "metadata": {},
   "outputs": [
    {
     "name": "stdout",
     "output_type": "stream",
     "text": [
      "Mean: 2.5\n"
     ]
    }
   ],
   "source": [
    "print(\"Mean:\", np.mean(A))"
   ]
  },
  {
   "cell_type": "code",
   "execution_count": 26,
   "id": "f0a48439-1851-4a76-a622-26b9b4c2ddf9",
   "metadata": {},
   "outputs": [
    {
     "name": "stdout",
     "output_type": "stream",
     "text": [
      "Standard deviation: 1.118033988749895\n"
     ]
    }
   ],
   "source": [
    "print(\"Standard deviation:\", np.std(A))"
   ]
  },
  {
   "cell_type": "markdown",
   "id": "e936729c-56ba-483c-a051-498733eaa3cb",
   "metadata": {},
   "source": [
    "## Step 12: Inverse and Determinant"
   ]
  },
  {
   "cell_type": "code",
   "execution_count": 28,
   "id": "c41c05bc-57b9-45a4-9bf0-56f00d61cae7",
   "metadata": {},
   "outputs": [],
   "source": [
    "from numpy.linalg import inv, det\n",
    "\n",
    "A = np.array([[1, 2], [3, 4]])"
   ]
  },
  {
   "cell_type": "code",
   "execution_count": 30,
   "id": "9b7aa72c-afb8-46cd-b5c3-53da533f5230",
   "metadata": {},
   "outputs": [
    {
     "name": "stdout",
     "output_type": "stream",
     "text": [
      "Inverse:\n",
      " [[-2.   1. ]\n",
      " [ 1.5 -0.5]]\n"
     ]
    }
   ],
   "source": [
    "A_inv = inv(A)\n",
    "\n",
    "print(\"Inverse:\\n\", A_inv)"
   ]
  },
  {
   "cell_type": "code",
   "execution_count": 32,
   "id": "df049c39-5bdb-4008-a893-c8b140337120",
   "metadata": {},
   "outputs": [
    {
     "name": "stdout",
     "output_type": "stream",
     "text": [
      "Determinant: -2.0000000000000004\n"
     ]
    }
   ],
   "source": [
    "A_det = det(A)\n",
    "\n",
    "print(\"Determinant:\", A_det)"
   ]
  },
  {
   "cell_type": "markdown",
   "id": "f0113df7-d2b2-473c-a660-cc998f3f8087",
   "metadata": {},
   "source": [
    "Not all matrices are invertible. You can check with det(A) != 0."
   ]
  },
  {
   "cell_type": "markdown",
   "id": "6f26f5ae-1b62-4b8b-bbeb-f3048b6ad6db",
   "metadata": {},
   "source": [
    "## Real ML Example: Linear Model\n",
    "\n",
    "Given a dataset of X (features) and w (weights):"
   ]
  },
  {
   "cell_type": "code",
   "execution_count": 33,
   "id": "94327c90-eec6-4561-90d0-0c71c9671472",
   "metadata": {},
   "outputs": [
    {
     "name": "stdout",
     "output_type": "stream",
     "text": [
      "Predictions: [1.  1.6 2.2]\n"
     ]
    }
   ],
   "source": [
    "X = np.array([[1, 2], [3, 4], [5, 6]])   # 3 samples, 2 features\n",
    "w = np.array([0.1, 0.2])                # weights\n",
    "b = 0.5                                 # bias\n",
    "\n",
    "# y = Xw + b\n",
    "y = np.dot(X, w) + b\n",
    "print(\"Predictions:\", y)"
   ]
  },
  {
   "cell_type": "markdown",
   "id": "465a32ee-d540-466e-a81e-a62ecf0f370e",
   "metadata": {},
   "source": [
    "This is how predictions work in Linear Regression, Perceptrons, etc."
   ]
  }
 ],
 "metadata": {
  "kernelspec": {
   "display_name": "Python 3 (ipykernel)",
   "language": "python",
   "name": "python3"
  },
  "language_info": {
   "codemirror_mode": {
    "name": "ipython",
    "version": 3
   },
   "file_extension": ".py",
   "mimetype": "text/x-python",
   "name": "python",
   "nbconvert_exporter": "python",
   "pygments_lexer": "ipython3",
   "version": "3.12.2"
  }
 },
 "nbformat": 4,
 "nbformat_minor": 5
}
