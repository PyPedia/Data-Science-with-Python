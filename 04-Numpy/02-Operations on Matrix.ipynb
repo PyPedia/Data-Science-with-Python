{
 "cells": [
  {
   "cell_type": "markdown",
   "id": "55607eb6-376a-41de-8ded-bac17c9bb8ed",
   "metadata": {},
   "source": [
    "## Prerequisites:\n",
    "\n",
    "Install NumPy (if you haven’t already):"
   ]
  },
  {
   "cell_type": "code",
   "execution_count": null,
   "id": "a7e66a30-8e9e-49e2-b80c-c138a6ca5ece",
   "metadata": {},
   "outputs": [],
   "source": [
    "pip install numpy"
   ]
  },
  {
   "cell_type": "markdown",
   "id": "a03071a8-fe68-421a-8c83-577470395bd4",
   "metadata": {},
   "source": [
    "Now, import it:"
   ]
  },
  {
   "cell_type": "code",
   "execution_count": 1,
   "id": "ac5f0735-2f5b-4376-bbf4-cae81ec12f47",
   "metadata": {},
   "outputs": [],
   "source": [
    "import numpy as np"
   ]
  },
  {
   "cell_type": "markdown",
   "id": "781b804b-b7df-4528-84fd-bc7bb5429abf",
   "metadata": {},
   "source": [
    "## 1. Matrix Creation\n",
    "\n",
    "**Why it matters:**\n",
    "\n",
    "In machine learning, matrices represent datasets, weights, features, etc.\n",
    "\n",
    "**Example:**"
   ]
  },
  {
   "cell_type": "code",
   "execution_count": 2,
   "id": "ca6872ee-8863-4977-a531-3b4558b6580c",
   "metadata": {},
   "outputs": [
    {
     "name": "stdout",
     "output_type": "stream",
     "text": [
      "Matrix A:\n",
      " [[1 2]\n",
      " [3 4]]\n"
     ]
    }
   ],
   "source": [
    "A = np.array([[1, 2], [3, 4]])\n",
    "print(\"Matrix A:\\n\", A)"
   ]
  },
  {
   "cell_type": "code",
   "execution_count": 3,
   "id": "15ecbf96-2b04-440b-9674-471c643a2a3b",
   "metadata": {},
   "outputs": [
    {
     "name": "stdout",
     "output_type": "stream",
     "text": [
      "Matrix B:\n",
      " [[5 6]\n",
      " [7 8]]\n"
     ]
    }
   ],
   "source": [
    "B = np.array([[5, 6], [7, 8]])\n",
    "print(\"Matrix B:\\n\", B)"
   ]
  },
  {
   "cell_type": "markdown",
   "id": "b62197dd-7541-495c-a210-06e529ae7e2f",
   "metadata": {},
   "source": [
    "## 2. Matrix Shape and Size\n",
    "\n",
    "**Why it matters:**\n",
    "\n",
    "Understanding the shape is essential when performing operations like matrix multiplication or feeding data into models.\n",
    "\n",
    "**Example:**"
   ]
  },
  {
   "cell_type": "code",
   "execution_count": 4,
   "id": "435535f9-3661-4913-93ef-5251bf05d65f",
   "metadata": {},
   "outputs": [
    {
     "name": "stdout",
     "output_type": "stream",
     "text": [
      "Shape of A: (2, 2)\n"
     ]
    }
   ],
   "source": [
    "print(\"Shape of A:\", A.shape)"
   ]
  },
  {
   "cell_type": "code",
   "execution_count": 5,
   "id": "dcc9df1b-d7cc-4027-99d1-de7f55cb5422",
   "metadata": {},
   "outputs": [
    {
     "name": "stdout",
     "output_type": "stream",
     "text": [
      "Size (total elements) of A: 4\n"
     ]
    }
   ],
   "source": [
    "print(\"Size (total elements) of A:\", A.size)"
   ]
  },
  {
   "cell_type": "markdown",
   "id": "d7ef2a94-e3c6-41e2-b241-dcee6a641d08",
   "metadata": {},
   "source": [
    "## 3. Matrix Addition and Subtraction\n",
    "\n",
    "**Why it matters:**\n",
    "\n",
    "Used in gradient updates, error propagation, etc.\n",
    "\n",
    "**Example:**"
   ]
  },
  {
   "cell_type": "code",
   "execution_count": 6,
   "id": "a7bb0d9d-4ad9-4d58-9f1d-25c15b126e28",
   "metadata": {},
   "outputs": [
    {
     "name": "stdout",
     "output_type": "stream",
     "text": [
      "Addition:\n",
      " [[ 6  8]\n",
      " [10 12]]\n"
     ]
    }
   ],
   "source": [
    "add = A + B\n",
    "print(\"Addition:\\n\", add)"
   ]
  },
  {
   "cell_type": "code",
   "execution_count": 7,
   "id": "ebbe707a-63dc-4877-801a-4ecbb8a120d1",
   "metadata": {},
   "outputs": [
    {
     "name": "stdout",
     "output_type": "stream",
     "text": [
      "Subtraction:\n",
      " [[-4 -4]\n",
      " [-4 -4]]\n"
     ]
    }
   ],
   "source": [
    "sub = A - B\n",
    "print(\"Subtraction:\\n\", sub)"
   ]
  },
  {
   "cell_type": "markdown",
   "id": "c595b30b-e3a6-4e30-9abf-ad84fed810e5",
   "metadata": {},
   "source": [
    "**Note:**\n",
    "  \n",
    "Dimensions must match for element-wise operations."
   ]
  },
  {
   "cell_type": "markdown",
   "id": "bfd88028-879d-4bb2-af49-bdf148a220fd",
   "metadata": {},
   "source": [
    "## 4. Scalar Multiplication\n",
    "\n",
    "**Why it matters:**\n",
    "\n",
    "Used to scale weights or normalize data.\n",
    "\n",
    "**Example:**"
   ]
  },
  {
   "cell_type": "code",
   "execution_count": 9,
   "id": "668e4eb2-9a13-4c3e-b836-af933c9d28e7",
   "metadata": {},
   "outputs": [
    {
     "name": "stdout",
     "output_type": "stream",
     "text": [
      "Scalar Multiplication (3 * A):\n",
      " [[ 3  6]\n",
      " [ 9 12]]\n"
     ]
    }
   ],
   "source": [
    "scaled = 3 * A\n",
    "print(\"Scalar Multiplication (3 * A):\\n\", scaled)"
   ]
  },
  {
   "cell_type": "markdown",
   "id": "5921b61e-4096-448f-997f-ec6998bcb76d",
   "metadata": {},
   "source": [
    "## 5. Element-wise Multiplication (Hadamard Product)\n",
    "\n",
    "**Why it matters:**\n",
    "\n",
    "Used in neural networks (element-wise ops in activation, etc.)\n",
    "\n",
    "**Example:**"
   ]
  },
  {
   "cell_type": "code",
   "execution_count": 10,
   "id": "d9bf42a2-05bc-4a60-a955-149cdec44bf2",
   "metadata": {},
   "outputs": [
    {
     "name": "stdout",
     "output_type": "stream",
     "text": [
      "Element-wise Multiplication:\n",
      " [[ 5 12]\n",
      " [21 32]]\n"
     ]
    }
   ],
   "source": [
    "elementwise = A * B\n",
    "print(\"Element-wise Multiplication:\\n\", elementwise)"
   ]
  },
  {
   "cell_type": "markdown",
   "id": "26bee7a9-1fc2-41ec-b534-976fadf3ec13",
   "metadata": {},
   "source": [
    "## 6. Matrix Multiplication (Dot Product)\n",
    "\n",
    "**Why it matters:**\n",
    "\n",
    "Core of linear models (linear regression, neural nets, etc.)\n",
    "\n",
    "**Example:**"
   ]
  },
  {
   "cell_type": "code",
   "execution_count": 11,
   "id": "547a53c6-d1f4-4b7b-8e61-3f295e4768aa",
   "metadata": {},
   "outputs": [
    {
     "name": "stdout",
     "output_type": "stream",
     "text": [
      "Matrix Multiplication (A @ B):\n",
      " [[19 22]\n",
      " [43 50]]\n"
     ]
    }
   ],
   "source": [
    "dot = A @ B  # or np.dot(A, B)\n",
    "print(\"Matrix Multiplication (A @ B):\\n\", dot)"
   ]
  },
  {
   "cell_type": "markdown",
   "id": "02736715-5d28-4412-a756-9f21cbf8d5f6",
   "metadata": {},
   "source": [
    "**Warning:**\n",
    "  \n",
    "Shapes must align: (m × n) @ (n × p) → (m × p)"
   ]
  },
  {
   "cell_type": "markdown",
   "id": "f82de9e5-4627-40a9-9083-b03bb13ebc8c",
   "metadata": {},
   "source": [
    "## 7. Transpose of a Matrix\n",
    "\n",
    "**Why it matters:**\n",
    "\n",
    "Used to align matrices for dot products or gradient computations.\n",
    "\n",
    "**Example:**"
   ]
  },
  {
   "cell_type": "code",
   "execution_count": 12,
   "id": "1ead3997-ecc7-4f75-b2a2-3bb719020287",
   "metadata": {},
   "outputs": [
    {
     "name": "stdout",
     "output_type": "stream",
     "text": [
      "Transpose of A:\n",
      " [[1 3]\n",
      " [2 4]]\n"
     ]
    }
   ],
   "source": [
    "transpose_A = A.T\n",
    "print(\"Transpose of A:\\n\", transpose_A)"
   ]
  },
  {
   "cell_type": "markdown",
   "id": "48278c88-2d4c-4b60-85b1-370c616c3fd9",
   "metadata": {},
   "source": [
    "## 8. Matrix Inverse\n",
    "\n",
    "**Why it matters:**\n",
    "\n",
    "Important in solving linear systems, finding weights in linear regression (normal equation).\n",
    "\n",
    "**Example:**"
   ]
  },
  {
   "cell_type": "code",
   "execution_count": 13,
   "id": "3f2c7b3c-160b-4cea-a513-72ca5d592190",
   "metadata": {},
   "outputs": [
    {
     "name": "stdout",
     "output_type": "stream",
     "text": [
      "Inverse of A:\n",
      " [[-2.   1. ]\n",
      " [ 1.5 -0.5]]\n"
     ]
    }
   ],
   "source": [
    "inv_A = np.linalg.inv(A)\n",
    "print(\"Inverse of A:\\n\", inv_A)"
   ]
  },
  {
   "cell_type": "markdown",
   "id": "8005efa2-7a43-4e72-96fb-497c1c13dcab",
   "metadata": {},
   "source": [
    "**Note:**\n",
    "\n",
    "Only square matrices with non-zero determinant can be inverted."
   ]
  },
  {
   "cell_type": "markdown",
   "id": "ee3aa8a7-5aab-449f-b3b6-c4c91c7c69fc",
   "metadata": {},
   "source": [
    "## 9. Matrix Determinant\n",
    "\n",
    "**Why it matters:**\n",
    "\n",
    "Used to check if matrix is invertible. In ML, sometimes in computing likelihoods (e.g. Gaussian distributions).\n",
    "\n",
    "**Example:**"
   ]
  },
  {
   "cell_type": "code",
   "execution_count": 15,
   "id": "d98f3212-6ff8-4f3e-b601-ed9103c6c975",
   "metadata": {},
   "outputs": [
    {
     "name": "stdout",
     "output_type": "stream",
     "text": [
      "Determinant of A: -2.0000000000000004\n"
     ]
    }
   ],
   "source": [
    "det_A = np.linalg.det(A)\n",
    "print(\"Determinant of A:\", det_A)"
   ]
  },
  {
   "cell_type": "markdown",
   "id": "109d4a0e-0062-41ce-ba4f-2fb7b31c4db7",
   "metadata": {},
   "source": [
    "## 10. Identity Matrix\n",
    "\n",
    "**Why it matters:**\n",
    "\n",
    "Acts like 1 in matrix multiplication. Used to initialize weights or as regularization.\n",
    "\n",
    "**Example:**"
   ]
  },
  {
   "cell_type": "code",
   "execution_count": 16,
   "id": "b76973d9-a0de-420e-8007-073456c78c19",
   "metadata": {},
   "outputs": [
    {
     "name": "stdout",
     "output_type": "stream",
     "text": [
      "Identity Matrix:\n",
      " [[1. 0.]\n",
      " [0. 1.]]\n"
     ]
    }
   ],
   "source": [
    "I = np.eye(2)\n",
    "print(\"Identity Matrix:\\n\", I)"
   ]
  },
  {
   "cell_type": "markdown",
   "id": "a6108b69-d8d6-4db9-a3ca-280843f61c6d",
   "metadata": {},
   "source": [
    "## 11. Solving Linear Equations (Ax = b)\n",
    "\n",
    "**Why it matters:**\n",
    "\n",
    "Very useful in linear regression using normal equation.\n",
    "\n",
    "$$ \\theta=\\left( X^{T}X \\right)^{-1}X^{T}y $$\n",
    "\n",
    "**Example:**"
   ]
  },
  {
   "cell_type": "code",
   "execution_count": 18,
   "id": "f975f123-899e-4afb-a942-1d7ab728f844",
   "metadata": {},
   "outputs": [
    {
     "name": "stdout",
     "output_type": "stream",
     "text": [
      "Solution x: [2.2 3.6]\n"
     ]
    }
   ],
   "source": [
    "A = np.array([[2, 1], [1, 3]])\n",
    "b = np.array([8, 13])\n",
    "\n",
    "x = np.linalg.solve(A, b)\n",
    "print(\"Solution x:\", x)"
   ]
  },
  {
   "cell_type": "markdown",
   "id": "9bc1375f-b223-4827-8bfc-b9a3139c7c5f",
   "metadata": {},
   "source": [
    "## 12. Matrix Rank\n",
    "\n",
    "**Why it matters:**\n",
    "\n",
    "Used in checking data redundancy and feature independence.\n",
    "\n",
    "**Example:**"
   ]
  },
  {
   "cell_type": "code",
   "execution_count": 19,
   "id": "fb99458f-5399-4ac9-8c8d-6def81169ace",
   "metadata": {},
   "outputs": [
    {
     "name": "stdout",
     "output_type": "stream",
     "text": [
      "Rank of A: 2\n"
     ]
    }
   ],
   "source": [
    "rank_A = np.linalg.matrix_rank(A)\n",
    "print(\"Rank of A:\", rank_A)"
   ]
  },
  {
   "cell_type": "markdown",
   "id": "70308111-4686-408c-9a9d-82b34a825002",
   "metadata": {},
   "source": [
    "## 13. Eigenvalues and Eigenvectors\n",
    "\n",
    "**Why it matters:**\n",
    "\n",
    "Used in PCA (dimensionality reduction), understanding variance in datasets.\n",
    "\n",
    "**Example:**"
   ]
  },
  {
   "cell_type": "code",
   "execution_count": 20,
   "id": "bb507c6b-9b35-4f90-9e7b-07647964f14b",
   "metadata": {},
   "outputs": [
    {
     "name": "stdout",
     "output_type": "stream",
     "text": [
      "Eigenvalues:\n",
      " [1.38196601 3.61803399]\n",
      "Eigenvectors:\n",
      " [[-0.85065081 -0.52573111]\n",
      " [ 0.52573111 -0.85065081]]\n"
     ]
    }
   ],
   "source": [
    "eig_vals, eig_vecs = np.linalg.eig(A)\n",
    "print(\"Eigenvalues:\\n\", eig_vals)\n",
    "print(\"Eigenvectors:\\n\", eig_vecs)"
   ]
  },
  {
   "cell_type": "markdown",
   "id": "09ad3768-9b1b-4ab1-9f75-a4eeeb942f80",
   "metadata": {},
   "source": [
    "## 14. Stacking Matrices (row-wise and column-wise)\n",
    "\n",
    "**Why it matters:**\n",
    "\n",
    "Used when combining features or datasets.\n",
    "\n",
    "**Example:**"
   ]
  },
  {
   "cell_type": "code",
   "execution_count": 21,
   "id": "19831676-349a-40ce-a864-a1bda5453133",
   "metadata": {},
   "outputs": [
    {
     "name": "stdout",
     "output_type": "stream",
     "text": [
      "Row-wise Stack:\n",
      " [[2 1]\n",
      " [1 3]\n",
      " [5 6]\n",
      " [7 8]]\n",
      "Column-wise Stack:\n",
      " [[2 1 5 6]\n",
      " [1 3 7 8]]\n"
     ]
    }
   ],
   "source": [
    "row_stack = np.vstack((A, B))\n",
    "col_stack = np.hstack((A, B))\n",
    "\n",
    "print(\"Row-wise Stack:\\n\", row_stack)\n",
    "print(\"Column-wise Stack:\\n\", col_stack)"
   ]
  },
  {
   "cell_type": "markdown",
   "id": "7d10fd44-0697-4467-bfe2-d6a976cda2b6",
   "metadata": {},
   "source": [
    "## 15. Reshaping Matrices\n",
    "\n",
    "**Why it matters:**\n",
    "\n",
    "Used when feeding input to ML models (e.g. flattening image data).\n",
    "\n",
    "**Example:**"
   ]
  },
  {
   "cell_type": "code",
   "execution_count": 24,
   "id": "9808501a-4cdc-4664-b0d0-653f6ace8a25",
   "metadata": {},
   "outputs": [
    {
     "name": "stdout",
     "output_type": "stream",
     "text": [
      "Reshaped C (4x1):\n",
      " [[1]\n",
      " [5]\n",
      " [4]\n",
      " [7]]\n"
     ]
    }
   ],
   "source": [
    "C = np.array([[1, 5], [4, 7]])\n",
    "reshaped = C.reshape(4, 1)\n",
    "print(\"Reshaped C (4x1):\\n\", reshaped)"
   ]
  },
  {
   "cell_type": "markdown",
   "id": "eebe99a3-1210-4709-9d26-e144fee505cf",
   "metadata": {},
   "source": [
    "## 16. Broadcasting\n",
    "\n",
    "**Why it matters:**\n",
    "\n",
    "Simplifies operations between matrices of different shapes. Saves memory and speeds up computation.\n",
    "\n",
    "**Example:**"
   ]
  },
  {
   "cell_type": "code",
   "execution_count": 25,
   "id": "bf1b4294-6df2-4cb1-9ab3-97584d205ff1",
   "metadata": {},
   "outputs": [
    {
     "name": "stdout",
     "output_type": "stream",
     "text": [
      "Broadcasted Addition:\n",
      " [[2 6]\n",
      " [6 9]]\n"
     ]
    }
   ],
   "source": [
    "D = np.array([[1], [2]])\n",
    "E = np.array([[1, 5], [4, 7]])\n",
    "\n",
    "broadcasted = D + E\n",
    "print(\"Broadcasted Addition:\\n\", broadcasted)"
   ]
  },
  {
   "cell_type": "markdown",
   "id": "6c05d8f9-95c4-4614-bccd-04878d32ce10",
   "metadata": {},
   "source": [
    "## Linear Regression Example Using Matrix Ops"
   ]
  },
  {
   "cell_type": "code",
   "execution_count": 26,
   "id": "37a08267-f650-49e3-a463-4e42b6ec66e3",
   "metadata": {},
   "outputs": [
    {
     "name": "stdout",
     "output_type": "stream",
     "text": [
      "Linear Regression Parameters (θ): [-1.77635684e-15  1.00000000e+00]\n"
     ]
    }
   ],
   "source": [
    "# Features (X) and labels (y)\n",
    "X = np.array([[1, 1], [1, 2], [1, 3]])  # Add 1 for bias term\n",
    "y = np.array([1, 2, 3])\n",
    "\n",
    "# θ = (XᵀX)^(-1) Xᵀy\n",
    "theta = np.linalg.inv(X.T @ X) @ X.T @ y\n",
    "print(\"Linear Regression Parameters (θ):\", theta)"
   ]
  }
 ],
 "metadata": {
  "kernelspec": {
   "display_name": "Python 3 (ipykernel)",
   "language": "python",
   "name": "python3"
  },
  "language_info": {
   "codemirror_mode": {
    "name": "ipython",
    "version": 3
   },
   "file_extension": ".py",
   "mimetype": "text/x-python",
   "name": "python",
   "nbconvert_exporter": "python",
   "pygments_lexer": "ipython3",
   "version": "3.12.2"
  }
 },
 "nbformat": 4,
 "nbformat_minor": 5
}
