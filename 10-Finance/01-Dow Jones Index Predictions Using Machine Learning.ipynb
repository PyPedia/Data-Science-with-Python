{
 "cells": [
  {
   "cell_type": "markdown",
   "metadata": {},
   "source": [
    "## 1. Data Source & Scope\n",
    "\n",
    "* Historical hourly candlestick data (OHLCV) from:\n",
    "    * link: https://www.dukascopy.com/swiss/english/marketwatch/historical/\n",
    "* Time period: May 17, 2020 – May 17, 2025\n",
    "* Data Format: CSV file\n",
    "* Data Fields: Likely includes Date, Open, High, Low, Close, and Volume."
   ]
  },
  {
   "cell_type": "markdown",
   "metadata": {},
   "source": [
    "## 2. Loading Data\n",
    "\n",
    "* The US30 index, also known as the **Dow Jones** Industrial Average (DJIA), tracks **30 major U.S. companies** and reflects the overall performance of the U.S. stock market.\n",
    "* In this code, it represents historical **hourly (1H)** trading data used to review recent market activity."
   ]
  },
  {
   "cell_type": "markdown",
   "metadata": {},
   "source": [
    "**Part 1: Loading Hourly Candlestick Data for the US30 Index Using Pandas**"
   ]
  },
  {
   "cell_type": "code",
   "execution_count": null,
   "metadata": {},
   "outputs": [],
   "source": [
    "# Install the pandas library using pip\n",
    "!pip install pandas"
   ]
  },
  {
   "cell_type": "code",
   "execution_count": 26,
   "metadata": {
    "scrolled": true
   },
   "outputs": [],
   "source": [
    "# Import the pandas library for data manipulation and analysis\n",
    "import pandas as pd\n",
    "\n",
    "# Load the CSV file containing hourly Dow Jones (US30) index data into a DataFrame named 'df'\n",
    "df = pd.read_csv(\"Dataset/USA30.IDXUSD_Candlestick_1_Hour_BID_17.05.2020-17.05.2025.csv\")"
   ]
  },
  {
   "cell_type": "markdown",
   "metadata": {},
   "source": [
    "**Part 2: Display the Last 5 Rows of a DataFrame in Pandas**"
   ]
  },
  {
   "cell_type": "code",
   "execution_count": 27,
   "metadata": {},
   "outputs": [
    {
     "data": {
      "text/html": [
       "<div>\n",
       "<style scoped>\n",
       "    .dataframe tbody tr th:only-of-type {\n",
       "        vertical-align: middle;\n",
       "    }\n",
       "\n",
       "    .dataframe tbody tr th {\n",
       "        vertical-align: top;\n",
       "    }\n",
       "\n",
       "    .dataframe thead th {\n",
       "        text-align: right;\n",
       "    }\n",
       "</style>\n",
       "<table border=\"1\" class=\"dataframe\">\n",
       "  <thead>\n",
       "    <tr style=\"text-align: right;\">\n",
       "      <th></th>\n",
       "      <th>Local time</th>\n",
       "      <th>Open</th>\n",
       "      <th>High</th>\n",
       "      <th>Low</th>\n",
       "      <th>Close</th>\n",
       "      <th>Volume</th>\n",
       "    </tr>\n",
       "  </thead>\n",
       "  <tbody>\n",
       "    <tr>\n",
       "      <th>43845</th>\n",
       "      <td>17.05.2025 19:30:00.000 GMT+0330</td>\n",
       "      <td>42617.939</td>\n",
       "      <td>42617.939</td>\n",
       "      <td>42617.939</td>\n",
       "      <td>42617.939</td>\n",
       "      <td>0.0</td>\n",
       "    </tr>\n",
       "    <tr>\n",
       "      <th>43846</th>\n",
       "      <td>17.05.2025 20:30:00.000 GMT+0330</td>\n",
       "      <td>42617.939</td>\n",
       "      <td>42617.939</td>\n",
       "      <td>42617.939</td>\n",
       "      <td>42617.939</td>\n",
       "      <td>0.0</td>\n",
       "    </tr>\n",
       "    <tr>\n",
       "      <th>43847</th>\n",
       "      <td>17.05.2025 21:30:00.000 GMT+0330</td>\n",
       "      <td>42617.939</td>\n",
       "      <td>42617.939</td>\n",
       "      <td>42617.939</td>\n",
       "      <td>42617.939</td>\n",
       "      <td>0.0</td>\n",
       "    </tr>\n",
       "    <tr>\n",
       "      <th>43848</th>\n",
       "      <td>17.05.2025 22:30:00.000 GMT+0330</td>\n",
       "      <td>42617.939</td>\n",
       "      <td>42617.939</td>\n",
       "      <td>42617.939</td>\n",
       "      <td>42617.939</td>\n",
       "      <td>0.0</td>\n",
       "    </tr>\n",
       "    <tr>\n",
       "      <th>43849</th>\n",
       "      <td>17.05.2025 23:30:00.000 GMT+0330</td>\n",
       "      <td>42617.939</td>\n",
       "      <td>42617.939</td>\n",
       "      <td>42617.939</td>\n",
       "      <td>42617.939</td>\n",
       "      <td>0.0</td>\n",
       "    </tr>\n",
       "  </tbody>\n",
       "</table>\n",
       "</div>"
      ],
      "text/plain": [
       "                             Local time       Open       High        Low  \\\n",
       "43845  17.05.2025 19:30:00.000 GMT+0330  42617.939  42617.939  42617.939   \n",
       "43846  17.05.2025 20:30:00.000 GMT+0330  42617.939  42617.939  42617.939   \n",
       "43847  17.05.2025 21:30:00.000 GMT+0330  42617.939  42617.939  42617.939   \n",
       "43848  17.05.2025 22:30:00.000 GMT+0330  42617.939  42617.939  42617.939   \n",
       "43849  17.05.2025 23:30:00.000 GMT+0330  42617.939  42617.939  42617.939   \n",
       "\n",
       "           Close  Volume  \n",
       "43845  42617.939     0.0  \n",
       "43846  42617.939     0.0  \n",
       "43847  42617.939     0.0  \n",
       "43848  42617.939     0.0  \n",
       "43849  42617.939     0.0  "
      ]
     },
     "execution_count": 27,
     "metadata": {},
     "output_type": "execute_result"
    }
   ],
   "source": [
    "# Display the last 5 rows of the DataFrame to verify the structure and contents\n",
    "df.tail()"
   ]
  },
  {
   "cell_type": "markdown",
   "metadata": {},
   "source": [
    "**Part 3: Displaying Summary Information of a DataFrame in Pandas**"
   ]
  },
  {
   "cell_type": "code",
   "execution_count": 28,
   "metadata": {},
   "outputs": [
    {
     "name": "stdout",
     "output_type": "stream",
     "text": [
      "<class 'pandas.core.frame.DataFrame'>\n",
      "RangeIndex: 43850 entries, 0 to 43849\n",
      "Data columns (total 6 columns):\n",
      " #   Column      Non-Null Count  Dtype  \n",
      "---  ------      --------------  -----  \n",
      " 0   Local time  43850 non-null  object \n",
      " 1   Open        43850 non-null  float64\n",
      " 2   High        43850 non-null  float64\n",
      " 3   Low         43850 non-null  float64\n",
      " 4   Close       43850 non-null  float64\n",
      " 5   Volume      43850 non-null  float64\n",
      "dtypes: float64(5), object(1)\n",
      "memory usage: 2.0+ MB\n"
     ]
    }
   ],
   "source": [
    "# Print a concise summary of the DataFrame including:\n",
    "# - Number of entries (rows)\n",
    "# - Column names and data types\n",
    "# - Non-null values in each column\n",
    "df.info()"
   ]
  },
  {
   "cell_type": "markdown",
   "metadata": {},
   "source": [
    "## 3. Preparing Data\n",
    "\n",
    "The purpose of this process is to:\n",
    "\n",
    "* Find and identify any records where the volume is zero.\n",
    "* Remove those records from the data.\n",
    "* Double-check to see if any zero-volume records remain afterward.\n",
    "* Also check if there are any missing or empty entries left in the data."
   ]
  },
  {
   "cell_type": "markdown",
   "metadata": {},
   "source": [
    "**Part 1: Check If Any Zero Volume Are Available**"
   ]
  },
  {
   "cell_type": "code",
   "execution_count": 29,
   "metadata": {},
   "outputs": [
    {
     "data": {
      "text/html": [
       "<div>\n",
       "<style scoped>\n",
       "    .dataframe tbody tr th:only-of-type {\n",
       "        vertical-align: middle;\n",
       "    }\n",
       "\n",
       "    .dataframe tbody tr th {\n",
       "        vertical-align: top;\n",
       "    }\n",
       "\n",
       "    .dataframe thead th {\n",
       "        text-align: right;\n",
       "    }\n",
       "</style>\n",
       "<table border=\"1\" class=\"dataframe\">\n",
       "  <thead>\n",
       "    <tr style=\"text-align: right;\">\n",
       "      <th></th>\n",
       "      <th>Local time</th>\n",
       "      <th>Open</th>\n",
       "      <th>High</th>\n",
       "      <th>Low</th>\n",
       "      <th>Close</th>\n",
       "      <th>Volume</th>\n",
       "    </tr>\n",
       "  </thead>\n",
       "  <tbody>\n",
       "  </tbody>\n",
       "</table>\n",
       "</div>"
      ],
      "text/plain": [
       "Empty DataFrame\n",
       "Columns: [Local time, Open, High, Low, Close, Volume]\n",
       "Index: []"
      ]
     },
     "execution_count": 29,
     "metadata": {},
     "output_type": "execute_result"
    }
   ],
   "source": [
    "#Check if any zero volumes are available\n",
    "indexZeros = df[ df['Volume'] == 0 ].index\n",
    "\n",
    "# Remove all rows with zero volume directly from the DataFrame\n",
    "df.drop(indexZeros , inplace=True)\n",
    "\n",
    "# Check again to confirm no zero-volume rows remain (should return an empty DataFrame)\n",
    "df.loc[(df[\"Volume\"] == 0 )]"
   ]
  },
  {
   "cell_type": "markdown",
   "metadata": {},
   "source": [
    "**Part 2: Check for Missing Values**"
   ]
  },
  {
   "cell_type": "code",
   "execution_count": 30,
   "metadata": {},
   "outputs": [
    {
     "data": {
      "text/plain": [
       "Local time    0\n",
       "Open          0\n",
       "High          0\n",
       "Low           0\n",
       "Close         0\n",
       "Volume        0\n",
       "dtype: int64"
      ]
     },
     "execution_count": 30,
     "metadata": {},
     "output_type": "execute_result"
    }
   ],
   "source": [
    "# Count the number of missing (NaN) values for each column to ensure data integrity\n",
    "df.isna().sum()"
   ]
  },
  {
   "cell_type": "markdown",
   "metadata": {},
   "source": [
    "## 4. Analyze Market Trends And Momentum\n",
    "\n",
    "This process calculates several key indicators and trend slopes from financial market data. It adds technical analysis tools such as **ATR (Average True Range)**, **RSI (Relative Strength Index)**, **midprice average**, and **moving averages (MA)** over different time lengths. It then computes the **trend direction (slope)** of these values over recent periods to understand how prices and indicators are evolving."
   ]
  },
  {
   "cell_type": "markdown",
   "metadata": {},
   "source": [
    "**Part 1: Calculating Key Technical Indicators (ATR, RSI, Midprice, and Moving Averages)**"
   ]
  },
  {
   "cell_type": "code",
   "execution_count": null,
   "metadata": {},
   "outputs": [],
   "source": [
    "# Install the NumPy and pandas_ta libraries using pip\n",
    "!pip install numpy pandas_ta"
   ]
  },
  {
   "cell_type": "code",
   "execution_count": 31,
   "metadata": {},
   "outputs": [],
   "source": [
    "# Import NumPy for numerical operations\n",
    "import numpy as np\n",
    "\n",
    "# Import pandas_ta for technical analysis indicators\n",
    "import pandas_ta as ta\n",
    "\n",
    "#df.ta.indicators()                     # (Commented) Lists all available technical indicators\n",
    "#help(ta.atr)                           # (Commented) Displays help for the ATR indicator\n",
    "\n",
    "# Add Average True Range (ATR) with a 20-period window\n",
    "df['ATR'] = df.ta.atr(length=20)\n",
    "\n",
    "# Add Relative Strength Index (RSI) with default length (14)\n",
    "df['RSI'] = df.ta.rsi()\n",
    "\n",
    "# Add Mid Price (average of high and low), here with window = 1\n",
    "df['Average'] = df.ta.midprice(length=1) \n",
    "\n",
    "# Add Simple Moving Average with 40-period window\n",
    "df['MA40'] = df.ta.sma(length=40)\n",
    "\n",
    " # Add Simple Moving Average with 80-period window\n",
    "df['MA80'] = df.ta.sma(length=80)\n",
    "\n",
    "# Add Simple Moving Average with 160-period window\n",
    "df['MA160'] = df.ta.sma(length=160)"
   ]
  },
  {
   "cell_type": "markdown",
   "metadata": {},
   "source": [
    "**Part 2: Calculate the Slope of a Linear Trend in a Numerical Array Using Linear Regression**"
   ]
  },
  {
   "cell_type": "code",
   "execution_count": 32,
   "metadata": {},
   "outputs": [],
   "source": [
    "# Import linear regression function from SciPy\n",
    "from scipy.stats import linregress\n",
    "\n",
    "# Define function to calculate slope of a given array\n",
    "def get_slope(array):\n",
    "    y = np.array(array)     # Convert the input to a NumPy array\n",
    "    x = np.arange(len(y))   # Create an array [0, 1, 2, ..., len(y)-1]\n",
    "    # Perform linear regression between x and y to compute the slope\n",
    "    slope, intercept, r_value, p_value, std_err = linregress(x,y)\n",
    "    return slope            # Return only the slope value"
   ]
  },
  {
   "cell_type": "markdown",
   "metadata": {},
   "source": [
    "**Part 3: Calculating Rolling Slopes of Moving Averages and RSI over a Fixed Window**"
   ]
  },
  {
   "cell_type": "code",
   "execution_count": 33,
   "metadata": {},
   "outputs": [],
   "source": [
    "# Define the number of periods (bars) for the slope calculation\n",
    "backrollingN = 6\n",
    "\n",
    "# Calculate slope of 40-period MA over a rolling 6-bar window\n",
    "df['slopeMA40'] = df['MA40'].rolling(window=backrollingN).apply(get_slope, raw=True)\n",
    "\n",
    "# Calculate slope of 80-period MA over a rolling 6-bar window\n",
    "df['slopeMA80'] = df['MA80'].rolling(window=backrollingN).apply(get_slope, raw=True)\n",
    "\n",
    "# Calculate slope of 160-period MA over a rolling 6-bar window\n",
    "df['slopeMA160'] = df['MA160'].rolling(window=backrollingN).apply(get_slope, raw=True)\n",
    "\n",
    "# Calculate slope of the Mid Price over a rolling 6-bar window\n",
    "df['AverageSlope'] = df['Average'].rolling(window=backrollingN).apply(get_slope, raw=True)\n",
    "\n",
    "# Calculate slope of RSI over a rolling 6-bar window\n",
    "df['RSISlope'] = df['RSI'].rolling(window=backrollingN).apply(get_slope, raw=True)"
   ]
  },
  {
   "cell_type": "markdown",
   "metadata": {},
   "source": [
    "**Part 4: Display the Last 5 Rows of a DataFrame in Pandas**"
   ]
  },
  {
   "cell_type": "code",
   "execution_count": 34,
   "metadata": {
    "scrolled": true
   },
   "outputs": [
    {
     "data": {
      "text/html": [
       "<div>\n",
       "<style scoped>\n",
       "    .dataframe tbody tr th:only-of-type {\n",
       "        vertical-align: middle;\n",
       "    }\n",
       "\n",
       "    .dataframe tbody tr th {\n",
       "        vertical-align: top;\n",
       "    }\n",
       "\n",
       "    .dataframe thead th {\n",
       "        text-align: right;\n",
       "    }\n",
       "</style>\n",
       "<table border=\"1\" class=\"dataframe\">\n",
       "  <thead>\n",
       "    <tr style=\"text-align: right;\">\n",
       "      <th></th>\n",
       "      <th>Local time</th>\n",
       "      <th>Open</th>\n",
       "      <th>High</th>\n",
       "      <th>Low</th>\n",
       "      <th>Close</th>\n",
       "      <th>Volume</th>\n",
       "      <th>ATR</th>\n",
       "      <th>RSI</th>\n",
       "      <th>Average</th>\n",
       "      <th>MA40</th>\n",
       "      <th>MA80</th>\n",
       "      <th>MA160</th>\n",
       "      <th>slopeMA40</th>\n",
       "      <th>slopeMA80</th>\n",
       "      <th>slopeMA160</th>\n",
       "      <th>AverageSlope</th>\n",
       "      <th>RSISlope</th>\n",
       "    </tr>\n",
       "  </thead>\n",
       "  <tbody>\n",
       "    <tr>\n",
       "      <th>43821</th>\n",
       "      <td>16.05.2025 19:30:00.000 GMT+0330</td>\n",
       "      <td>42323.427</td>\n",
       "      <td>42527.915</td>\n",
       "      <td>42314.927</td>\n",
       "      <td>42523.487</td>\n",
       "      <td>0.9749</td>\n",
       "      <td>83.243046</td>\n",
       "      <td>69.575268</td>\n",
       "      <td>42421.421</td>\n",
       "      <td>42162.5486</td>\n",
       "      <td>42164.29310</td>\n",
       "      <td>41900.272175</td>\n",
       "      <td>9.150894</td>\n",
       "      <td>0.878420</td>\n",
       "      <td>8.096135</td>\n",
       "      <td>-8.561771</td>\n",
       "      <td>-1.582457</td>\n",
       "    </tr>\n",
       "    <tr>\n",
       "      <th>43822</th>\n",
       "      <td>16.05.2025 20:30:00.000 GMT+0330</td>\n",
       "      <td>42523.903</td>\n",
       "      <td>42584.951</td>\n",
       "      <td>42511.927</td>\n",
       "      <td>42537.903</td>\n",
       "      <td>0.9436</td>\n",
       "      <td>82.732093</td>\n",
       "      <td>70.324320</td>\n",
       "      <td>42548.439</td>\n",
       "      <td>42178.9724</td>\n",
       "      <td>42167.23845</td>\n",
       "      <td>41908.773425</td>\n",
       "      <td>11.149843</td>\n",
       "      <td>1.373987</td>\n",
       "      <td>8.158791</td>\n",
       "      <td>25.930286</td>\n",
       "      <td>1.504896</td>\n",
       "    </tr>\n",
       "    <tr>\n",
       "      <th>43823</th>\n",
       "      <td>16.05.2025 21:30:00.000 GMT+0330</td>\n",
       "      <td>42537.403</td>\n",
       "      <td>42649.987</td>\n",
       "      <td>42528.927</td>\n",
       "      <td>42616.427</td>\n",
       "      <td>0.8713</td>\n",
       "      <td>84.648489</td>\n",
       "      <td>74.069241</td>\n",
       "      <td>42589.457</td>\n",
       "      <td>42197.7105</td>\n",
       "      <td>42171.38005</td>\n",
       "      <td>41918.241725</td>\n",
       "      <td>13.712849</td>\n",
       "      <td>2.160707</td>\n",
       "      <td>8.402947</td>\n",
       "      <td>59.120571</td>\n",
       "      <td>3.554013</td>\n",
       "    </tr>\n",
       "    <tr>\n",
       "      <th>43824</th>\n",
       "      <td>16.05.2025 22:30:00.000 GMT+0330</td>\n",
       "      <td>42615.951</td>\n",
       "      <td>42668.475</td>\n",
       "      <td>42585.475</td>\n",
       "      <td>42643.499</td>\n",
       "      <td>1.0730</td>\n",
       "      <td>84.566064</td>\n",
       "      <td>75.229818</td>\n",
       "      <td>42626.975</td>\n",
       "      <td>42216.7870</td>\n",
       "      <td>42175.56675</td>\n",
       "      <td>41927.765000</td>\n",
       "      <td>16.300209</td>\n",
       "      <td>2.990166</td>\n",
       "      <td>8.836827</td>\n",
       "      <td>67.177086</td>\n",
       "      <td>4.260555</td>\n",
       "    </tr>\n",
       "    <tr>\n",
       "      <th>43825</th>\n",
       "      <td>16.05.2025 23:30:00.000 GMT+0330</td>\n",
       "      <td>42644.199</td>\n",
       "      <td>42644.199</td>\n",
       "      <td>42602.903</td>\n",
       "      <td>42617.939</td>\n",
       "      <td>0.1211</td>\n",
       "      <td>82.402561</td>\n",
       "      <td>71.955306</td>\n",
       "      <td>42623.551</td>\n",
       "      <td>42235.3626</td>\n",
       "      <td>42178.59065</td>\n",
       "      <td>41937.385225</td>\n",
       "      <td>18.011680</td>\n",
       "      <td>3.511501</td>\n",
       "      <td>9.257251</td>\n",
       "      <td>58.558571</td>\n",
       "      <td>3.014987</td>\n",
       "    </tr>\n",
       "  </tbody>\n",
       "</table>\n",
       "</div>"
      ],
      "text/plain": [
       "                             Local time       Open       High        Low  \\\n",
       "43821  16.05.2025 19:30:00.000 GMT+0330  42323.427  42527.915  42314.927   \n",
       "43822  16.05.2025 20:30:00.000 GMT+0330  42523.903  42584.951  42511.927   \n",
       "43823  16.05.2025 21:30:00.000 GMT+0330  42537.403  42649.987  42528.927   \n",
       "43824  16.05.2025 22:30:00.000 GMT+0330  42615.951  42668.475  42585.475   \n",
       "43825  16.05.2025 23:30:00.000 GMT+0330  42644.199  42644.199  42602.903   \n",
       "\n",
       "           Close  Volume        ATR        RSI    Average        MA40  \\\n",
       "43821  42523.487  0.9749  83.243046  69.575268  42421.421  42162.5486   \n",
       "43822  42537.903  0.9436  82.732093  70.324320  42548.439  42178.9724   \n",
       "43823  42616.427  0.8713  84.648489  74.069241  42589.457  42197.7105   \n",
       "43824  42643.499  1.0730  84.566064  75.229818  42626.975  42216.7870   \n",
       "43825  42617.939  0.1211  82.402561  71.955306  42623.551  42235.3626   \n",
       "\n",
       "              MA80         MA160  slopeMA40  slopeMA80  slopeMA160  \\\n",
       "43821  42164.29310  41900.272175   9.150894   0.878420    8.096135   \n",
       "43822  42167.23845  41908.773425  11.149843   1.373987    8.158791   \n",
       "43823  42171.38005  41918.241725  13.712849   2.160707    8.402947   \n",
       "43824  42175.56675  41927.765000  16.300209   2.990166    8.836827   \n",
       "43825  42178.59065  41937.385225  18.011680   3.511501    9.257251   \n",
       "\n",
       "       AverageSlope  RSISlope  \n",
       "43821     -8.561771 -1.582457  \n",
       "43822     25.930286  1.504896  \n",
       "43823     59.120571  3.554013  \n",
       "43824     67.177086  4.260555  \n",
       "43825     58.558571  3.014987  "
      ]
     },
     "execution_count": 34,
     "metadata": {},
     "output_type": "execute_result"
    }
   ],
   "source": [
    "# Display the last 5 rows to inspect new columns added above\n",
    "df.tail()"
   ]
  },
  {
   "cell_type": "markdown",
   "metadata": {},
   "source": [
    "## 5. Target categories\n",
    "\n",
    "This code looks ahead a few bars and checks if prices moved mostly up, down, or stayed unclear by comparing future highs and lows to the next open price. It then labels each bar as an **uptrend** (2), **downtrend** (1), or **no trend** (0) to help decide the market direction."
   ]
  },
  {
   "cell_type": "code",
   "execution_count": 36,
   "metadata": {},
   "outputs": [
    {
     "data": {
      "text/html": [
       "<div>\n",
       "<style scoped>\n",
       "    .dataframe tbody tr th:only-of-type {\n",
       "        vertical-align: middle;\n",
       "    }\n",
       "\n",
       "    .dataframe tbody tr th {\n",
       "        vertical-align: top;\n",
       "    }\n",
       "\n",
       "    .dataframe thead th {\n",
       "        text-align: right;\n",
       "    }\n",
       "</style>\n",
       "<table border=\"1\" class=\"dataframe\">\n",
       "  <thead>\n",
       "    <tr style=\"text-align: right;\">\n",
       "      <th></th>\n",
       "      <th>Local time</th>\n",
       "      <th>Open</th>\n",
       "      <th>High</th>\n",
       "      <th>Low</th>\n",
       "      <th>Close</th>\n",
       "      <th>Volume</th>\n",
       "      <th>ATR</th>\n",
       "      <th>RSI</th>\n",
       "      <th>Average</th>\n",
       "      <th>MA40</th>\n",
       "      <th>MA80</th>\n",
       "      <th>MA160</th>\n",
       "      <th>slopeMA40</th>\n",
       "      <th>slopeMA80</th>\n",
       "      <th>slopeMA160</th>\n",
       "      <th>AverageSlope</th>\n",
       "      <th>RSISlope</th>\n",
       "      <th>mytarget</th>\n",
       "    </tr>\n",
       "  </thead>\n",
       "  <tbody>\n",
       "    <tr>\n",
       "      <th>27</th>\n",
       "      <td>18.05.2020 02:30:00.000 GMT+0430</td>\n",
       "      <td>23656.80</td>\n",
       "      <td>23810.70</td>\n",
       "      <td>23615.71</td>\n",
       "      <td>23777.25</td>\n",
       "      <td>1.3543</td>\n",
       "      <td>NaN</td>\n",
       "      <td>NaN</td>\n",
       "      <td>23713.205</td>\n",
       "      <td>NaN</td>\n",
       "      <td>NaN</td>\n",
       "      <td>NaN</td>\n",
       "      <td>NaN</td>\n",
       "      <td>NaN</td>\n",
       "      <td>NaN</td>\n",
       "      <td>NaN</td>\n",
       "      <td>NaN</td>\n",
       "      <td>2.0</td>\n",
       "    </tr>\n",
       "    <tr>\n",
       "      <th>28</th>\n",
       "      <td>18.05.2020 03:30:00.000 GMT+0430</td>\n",
       "      <td>23777.71</td>\n",
       "      <td>23822.70</td>\n",
       "      <td>23766.70</td>\n",
       "      <td>23784.79</td>\n",
       "      <td>0.9840</td>\n",
       "      <td>NaN</td>\n",
       "      <td>NaN</td>\n",
       "      <td>23794.700</td>\n",
       "      <td>NaN</td>\n",
       "      <td>NaN</td>\n",
       "      <td>NaN</td>\n",
       "      <td>NaN</td>\n",
       "      <td>NaN</td>\n",
       "      <td>NaN</td>\n",
       "      <td>NaN</td>\n",
       "      <td>NaN</td>\n",
       "      <td>2.0</td>\n",
       "    </tr>\n",
       "    <tr>\n",
       "      <th>29</th>\n",
       "      <td>18.05.2020 04:30:00.000 GMT+0430</td>\n",
       "      <td>23784.79</td>\n",
       "      <td>23812.71</td>\n",
       "      <td>23758.27</td>\n",
       "      <td>23788.23</td>\n",
       "      <td>1.2038</td>\n",
       "      <td>NaN</td>\n",
       "      <td>NaN</td>\n",
       "      <td>23785.490</td>\n",
       "      <td>NaN</td>\n",
       "      <td>NaN</td>\n",
       "      <td>NaN</td>\n",
       "      <td>NaN</td>\n",
       "      <td>NaN</td>\n",
       "      <td>NaN</td>\n",
       "      <td>NaN</td>\n",
       "      <td>NaN</td>\n",
       "      <td>2.0</td>\n",
       "    </tr>\n",
       "    <tr>\n",
       "      <th>30</th>\n",
       "      <td>18.05.2020 05:30:00.000 GMT+0430</td>\n",
       "      <td>23787.70</td>\n",
       "      <td>23837.77</td>\n",
       "      <td>23777.29</td>\n",
       "      <td>23806.24</td>\n",
       "      <td>1.3337</td>\n",
       "      <td>NaN</td>\n",
       "      <td>NaN</td>\n",
       "      <td>23807.530</td>\n",
       "      <td>NaN</td>\n",
       "      <td>NaN</td>\n",
       "      <td>NaN</td>\n",
       "      <td>NaN</td>\n",
       "      <td>NaN</td>\n",
       "      <td>NaN</td>\n",
       "      <td>NaN</td>\n",
       "      <td>NaN</td>\n",
       "      <td>2.0</td>\n",
       "    </tr>\n",
       "    <tr>\n",
       "      <th>31</th>\n",
       "      <td>18.05.2020 06:30:00.000 GMT+0430</td>\n",
       "      <td>23806.24</td>\n",
       "      <td>23894.50</td>\n",
       "      <td>23804.20</td>\n",
       "      <td>23875.24</td>\n",
       "      <td>0.9692</td>\n",
       "      <td>NaN</td>\n",
       "      <td>NaN</td>\n",
       "      <td>23849.350</td>\n",
       "      <td>NaN</td>\n",
       "      <td>NaN</td>\n",
       "      <td>NaN</td>\n",
       "      <td>NaN</td>\n",
       "      <td>NaN</td>\n",
       "      <td>NaN</td>\n",
       "      <td>NaN</td>\n",
       "      <td>NaN</td>\n",
       "      <td>2.0</td>\n",
       "    </tr>\n",
       "  </tbody>\n",
       "</table>\n",
       "</div>"
      ],
      "text/plain": [
       "                          Local time      Open      High       Low     Close  \\\n",
       "27  18.05.2020 02:30:00.000 GMT+0430  23656.80  23810.70  23615.71  23777.25   \n",
       "28  18.05.2020 03:30:00.000 GMT+0430  23777.71  23822.70  23766.70  23784.79   \n",
       "29  18.05.2020 04:30:00.000 GMT+0430  23784.79  23812.71  23758.27  23788.23   \n",
       "30  18.05.2020 05:30:00.000 GMT+0430  23787.70  23837.77  23777.29  23806.24   \n",
       "31  18.05.2020 06:30:00.000 GMT+0430  23806.24  23894.50  23804.20  23875.24   \n",
       "\n",
       "    Volume  ATR  RSI    Average  MA40  MA80  MA160  slopeMA40  slopeMA80  \\\n",
       "27  1.3543  NaN  NaN  23713.205   NaN   NaN    NaN        NaN        NaN   \n",
       "28  0.9840  NaN  NaN  23794.700   NaN   NaN    NaN        NaN        NaN   \n",
       "29  1.2038  NaN  NaN  23785.490   NaN   NaN    NaN        NaN        NaN   \n",
       "30  1.3337  NaN  NaN  23807.530   NaN   NaN    NaN        NaN        NaN   \n",
       "31  0.9692  NaN  NaN  23849.350   NaN   NaN    NaN        NaN        NaN   \n",
       "\n",
       "    slopeMA160  AverageSlope  RSISlope  mytarget  \n",
       "27         NaN           NaN       NaN       2.0  \n",
       "28         NaN           NaN       NaN       2.0  \n",
       "29         NaN           NaN       NaN       2.0  \n",
       "30         NaN           NaN       NaN       2.0  \n",
       "31         NaN           NaN       NaN       2.0  "
      ]
     },
     "execution_count": 36,
     "metadata": {},
     "output_type": "execute_result"
    }
   ],
   "source": [
    "#Target flexible way\n",
    "pipdiff = 100                                            # Define profit target in pips (100 pips)\n",
    "SLTPRatio = 2                                            # pipdiff/Ratio gives SL\n",
    "\n",
    "def mytarget(barsupfront, df1):                          # Custom function to classify future trend\n",
    "    length = len(df1)                                    # Total number of records\n",
    "    high = list(df1['High'])                             # Convert 'High' column to a list\n",
    "    low = list(df1['Low'])                               # Convert 'Low' column to a list\n",
    "    close = list(df1['Close'])                           # Convert 'Close' column to a list\n",
    "    open = list(df1['Open'])                             # Convert 'Open' column to a list\n",
    "    trendcat = [None] * length                           # Initialize target trend list with None\n",
    "    \n",
    "    for line in range (0,length-barsupfront-2):          # Iterate over rows with a look-ahead buffer\n",
    "        valueOpenLow = 0                                 # Initialize max drop from open\n",
    "        valueOpenHigh = 0                                # Initialize max rise from open\n",
    "        for i in range(1,barsupfront+2):\n",
    "            value1 = open[line+1]-low[line+i]            # Downward movement from open\n",
    "            value2 = open[line+1]-high[line+i]           # Upward movement from open\n",
    "            valueOpenLow = max(value1, valueOpenLow)     # Track max drop\n",
    "            valueOpenHigh = min(value2, valueOpenHigh)   # Track max rise\n",
    "\n",
    "            if ( (valueOpenLow >= pipdiff) and (-valueOpenHigh <= (pipdiff/SLTPRatio)) ):\n",
    "                trendcat[line] = 1                       # Downtrend condition met\n",
    "                break\n",
    "            elif ( (valueOpenLow <= (pipdiff/SLTPRatio)) and (-valueOpenHigh >= pipdiff) ):\n",
    "                trendcat[line] = 2                       # Uptrend condition met\n",
    "                break\n",
    "            else:\n",
    "                trendcat[line] = 0                       # Neither trend condition met (no trend)\n",
    "            \n",
    "    return trendcat                                      # Return the full target list\n",
    "\n",
    "# Compute the target values for a 16-bar lookahead window\n",
    "df['mytarget'] = mytarget(16, df)\n",
    "\n",
    "# Display first 5 rows with the new 'mytarget' column\n",
    "df.head()"
   ]
  },
  {
   "cell_type": "code",
   "execution_count": 37,
   "metadata": {
    "scrolled": true
   },
   "outputs": [
    {
     "data": {
      "text/html": [
       "<div>\n",
       "<style scoped>\n",
       "    .dataframe tbody tr th:only-of-type {\n",
       "        vertical-align: middle;\n",
       "    }\n",
       "\n",
       "    .dataframe tbody tr th {\n",
       "        vertical-align: top;\n",
       "    }\n",
       "\n",
       "    .dataframe thead th {\n",
       "        text-align: right;\n",
       "    }\n",
       "</style>\n",
       "<table border=\"1\" class=\"dataframe\">\n",
       "  <thead>\n",
       "    <tr style=\"text-align: right;\">\n",
       "      <th></th>\n",
       "      <th>Local time</th>\n",
       "      <th>Open</th>\n",
       "      <th>High</th>\n",
       "      <th>Low</th>\n",
       "      <th>Close</th>\n",
       "      <th>Volume</th>\n",
       "      <th>ATR</th>\n",
       "      <th>RSI</th>\n",
       "      <th>Average</th>\n",
       "      <th>MA40</th>\n",
       "      <th>MA80</th>\n",
       "      <th>MA160</th>\n",
       "      <th>slopeMA40</th>\n",
       "      <th>slopeMA80</th>\n",
       "      <th>slopeMA160</th>\n",
       "      <th>AverageSlope</th>\n",
       "      <th>RSISlope</th>\n",
       "      <th>mytarget</th>\n",
       "    </tr>\n",
       "  </thead>\n",
       "  <tbody>\n",
       "    <tr>\n",
       "      <th>27</th>\n",
       "      <td>18.05.2020 02:30:00.000 GMT+0430</td>\n",
       "      <td>23656.80</td>\n",
       "      <td>23810.70</td>\n",
       "      <td>23615.71</td>\n",
       "      <td>23777.25</td>\n",
       "      <td>1.3543</td>\n",
       "      <td>NaN</td>\n",
       "      <td>NaN</td>\n",
       "      <td>23713.205</td>\n",
       "      <td>NaN</td>\n",
       "      <td>NaN</td>\n",
       "      <td>NaN</td>\n",
       "      <td>NaN</td>\n",
       "      <td>NaN</td>\n",
       "      <td>NaN</td>\n",
       "      <td>NaN</td>\n",
       "      <td>NaN</td>\n",
       "      <td>2.0</td>\n",
       "    </tr>\n",
       "    <tr>\n",
       "      <th>28</th>\n",
       "      <td>18.05.2020 03:30:00.000 GMT+0430</td>\n",
       "      <td>23777.71</td>\n",
       "      <td>23822.70</td>\n",
       "      <td>23766.70</td>\n",
       "      <td>23784.79</td>\n",
       "      <td>0.9840</td>\n",
       "      <td>NaN</td>\n",
       "      <td>NaN</td>\n",
       "      <td>23794.700</td>\n",
       "      <td>NaN</td>\n",
       "      <td>NaN</td>\n",
       "      <td>NaN</td>\n",
       "      <td>NaN</td>\n",
       "      <td>NaN</td>\n",
       "      <td>NaN</td>\n",
       "      <td>NaN</td>\n",
       "      <td>NaN</td>\n",
       "      <td>2.0</td>\n",
       "    </tr>\n",
       "    <tr>\n",
       "      <th>29</th>\n",
       "      <td>18.05.2020 04:30:00.000 GMT+0430</td>\n",
       "      <td>23784.79</td>\n",
       "      <td>23812.71</td>\n",
       "      <td>23758.27</td>\n",
       "      <td>23788.23</td>\n",
       "      <td>1.2038</td>\n",
       "      <td>NaN</td>\n",
       "      <td>NaN</td>\n",
       "      <td>23785.490</td>\n",
       "      <td>NaN</td>\n",
       "      <td>NaN</td>\n",
       "      <td>NaN</td>\n",
       "      <td>NaN</td>\n",
       "      <td>NaN</td>\n",
       "      <td>NaN</td>\n",
       "      <td>NaN</td>\n",
       "      <td>NaN</td>\n",
       "      <td>2.0</td>\n",
       "    </tr>\n",
       "    <tr>\n",
       "      <th>30</th>\n",
       "      <td>18.05.2020 05:30:00.000 GMT+0430</td>\n",
       "      <td>23787.70</td>\n",
       "      <td>23837.77</td>\n",
       "      <td>23777.29</td>\n",
       "      <td>23806.24</td>\n",
       "      <td>1.3337</td>\n",
       "      <td>NaN</td>\n",
       "      <td>NaN</td>\n",
       "      <td>23807.530</td>\n",
       "      <td>NaN</td>\n",
       "      <td>NaN</td>\n",
       "      <td>NaN</td>\n",
       "      <td>NaN</td>\n",
       "      <td>NaN</td>\n",
       "      <td>NaN</td>\n",
       "      <td>NaN</td>\n",
       "      <td>NaN</td>\n",
       "      <td>2.0</td>\n",
       "    </tr>\n",
       "    <tr>\n",
       "      <th>31</th>\n",
       "      <td>18.05.2020 06:30:00.000 GMT+0430</td>\n",
       "      <td>23806.24</td>\n",
       "      <td>23894.50</td>\n",
       "      <td>23804.20</td>\n",
       "      <td>23875.24</td>\n",
       "      <td>0.9692</td>\n",
       "      <td>NaN</td>\n",
       "      <td>NaN</td>\n",
       "      <td>23849.350</td>\n",
       "      <td>NaN</td>\n",
       "      <td>NaN</td>\n",
       "      <td>NaN</td>\n",
       "      <td>NaN</td>\n",
       "      <td>NaN</td>\n",
       "      <td>NaN</td>\n",
       "      <td>NaN</td>\n",
       "      <td>NaN</td>\n",
       "      <td>2.0</td>\n",
       "    </tr>\n",
       "  </tbody>\n",
       "</table>\n",
       "</div>"
      ],
      "text/plain": [
       "                          Local time      Open      High       Low     Close  \\\n",
       "27  18.05.2020 02:30:00.000 GMT+0430  23656.80  23810.70  23615.71  23777.25   \n",
       "28  18.05.2020 03:30:00.000 GMT+0430  23777.71  23822.70  23766.70  23784.79   \n",
       "29  18.05.2020 04:30:00.000 GMT+0430  23784.79  23812.71  23758.27  23788.23   \n",
       "30  18.05.2020 05:30:00.000 GMT+0430  23787.70  23837.77  23777.29  23806.24   \n",
       "31  18.05.2020 06:30:00.000 GMT+0430  23806.24  23894.50  23804.20  23875.24   \n",
       "\n",
       "    Volume  ATR  RSI    Average  MA40  MA80  MA160  slopeMA40  slopeMA80  \\\n",
       "27  1.3543  NaN  NaN  23713.205   NaN   NaN    NaN        NaN        NaN   \n",
       "28  0.9840  NaN  NaN  23794.700   NaN   NaN    NaN        NaN        NaN   \n",
       "29  1.2038  NaN  NaN  23785.490   NaN   NaN    NaN        NaN        NaN   \n",
       "30  1.3337  NaN  NaN  23807.530   NaN   NaN    NaN        NaN        NaN   \n",
       "31  0.9692  NaN  NaN  23849.350   NaN   NaN    NaN        NaN        NaN   \n",
       "\n",
       "    slopeMA160  AverageSlope  RSISlope  mytarget  \n",
       "27         NaN           NaN       NaN       2.0  \n",
       "28         NaN           NaN       NaN       2.0  \n",
       "29         NaN           NaN       NaN       2.0  \n",
       "30         NaN           NaN       NaN       2.0  \n",
       "31         NaN           NaN       NaN       2.0  "
      ]
     },
     "execution_count": 37,
     "metadata": {},
     "output_type": "execute_result"
    }
   ],
   "source": [
    "# Call the custom target function with a 16-bar lookahead and assign result to a new column 'mytarget'\n",
    "df['mytarget'] = mytarget(16, df)\n",
    "\n",
    "# Display the first 5 rows of the DataFrame to inspect the new 'mytarget' column\n",
    "df.head()"
   ]
  },
  {
   "cell_type": "markdown",
   "metadata": {},
   "source": [
    "## 6. Quick analysis example"
   ]
  },
  {
   "cell_type": "code",
   "execution_count": 38,
   "metadata": {},
   "outputs": [
    {
     "name": "stderr",
     "output_type": "stream",
     "text": [
      "C:\\Users\\yas\\AppData\\Local\\Temp\\ipykernel_1228\\532070288.py:5: UserWarning: To output multiple subplots, the figure containing the passed axes is being cleared.\n",
      "  df_model.hist(ax = ax)\n"
     ]
    },
    {
     "data": {
      "image/png": "[encoded data removed]",
      "text/plain": [
       "<Figure size 1500x2000 with 16 Axes>"
      ]
     },
     "metadata": {},
     "output_type": "display_data"
    }
   ],
   "source": [
    "# Import the matplotlib plotting library\n",
    "import matplotlib.pyplot as plt\n",
    "\n",
    "# Create a new figure with specified width and height in inches\n",
    "fig = plt.figure(figsize = (15,20))\n",
    "\n",
    "# Get the current axes instance on the figure (returns a single Axes object)\n",
    "ax = fig.gca()\n",
    "\n",
    "# Select specific columns from dataframe 'df' to use in the model\n",
    "df_model= df[['Volume', 'ATR', 'RSI', 'Average', 'MA40', 'MA80', 'MA160', 'slopeMA40', 'slopeMA80', 'slopeMA160', 'AverageSlope', 'RSISlope', 'mytarget']] \n",
    "\n",
    "# Attempt to plot histograms for each column on a single Axes (this will cause an error)\n",
    "df_model.hist(ax = ax)\n",
    "\n",
    "# Attempt to plot histograms for each column on a single Axes (this will cause an error)\n",
    "plt.show()"
   ]
  },
  {
   "cell_type": "markdown",
   "metadata": {},
   "source": [
    "## 7. Can we use the RSI alone as a trend indicator?"
   ]
  },
  {
   "cell_type": "code",
   "execution_count": 39,
   "metadata": {},
   "outputs": [
    {
     "data": {
      "image/png": "[encoded data removed]",
      "text/plain": [
       "<Figure size 640x480 with 1 Axes>"
      ]
     },
     "metadata": {},
     "output_type": "display_data"
    }
   ],
   "source": [
    "# Import pyplot module from matplotlib for plotting\n",
    "from matplotlib import pyplot\n",
    "\n",
    "# Select RSI values where 'mytarget' equals 2 (up category)\n",
    "df_up=df.RSI[ df['mytarget'] == 2 ]\n",
    "\n",
    "# Select RSI values where 'mytarget' equals 1 (down category)\n",
    "df_down=df.RSI[ df['mytarget'] == 1 ]\n",
    "\n",
    "# Select RSI values where 'mytarget' equals 0 (unclear category)\n",
    "df_unclear=df.RSI[ df['mytarget'] == 0 ]\n",
    "\n",
    "# Plot histogram of unclear RSI values with transparency and label\n",
    "pyplot.hist(df_unclear, bins=100, alpha=0.5, label='unclear')\n",
    "\n",
    "# Plot histogram of down RSI values with transparency and label\n",
    "pyplot.hist(df_down, bins=100, alpha=0.5, label='down')\n",
    "\n",
    "# Plot histogram of up RSI values with transparency and label\n",
    "pyplot.hist(df_up, bins=100, alpha=0.5, label='up')\n",
    "\n",
    "# Add a legend to the plot at the upper right position\n",
    "pyplot.legend(loc='upper right')\n",
    "\n",
    "# Display the plot\n",
    "pyplot.show()"
   ]
  },
  {
   "cell_type": "markdown",
   "metadata": {},
   "source": [
    "## 8. Machine Learning For Trend Prediction\n",
    "\n",
    "* The perfect model with precise prediction\n",
    "* Less perfect model still with > 40% precision\n",
    "* Much less perfect model with precision >35% taking into account our strategy, and our TP/SL ratio\n",
    "* Our target has categorical values so we need a classificator, KNN?"
   ]
  },
  {
   "cell_type": "markdown",
   "metadata": {},
   "source": [
    "## 9. Splitting features and target"
   ]
  },
  {
   "cell_type": "code",
   "execution_count": 41,
   "metadata": {},
   "outputs": [
    {
     "name": "stdout",
     "output_type": "stream",
     "text": [
      "             ATR        RSI    Average         MA40          MA80  \\\n",
      "250    78.181466  67.140532  25210.745  24944.16350  24692.904250   \n",
      "251    77.244695  63.191568  25184.505  24955.26875  24700.551625   \n",
      "252    80.833179  68.075053  25196.090  24967.99375  24710.117750   \n",
      "253    81.117575  71.941792  25282.290  24982.67025  24720.609500   \n",
      "254    83.935206  76.598542  25371.830  25000.54575  24732.124875   \n",
      "...          ...        ...        ...          ...           ...   \n",
      "43803  91.090353  69.054195  42335.695  42048.98780  42151.832200   \n",
      "43804  87.998236  69.358178  42327.075  42053.09400  42152.843750   \n",
      "43805  86.900724  64.238291  42308.439  42055.91060  42152.735950   \n",
      "43806  83.905088  63.018349  42269.933  42057.99770  42153.052000   \n",
      "43807  81.913433  65.102223  42281.451  42060.92050  42153.968050   \n",
      "\n",
      "              MA160  slopeMA40  slopeMA80  slopeMA160  AverageSlope  RSISlope  \n",
      "250    24560.170375  15.068379   8.808432    8.630250     43.786714  1.951786  \n",
      "251    24568.287812  14.810050   8.451361    8.584400     23.206000  0.140177  \n",
      "252    24576.811500  14.157836   8.308604    8.497116     11.392429 -0.412274  \n",
      "253    24586.078875  13.623579   8.511007    8.511509      8.638286 -0.057931  \n",
      "254    24595.624125  13.931936   9.246411    8.709432     26.013429  1.449138  \n",
      "...             ...        ...        ...         ...           ...       ...  \n",
      "43803  41754.676975   3.848543   3.067810    8.523302     30.280800  0.569987  \n",
      "43804  41762.113050   4.260317   2.062740    8.279074     21.895543  0.540131  \n",
      "43805  41769.448900   4.020397   1.306169    7.818535     11.349371 -1.078665  \n",
      "43806  41777.097175   3.485631   0.678123    7.515254     -6.633600 -1.814815  \n",
      "43807  41784.889050   3.078851   0.439453    7.529256    -12.740629 -1.602270  \n",
      "\n",
      "[29355 rows x 11 columns]\n"
     ]
    }
   ],
   "source": [
    "# Remove rows with any missing values from df_model\n",
    "df_model=df_model.dropna()\n",
    "\n",
    "# List of feature column names\n",
    "attributes=['ATR', 'RSI', 'Average', 'MA40', 'MA80', 'MA160', 'slopeMA40', 'slopeMA80', 'slopeMA160', 'AverageSlope', 'RSISlope']\n",
    "\n",
    "# Create feature matrix X by selecting columns from df_model\n",
    "X = df_model[attributes]\n",
    "\n",
    "# Create target vector y from the 'mytarget' column of df_model\n",
    "y = df_model[\"mytarget\"]\n",
    "\n",
    "# Display the feature matrix X\n",
    "print(X)"
   ]
  },
  {
   "cell_type": "code",
   "execution_count": 42,
   "metadata": {},
   "outputs": [],
   "source": [
    "# Import function to split data into training and testing sets\n",
    "from sklearn.model_selection import train_test_split\n",
    "\n",
    "X_train, X_test, y_train, y_test = train_test_split(   # Split features and target into train and test subsets\n",
    "    X,                                                 # Features dataset\n",
    "    y,                                                 # Target variable\n",
    "    test_size=0.2,                                     # 20% of data will be used for testing\n",
    "    random_state=1                                     # Set seed for reproducibility of the split\n",
    ")"
   ]
  },
  {
   "cell_type": "markdown",
   "metadata": {},
   "source": [
    "## 10. Fitting the KNN model"
   ]
  },
  {
   "cell_type": "code",
   "execution_count": 43,
   "metadata": {},
   "outputs": [],
   "source": [
    "# Import K-Nearest Neighbors classifier from sklearn\n",
    "from sklearn.neighbors import KNeighborsClassifier\n",
    "\n",
    "model = KNeighborsClassifier(   # Initialize KNN classifier with specific parameters\n",
    "    n_neighbors=200,            # Use 200 nearest neighbors for classification\n",
    "    weights='uniform',          # All neighbors contribute equally to the vote\n",
    "    algorithm='kd_tree',        # Use kd-tree algorithm for faster nearest neighbor search\n",
    "    leaf_size=30,               # Leaf size for kd-tree\n",
    "    p=1,                        # Use Manhattan distance (L1 norm)\n",
    "    metric='minkowski',         # Distance metric to use (Minkowski includes Manhattan and Euclidean) \n",
    "    metric_params=None,         # Additional parameters for the metric (none here) \n",
    "    n_jobs=1                    # Use one CPU core for computation\n",
    ")\n",
    "\n",
    "# Train the KNN model on the training data\n",
    "model.fit(X_train, y_train)\n",
    "\n",
    "# Predict the target values for training data\n",
    "y_pred_train = model.predict(X_train)\n",
    "\n",
    "# Predict the target values for testing data\n",
    "y_pred_test = model.predict(X_test)"
   ]
  },
  {
   "cell_type": "markdown",
   "metadata": {},
   "source": [
    "## 11. Quick evaluation of our fitting"
   ]
  },
  {
   "cell_type": "code",
   "execution_count": 44,
   "metadata": {},
   "outputs": [
    {
     "name": "stdout",
     "output_type": "stream",
     "text": [
      "Accuracy train: 40.45%\n",
      "Accuracy test: 37.71%\n",
      "mytarget\n",
      "0.0    37.373531\n",
      "2.0    31.762902\n",
      "1.0    30.863567\n",
      "Name: count, dtype: float64\n",
      "Accuracy Gambler: 33.98%\n"
     ]
    }
   ],
   "source": [
    "# Import accuracy_score function to evaluate classification performance\n",
    "from sklearn.metrics import accuracy_score\n",
    "\n",
    "# Calculate accuracy on the training dataset\n",
    "accuracy_train = accuracy_score(y_train, y_pred_train)\n",
    "\n",
    "# Calculate accuracy on the testing dataset\n",
    "accuracy_test = accuracy_score(y_test, y_pred_test)\n",
    "\n",
    "# Print training accuracy as a percentage\n",
    "print(\"Accuracy train: %.2f%%\" % (accuracy_train * 100.0))\n",
    "\n",
    "# Print testing accuracy as a percentage\n",
    "print(\"Accuracy test: %.2f%%\" % (accuracy_test * 100.0))\n",
    "\n",
    "# ----- How should I compare my accuracy ? -------------\n",
    "# Display class distribution percentages in the target column\n",
    "print(df_model['mytarget'].value_counts()*100/df_model['mytarget'].count())\n",
    "\n",
    "# -----Random Model, gambler? --------------------------\n",
    "# Generate random predictions for testing set with equal probability for each class\n",
    "pred_test = np.random.choice([0, 1, 2], len(y_pred_test))\n",
    "\n",
    "# Calculate accuracy of random predictions\n",
    "accuracy_test = accuracy_score(y_test, pred_test)\n",
    "\n",
    "# Print gambler model accuracy as a percentage\n",
    "print(\"Accuracy Gambler: %.2f%%\" % (accuracy_test * 100.0))"
   ]
  },
  {
   "cell_type": "markdown",
   "metadata": {},
   "source": [
    "## 12. More powerful model XGBoost"
   ]
  },
  {
   "cell_type": "code",
   "execution_count": null,
   "metadata": {},
   "outputs": [],
   "source": [
    "# Install the XGBoost library using pip from the command line or notebook cell\n",
    "!pip install xgboost"
   ]
  },
  {
   "cell_type": "code",
   "execution_count": 47,
   "metadata": {},
   "outputs": [
    {
     "name": "stdout",
     "output_type": "stream",
     "text": [
      "****Train Results****\n",
      "Accuracy: 83.5931%\n",
      "****Test Results****\n",
      "Accuracy: 51.7799%\n"
     ]
    }
   ],
   "source": [
    "# Import the XGBoost classifier\n",
    "from xgboost import XGBClassifier\n",
    "\n",
    "# Initialize the XGBoost classifier with default parameters\n",
    "model = XGBClassifier()\n",
    "\n",
    "# Train the model on the training data\n",
    "model.fit(X_train, y_train)\n",
    "\n",
    "# Predict labels for the training data\n",
    "pred_train = model.predict(X_train)\n",
    "\n",
    "# Predict labels for the test data\n",
    "pred_test = model.predict(X_test)\n",
    "\n",
    "# Calculate accuracy on the training data\n",
    "acc_train = accuracy_score(y_train, pred_train)\n",
    "\n",
    "# Calculate accuracy on the test data\n",
    "acc_test = accuracy_score(y_test, pred_test)\n",
    "\n",
    " # Print header for training results\n",
    "print('****Train Results****')\n",
    "\n",
    "# Print training accuracy as a percentage\n",
    "print(\"Accuracy: {:.4%}\".format(acc_train))\n",
    "\n",
    "# Print header for test results\n",
    "print('****Test Results****')\n",
    "\n",
    "# Print test accuracy as a percentage\n",
    "print(\"Accuracy: {:.4%}\".format(acc_test))"
   ]
  },
  {
   "cell_type": "markdown",
   "metadata": {},
   "source": [
    "## 13. Data Sampling Shouldn't Be Random"
   ]
  },
  {
   "cell_type": "code",
   "execution_count": 48,
   "metadata": {},
   "outputs": [
    {
     "name": "stdout",
     "output_type": "stream",
     "text": [
      "****Train Results****\n",
      "Accuracy: 83.6016%\n",
      "****Test Results****\n",
      "Accuracy: 32.0899%\n"
     ]
    }
   ],
   "source": [
    "#random sampling\n",
    "#X_train, X_test, y_train, y_test = train_test_split(X, y, test_size=0.2, random_state=10)\n",
    "\n",
    "# Calculate index to split 80% of data for training\n",
    "train_index = int(0.8 * len(X))\n",
    "\n",
    "# Split features into training and testing sets sequentially\n",
    "X_train, X_test = X[:train_index], X[train_index:]\n",
    "\n",
    "# Split target into training and testing sets sequentially\n",
    "y_train, y_test = y[:train_index], y[train_index:]\n",
    "\n",
    "# Initialize the XGBoost classifier\n",
    "model = XGBClassifier()\n",
    "\n",
    "# Train the model on the sequential training data\n",
    "model.fit(X_train, y_train)\n",
    "\n",
    "# Predict labels for training data\n",
    "pred_train = model.predict(X_train)\n",
    "\n",
    "# Predict labels for testing data\n",
    "pred_test = model.predict(X_test)\n",
    "\n",
    "# Compute training accuracy\n",
    "acc_train = accuracy_score(y_train, pred_train)\n",
    "\n",
    "# Compute testing accuracy\n",
    "acc_test = accuracy_score(y_test, pred_test)\n",
    "\n",
    "# Print header for training results\n",
    "print('****Train Results****')\n",
    "\n",
    "# Print training accuracy as percentage\n",
    "print(\"Accuracy: {:.4%}\".format(acc_train))\n",
    "\n",
    "# Print header for testing results\n",
    "print('****Test Results****')\n",
    "\n",
    "# Print testing accuracy as percentage\n",
    "print(\"Accuracy: {:.4%}\".format(acc_test))"
   ]
  },
  {
   "cell_type": "markdown",
   "metadata": {},
   "source": [
    "## 14. Which features are most important for our model?"
   ]
  },
  {
   "cell_type": "code",
   "execution_count": 15,
   "metadata": {},
   "outputs": [
    {
     "data": {
      "image/png": "[encoded data removed]",
      "text/plain": [
       "<Figure size 432x288 with 1 Axes>"
      ]
     },
     "metadata": {
      "needs_background": "light"
     },
     "output_type": "display_data"
    }
   ],
   "source": [
    "# Import pyplot for plotting\n",
    "from matplotlib import pyplot\n",
    "\n",
    "# Import function to plot feature importance from XGBoost\n",
    "from xgboost import plot_importance\n",
    "\n",
    "# Plot feature importance of the trained model\n",
    "plot_importance(model)\n",
    "\n",
    "# Display the plot\n",
    "pyplot.show()"
   ]
  }
 ],
 "metadata": {
  "kernelspec": {
   "display_name": "Python 3 (ipykernel)",
   "language": "python",
   "name": "python3"
  },
  "language_info": {
   "codemirror_mode": {
    "name": "ipython",
    "version": 3
   },
   "file_extension": ".py",
   "mimetype": "text/x-python",
   "name": "python",
   "nbconvert_exporter": "python",
   "pygments_lexer": "ipython3",
   "version": "3.12.2"
  }
 },
 "nbformat": 4,
 "nbformat_minor": 4
}
