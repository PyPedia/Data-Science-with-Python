{
 "cells": [
  {
   "cell_type": "markdown",
   "id": "c879e297-4cab-4606-85cd-4b96e419a9ef",
   "metadata": {},
   "source": [
    "## What You'll Learn:\n",
    "\n",
    "* What is matrix transpose and why it's important\n",
    "* What is the determinant of a matrix and its significance\n",
    "* How to calculate both using NumPy\n",
    "* Practical examples\n",
    "* How these concepts are used in Machine Learning"
   ]
  },
  {
   "cell_type": "markdown",
   "id": "9ad32e02-aaf2-4d41-9fc2-f714c4a0c875",
   "metadata": {},
   "source": [
    "## Prerequisite: Import NumPy"
   ]
  },
  {
   "cell_type": "code",
   "execution_count": 1,
   "id": "05ee327b-63ec-4ca9-955b-ccc6c57fdf5b",
   "metadata": {},
   "outputs": [],
   "source": [
    "import numpy as np"
   ]
  },
  {
   "cell_type": "markdown",
   "id": "b8235777-691c-4e1b-bd96-ee514165006c",
   "metadata": {},
   "source": [
    "## PART 1: Matrix Transpose\n",
    "\n",
    "**What is Transpose?**\n",
    "\n",
    "The transpose of a matrix flips it over its diagonal. That means:\n",
    "\n",
    "* Rows become columns\n",
    "* Columns become rows\n",
    "\n",
    "Mathematically, if matrix A is:\n",
    "\n",
    "$$ A= \\begin{bmatrix}\n",
    "1 & 2 \\\\\n",
    "3 & 4\n",
    "\\end{bmatrix}\n",
    "$$\n",
    "\n",
    "Then, its transpose Aᵗ is:\n",
    "\n",
    "$$ A^{T}= \\begin{bmatrix}\n",
    "1 & 3 \\\\\n",
    "2 & 4\n",
    "\\end{bmatrix}\n",
    "$$"
   ]
  },
  {
   "cell_type": "markdown",
   "id": "cca80f29-d334-4ddc-97f4-bc5730d7e153",
   "metadata": {},
   "source": [
    "**Code Example**"
   ]
  },
  {
   "cell_type": "code",
   "execution_count": 2,
   "id": "b0cf49c2-d9b8-4185-b932-15b5bb9f8ffa",
   "metadata": {},
   "outputs": [
    {
     "name": "stdout",
     "output_type": "stream",
     "text": [
      "Original Matrix A:\n",
      " [[1 2]\n",
      " [3 4]]\n"
     ]
    }
   ],
   "source": [
    "# Original matrix\n",
    "A = np.array([[1, 2], [3, 4]])\n",
    "print(\"Original Matrix A:\\n\", A)"
   ]
  },
  {
   "cell_type": "code",
   "execution_count": 3,
   "id": "df9d83dd-bb94-4228-9417-157bb7f8e4d2",
   "metadata": {},
   "outputs": [
    {
     "name": "stdout",
     "output_type": "stream",
     "text": [
      "Transposed Matrix A^T:\n",
      " [[1 3]\n",
      " [2 4]]\n"
     ]
    }
   ],
   "source": [
    "# Transpose\n",
    "A_transposed = A.T\n",
    "print(\"Transposed Matrix A^T:\\n\", A_transposed)"
   ]
  },
  {
   "cell_type": "markdown",
   "id": "eb7ed70f-091f-4f70-b303-016e1fdd8dde",
   "metadata": {},
   "source": [
    "## PART 2: Determinant of a Matrix\n",
    "\n",
    "**What is a Determinant?**\n",
    "\n",
    "The determinant is a **scalar** value that tells you about:\n",
    "\n",
    "* Whether the matrix is **invertible** (non-zero determinant)\n",
    "* The **volume scaling factor** of the transformation\n",
    "* If rows/columns are **linearly independent**\n",
    "\n",
    "For a 2x2 matrix:\n",
    "\n",
    "$$A= \\begin{bmatrix}\n",
    "a & b \\\\\n",
    "c & d\n",
    "\\end{bmatrix}\n",
    "$$\n",
    "\n",
    "Determinant is:\n",
    "\n",
    "$$det(A)=ad-bc$$"
   ]
  },
  {
   "cell_type": "markdown",
   "id": "1846af52-17b8-4c4a-aaf3-af2265042975",
   "metadata": {},
   "source": [
    "**Code Example**"
   ]
  },
  {
   "cell_type": "code",
   "execution_count": 5,
   "id": "7abc38cb-f27c-4ce7-88fe-9439afa1eebc",
   "metadata": {},
   "outputs": [
    {
     "name": "stdout",
     "output_type": "stream",
     "text": [
      "Matrix B:\n",
      " [[4 6]\n",
      " [3 8]]\n"
     ]
    }
   ],
   "source": [
    "# Matrix\n",
    "B = np.array([[4, 6], [3, 8]])\n",
    "print(\"Matrix B:\\n\", B)"
   ]
  },
  {
   "cell_type": "code",
   "execution_count": 6,
   "id": "234f1466-4221-4d8d-a646-8c9b324767c7",
   "metadata": {},
   "outputs": [
    {
     "name": "stdout",
     "output_type": "stream",
     "text": [
      "Determinant of B: 14.000000000000004\n"
     ]
    }
   ],
   "source": [
    "# Determinant\n",
    "det_B = np.linalg.det(B)\n",
    "print(\"Determinant of B:\", det_B)"
   ]
  },
  {
   "cell_type": "markdown",
   "id": "73d36558-ac55-4a34-95cf-90c9582765dc",
   "metadata": {},
   "source": [
    "## Practical Example in ML: Normal Equation\n",
    "\n",
    "Let’s say you are solving Linear Regression using the Normal Equation:\n",
    "\n",
    "$$ \\theta=\\left( X^{T}X \\right)^{-1}X^{T}y $$"
   ]
  },
  {
   "cell_type": "markdown",
   "id": "f9274e2b-2ffe-4fa7-a934-a5d138a44354",
   "metadata": {},
   "source": [
    "**Code Example:**"
   ]
  },
  {
   "cell_type": "code",
   "execution_count": 7,
   "id": "ba1ed0c4-d892-40ae-8be3-c84a60f55add",
   "metadata": {},
   "outputs": [
    {
     "name": "stdout",
     "output_type": "stream",
     "text": [
      "Determinant of X^T X: 6.0\n",
      "Parameters θ: [-1.77635684e-15  1.00000000e+00]\n"
     ]
    }
   ],
   "source": [
    "# Feature matrix X and target y\n",
    "X = np.array([[1, 1], [1, 2], [1, 3]])\n",
    "y = np.array([1, 2, 3])\n",
    "\n",
    "# Compute Transpose of X\n",
    "X_T = X.T\n",
    "\n",
    "# Compute X^T X\n",
    "XTX = X_T @ X\n",
    "\n",
    "# Check determinant before inverse\n",
    "print(\"Determinant of X^T X:\", np.linalg.det(XTX))\n",
    "\n",
    "# Inverse of X^T X\n",
    "XTX_inv = np.linalg.inv(XTX)\n",
    "\n",
    "# Compute parameters theta\n",
    "theta = XTX_inv @ X_T @ y\n",
    "print(\"Parameters θ:\", theta)"
   ]
  },
  {
   "cell_type": "markdown",
   "id": "2daa2ef1-dbd5-41b2-9233-41c82e4e2c0a",
   "metadata": {},
   "source": [
    "This tells us that y = 1*x + 0, which perfectly fits our input data!"
   ]
  },
  {
   "cell_type": "markdown",
   "id": "44fce634-6035-4ace-82e5-3443e7486bb9",
   "metadata": {},
   "source": [
    "##  Summary Table\n",
    "\n",
    "| Operation | NumPy Function | Use Case |\n",
    "| --- | --- | --- |\n",
    "| Transpose | A.T | Shape alignment, Linear Algebra |\n",
    "| Determinant | np.linalg.det(A) | Inverse check, ML transformations |\n",
    "| Inverse (extra) | np.linalg.inv(A) | Used in solving linear systems |"
   ]
  }
 ],
 "metadata": {
  "kernelspec": {
   "display_name": "Python 3 (ipykernel)",
   "language": "python",
   "name": "python3"
  },
  "language_info": {
   "codemirror_mode": {
    "name": "ipython",
    "version": 3
   },
   "file_extension": ".py",
   "mimetype": "text/x-python",
   "name": "python",
   "nbconvert_exporter": "python",
   "pygments_lexer": "ipython3",
   "version": "3.12.2"
  }
 },
 "nbformat": 4,
 "nbformat_minor": 5
}
